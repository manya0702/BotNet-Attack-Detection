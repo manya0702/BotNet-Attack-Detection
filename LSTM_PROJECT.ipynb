{
  "cells": [
    {
      "cell_type": "code",
      "source": [
        "from google.colab import drive\n",
        "drive.mount('/content/drive')"
      ],
      "metadata": {
        "colab": {
          "base_uri": "https://localhost:8080/"
        },
        "id": "64fRHHU_llL-",
        "outputId": "430a662f-98aa-498a-dd90-8e66dd3fde9f"
      },
      "id": "64fRHHU_llL-",
      "execution_count": null,
      "outputs": [
        {
          "output_type": "stream",
          "name": "stdout",
          "text": [
            "Mounted at /content/drive\n"
          ]
        }
      ]
    },
    {
      "cell_type": "code",
      "execution_count": null,
      "id": "ce9cce7f",
      "metadata": {
        "id": "ce9cce7f"
      },
      "outputs": [],
      "source": [
        "import pandas as pd\n",
        "import numpy as np\n",
        "import matplotlib.pyplot as plt\n",
        "import seaborn as sns\n",
        "import pickle"
      ]
    },
    {
      "cell_type": "markdown",
      "id": "lM-wyrftd-D3",
      "metadata": {
        "id": "lM-wyrftd-D3"
      },
      "source": [
        "## DATA PREPROCESSING"
      ]
    },
    {
      "cell_type": "code",
      "execution_count": null,
      "id": "252c4d74",
      "metadata": {
        "id": "252c4d74",
        "scrolled": true
      },
      "outputs": [],
      "source": [
        "data = pd.read_csv('/content/drive/MyDrive/LSTM/X_train.csv')"
      ]
    },
    {
      "cell_type": "code",
      "execution_count": null,
      "id": "LLsAE7nWLIOg",
      "metadata": {
        "colab": {
          "base_uri": "https://localhost:8080/"
        },
        "id": "LLsAE7nWLIOg",
        "outputId": "c36837cf-562a-4d59-f946-66c5215dee7d"
      },
      "outputs": [
        {
          "output_type": "execute_result",
          "data": {
            "text/plain": [
              "Index(['Unnamed: 0', 'IPV4_SRC_ADDR', 'L4_SRC_PORT', 'IPV4_DST_ADDR',\n",
              "       'L4_DST_PORT', 'PROTOCOL', 'L7_PROTO', 'IN_BYTES', 'OUT_BYTES',\n",
              "       'IN_PKTS', 'OUT_PKTS', 'TCP_FLAGS', 'FLOW_DURATION_MILLISECONDS',\n",
              "       'Label', 'Attack'],\n",
              "      dtype='object')"
            ]
          },
          "metadata": {},
          "execution_count": 5
        }
      ],
      "source": [
        "data.columns"
      ]
    },
    {
      "cell_type": "code",
      "execution_count": null,
      "id": "ZJTs95_gLKaX",
      "metadata": {
        "colab": {
          "base_uri": "https://localhost:8080/"
        },
        "id": "ZJTs95_gLKaX",
        "outputId": "f4c82640-eed4-4125-c34a-d2395d5ea625"
      },
      "outputs": [
        {
          "output_type": "execute_result",
          "data": {
            "text/plain": [
              "array(['Reconnaissance', 'DDoS', 'DoS', 'Benign', 'Theft'], dtype=object)"
            ]
          },
          "metadata": {},
          "execution_count": 6
        }
      ],
      "source": [
        "data['Attack'].unique()"
      ]
    },
    {
      "cell_type": "code",
      "execution_count": null,
      "id": "lEywu8D7kM31",
      "metadata": {
        "colab": {
          "base_uri": "https://localhost:8080/"
        },
        "id": "lEywu8D7kM31",
        "outputId": "581c813a-0bb2-475b-f89c-39b20569de27"
      },
      "outputs": [
        {
          "output_type": "execute_result",
          "data": {
            "text/plain": [
              "(480080, 15)"
            ]
          },
          "metadata": {},
          "execution_count": 7
        }
      ],
      "source": [
        "data.shape"
      ]
    },
    {
      "cell_type": "code",
      "execution_count": null,
      "id": "fe43370e",
      "metadata": {
        "colab": {
          "base_uri": "https://localhost:8080/",
          "height": 400
        },
        "id": "fe43370e",
        "outputId": "c327ecdf-d308-443d-de91-9f60b16df6c6"
      },
      "outputs": [
        {
          "output_type": "execute_result",
          "data": {
            "text/plain": [
              "   Unnamed: 0    IPV4_SRC_ADDR  L4_SRC_PORT  IPV4_DST_ADDR  L4_DST_PORT  \\\n",
              "0      380652  192.168.100.150        42209  192.168.100.7         7676   \n",
              "1      562516  192.168.100.149        39730  192.168.100.3           80   \n",
              "2      441478  192.168.100.147        51614  192.168.100.3         1062   \n",
              "3      585711  192.168.100.147        54962  192.168.100.3           80   \n",
              "4      144822  192.168.100.150        59416  192.168.100.3          366   \n",
              "5       34556  192.168.100.148        55328  192.168.100.7           80   \n",
              "6       87872  192.168.100.148        55499  192.168.100.7         8007   \n",
              "7      124441  192.168.100.150        14441  192.168.100.3        12163   \n",
              "8      559285  192.168.100.149        37532  192.168.100.3           80   \n",
              "9       18037  192.168.100.149        56704  192.168.100.7           80   \n",
              "\n",
              "   PROTOCOL  L7_PROTO  IN_BYTES  OUT_BYTES  IN_PKTS  OUT_PKTS  TCP_FLAGS  \\\n",
              "0         6       0.0        44         40        1         1         22   \n",
              "1         6       7.0       816        718        6         4         30   \n",
              "2         6       0.0        44         40        1         1         22   \n",
              "3         6       7.0       756        770        7         5         31   \n",
              "4         6       0.0        44         40        1         1         22   \n",
              "5         6       7.0       819       1340        5         4         27   \n",
              "6         6       0.0        44         40        1         1         22   \n",
              "7         6       0.0        40         40        1         1         22   \n",
              "8         6       7.0       837        770        7         5         31   \n",
              "9         6       7.0       649       1340        5         4         27   \n",
              "\n",
              "   FLOW_DURATION_MILLISECONDS  Label          Attack  \n",
              "0                     4294966      1  Reconnaissance  \n",
              "1                           0      1            DDoS  \n",
              "2                     4294967      1  Reconnaissance  \n",
              "3                           0      1            DDoS  \n",
              "4                     4294967      1  Reconnaissance  \n",
              "5                     4260383      1            DDoS  \n",
              "6                     4294966      1  Reconnaissance  \n",
              "7                     4294967      1  Reconnaissance  \n",
              "8                           0      1            DDoS  \n",
              "9                     4262755      1             DoS  "
            ],
            "text/html": [
              "\n",
              "  <div id=\"df-ea32c5de-0043-456b-989c-23585c4ad59a\" class=\"colab-df-container\">\n",
              "    <div>\n",
              "<style scoped>\n",
              "    .dataframe tbody tr th:only-of-type {\n",
              "        vertical-align: middle;\n",
              "    }\n",
              "\n",
              "    .dataframe tbody tr th {\n",
              "        vertical-align: top;\n",
              "    }\n",
              "\n",
              "    .dataframe thead th {\n",
              "        text-align: right;\n",
              "    }\n",
              "</style>\n",
              "<table border=\"1\" class=\"dataframe\">\n",
              "  <thead>\n",
              "    <tr style=\"text-align: right;\">\n",
              "      <th></th>\n",
              "      <th>Unnamed: 0</th>\n",
              "      <th>IPV4_SRC_ADDR</th>\n",
              "      <th>L4_SRC_PORT</th>\n",
              "      <th>IPV4_DST_ADDR</th>\n",
              "      <th>L4_DST_PORT</th>\n",
              "      <th>PROTOCOL</th>\n",
              "      <th>L7_PROTO</th>\n",
              "      <th>IN_BYTES</th>\n",
              "      <th>OUT_BYTES</th>\n",
              "      <th>IN_PKTS</th>\n",
              "      <th>OUT_PKTS</th>\n",
              "      <th>TCP_FLAGS</th>\n",
              "      <th>FLOW_DURATION_MILLISECONDS</th>\n",
              "      <th>Label</th>\n",
              "      <th>Attack</th>\n",
              "    </tr>\n",
              "  </thead>\n",
              "  <tbody>\n",
              "    <tr>\n",
              "      <th>0</th>\n",
              "      <td>380652</td>\n",
              "      <td>192.168.100.150</td>\n",
              "      <td>42209</td>\n",
              "      <td>192.168.100.7</td>\n",
              "      <td>7676</td>\n",
              "      <td>6</td>\n",
              "      <td>0.0</td>\n",
              "      <td>44</td>\n",
              "      <td>40</td>\n",
              "      <td>1</td>\n",
              "      <td>1</td>\n",
              "      <td>22</td>\n",
              "      <td>4294966</td>\n",
              "      <td>1</td>\n",
              "      <td>Reconnaissance</td>\n",
              "    </tr>\n",
              "    <tr>\n",
              "      <th>1</th>\n",
              "      <td>562516</td>\n",
              "      <td>192.168.100.149</td>\n",
              "      <td>39730</td>\n",
              "      <td>192.168.100.3</td>\n",
              "      <td>80</td>\n",
              "      <td>6</td>\n",
              "      <td>7.0</td>\n",
              "      <td>816</td>\n",
              "      <td>718</td>\n",
              "      <td>6</td>\n",
              "      <td>4</td>\n",
              "      <td>30</td>\n",
              "      <td>0</td>\n",
              "      <td>1</td>\n",
              "      <td>DDoS</td>\n",
              "    </tr>\n",
              "    <tr>\n",
              "      <th>2</th>\n",
              "      <td>441478</td>\n",
              "      <td>192.168.100.147</td>\n",
              "      <td>51614</td>\n",
              "      <td>192.168.100.3</td>\n",
              "      <td>1062</td>\n",
              "      <td>6</td>\n",
              "      <td>0.0</td>\n",
              "      <td>44</td>\n",
              "      <td>40</td>\n",
              "      <td>1</td>\n",
              "      <td>1</td>\n",
              "      <td>22</td>\n",
              "      <td>4294967</td>\n",
              "      <td>1</td>\n",
              "      <td>Reconnaissance</td>\n",
              "    </tr>\n",
              "    <tr>\n",
              "      <th>3</th>\n",
              "      <td>585711</td>\n",
              "      <td>192.168.100.147</td>\n",
              "      <td>54962</td>\n",
              "      <td>192.168.100.3</td>\n",
              "      <td>80</td>\n",
              "      <td>6</td>\n",
              "      <td>7.0</td>\n",
              "      <td>756</td>\n",
              "      <td>770</td>\n",
              "      <td>7</td>\n",
              "      <td>5</td>\n",
              "      <td>31</td>\n",
              "      <td>0</td>\n",
              "      <td>1</td>\n",
              "      <td>DDoS</td>\n",
              "    </tr>\n",
              "    <tr>\n",
              "      <th>4</th>\n",
              "      <td>144822</td>\n",
              "      <td>192.168.100.150</td>\n",
              "      <td>59416</td>\n",
              "      <td>192.168.100.3</td>\n",
              "      <td>366</td>\n",
              "      <td>6</td>\n",
              "      <td>0.0</td>\n",
              "      <td>44</td>\n",
              "      <td>40</td>\n",
              "      <td>1</td>\n",
              "      <td>1</td>\n",
              "      <td>22</td>\n",
              "      <td>4294967</td>\n",
              "      <td>1</td>\n",
              "      <td>Reconnaissance</td>\n",
              "    </tr>\n",
              "    <tr>\n",
              "      <th>5</th>\n",
              "      <td>34556</td>\n",
              "      <td>192.168.100.148</td>\n",
              "      <td>55328</td>\n",
              "      <td>192.168.100.7</td>\n",
              "      <td>80</td>\n",
              "      <td>6</td>\n",
              "      <td>7.0</td>\n",
              "      <td>819</td>\n",
              "      <td>1340</td>\n",
              "      <td>5</td>\n",
              "      <td>4</td>\n",
              "      <td>27</td>\n",
              "      <td>4260383</td>\n",
              "      <td>1</td>\n",
              "      <td>DDoS</td>\n",
              "    </tr>\n",
              "    <tr>\n",
              "      <th>6</th>\n",
              "      <td>87872</td>\n",
              "      <td>192.168.100.148</td>\n",
              "      <td>55499</td>\n",
              "      <td>192.168.100.7</td>\n",
              "      <td>8007</td>\n",
              "      <td>6</td>\n",
              "      <td>0.0</td>\n",
              "      <td>44</td>\n",
              "      <td>40</td>\n",
              "      <td>1</td>\n",
              "      <td>1</td>\n",
              "      <td>22</td>\n",
              "      <td>4294966</td>\n",
              "      <td>1</td>\n",
              "      <td>Reconnaissance</td>\n",
              "    </tr>\n",
              "    <tr>\n",
              "      <th>7</th>\n",
              "      <td>124441</td>\n",
              "      <td>192.168.100.150</td>\n",
              "      <td>14441</td>\n",
              "      <td>192.168.100.3</td>\n",
              "      <td>12163</td>\n",
              "      <td>6</td>\n",
              "      <td>0.0</td>\n",
              "      <td>40</td>\n",
              "      <td>40</td>\n",
              "      <td>1</td>\n",
              "      <td>1</td>\n",
              "      <td>22</td>\n",
              "      <td>4294967</td>\n",
              "      <td>1</td>\n",
              "      <td>Reconnaissance</td>\n",
              "    </tr>\n",
              "    <tr>\n",
              "      <th>8</th>\n",
              "      <td>559285</td>\n",
              "      <td>192.168.100.149</td>\n",
              "      <td>37532</td>\n",
              "      <td>192.168.100.3</td>\n",
              "      <td>80</td>\n",
              "      <td>6</td>\n",
              "      <td>7.0</td>\n",
              "      <td>837</td>\n",
              "      <td>770</td>\n",
              "      <td>7</td>\n",
              "      <td>5</td>\n",
              "      <td>31</td>\n",
              "      <td>0</td>\n",
              "      <td>1</td>\n",
              "      <td>DDoS</td>\n",
              "    </tr>\n",
              "    <tr>\n",
              "      <th>9</th>\n",
              "      <td>18037</td>\n",
              "      <td>192.168.100.149</td>\n",
              "      <td>56704</td>\n",
              "      <td>192.168.100.7</td>\n",
              "      <td>80</td>\n",
              "      <td>6</td>\n",
              "      <td>7.0</td>\n",
              "      <td>649</td>\n",
              "      <td>1340</td>\n",
              "      <td>5</td>\n",
              "      <td>4</td>\n",
              "      <td>27</td>\n",
              "      <td>4262755</td>\n",
              "      <td>1</td>\n",
              "      <td>DoS</td>\n",
              "    </tr>\n",
              "  </tbody>\n",
              "</table>\n",
              "</div>\n",
              "    <div class=\"colab-df-buttons\">\n",
              "\n",
              "  <div class=\"colab-df-container\">\n",
              "    <button class=\"colab-df-convert\" onclick=\"convertToInteractive('df-ea32c5de-0043-456b-989c-23585c4ad59a')\"\n",
              "            title=\"Convert this dataframe to an interactive table.\"\n",
              "            style=\"display:none;\">\n",
              "\n",
              "  <svg xmlns=\"http://www.w3.org/2000/svg\" height=\"24px\" viewBox=\"0 -960 960 960\">\n",
              "    <path d=\"M120-120v-720h720v720H120Zm60-500h600v-160H180v160Zm220 220h160v-160H400v160Zm0 220h160v-160H400v160ZM180-400h160v-160H180v160Zm440 0h160v-160H620v160ZM180-180h160v-160H180v160Zm440 0h160v-160H620v160Z\"/>\n",
              "  </svg>\n",
              "    </button>\n",
              "\n",
              "  <style>\n",
              "    .colab-df-container {\n",
              "      display:flex;\n",
              "      gap: 12px;\n",
              "    }\n",
              "\n",
              "    .colab-df-convert {\n",
              "      background-color: #E8F0FE;\n",
              "      border: none;\n",
              "      border-radius: 50%;\n",
              "      cursor: pointer;\n",
              "      display: none;\n",
              "      fill: #1967D2;\n",
              "      height: 32px;\n",
              "      padding: 0 0 0 0;\n",
              "      width: 32px;\n",
              "    }\n",
              "\n",
              "    .colab-df-convert:hover {\n",
              "      background-color: #E2EBFA;\n",
              "      box-shadow: 0px 1px 2px rgba(60, 64, 67, 0.3), 0px 1px 3px 1px rgba(60, 64, 67, 0.15);\n",
              "      fill: #174EA6;\n",
              "    }\n",
              "\n",
              "    .colab-df-buttons div {\n",
              "      margin-bottom: 4px;\n",
              "    }\n",
              "\n",
              "    [theme=dark] .colab-df-convert {\n",
              "      background-color: #3B4455;\n",
              "      fill: #D2E3FC;\n",
              "    }\n",
              "\n",
              "    [theme=dark] .colab-df-convert:hover {\n",
              "      background-color: #434B5C;\n",
              "      box-shadow: 0px 1px 3px 1px rgba(0, 0, 0, 0.15);\n",
              "      filter: drop-shadow(0px 1px 2px rgba(0, 0, 0, 0.3));\n",
              "      fill: #FFFFFF;\n",
              "    }\n",
              "  </style>\n",
              "\n",
              "    <script>\n",
              "      const buttonEl =\n",
              "        document.querySelector('#df-ea32c5de-0043-456b-989c-23585c4ad59a button.colab-df-convert');\n",
              "      buttonEl.style.display =\n",
              "        google.colab.kernel.accessAllowed ? 'block' : 'none';\n",
              "\n",
              "      async function convertToInteractive(key) {\n",
              "        const element = document.querySelector('#df-ea32c5de-0043-456b-989c-23585c4ad59a');\n",
              "        const dataTable =\n",
              "          await google.colab.kernel.invokeFunction('convertToInteractive',\n",
              "                                                    [key], {});\n",
              "        if (!dataTable) return;\n",
              "\n",
              "        const docLinkHtml = 'Like what you see? Visit the ' +\n",
              "          '<a target=\"_blank\" href=https://colab.research.google.com/notebooks/data_table.ipynb>data table notebook</a>'\n",
              "          + ' to learn more about interactive tables.';\n",
              "        element.innerHTML = '';\n",
              "        dataTable['output_type'] = 'display_data';\n",
              "        await google.colab.output.renderOutput(dataTable, element);\n",
              "        const docLink = document.createElement('div');\n",
              "        docLink.innerHTML = docLinkHtml;\n",
              "        element.appendChild(docLink);\n",
              "      }\n",
              "    </script>\n",
              "  </div>\n",
              "\n",
              "\n",
              "<div id=\"df-4ed87896-15f2-44db-9499-b3489eabba52\">\n",
              "  <button class=\"colab-df-quickchart\" onclick=\"quickchart('df-4ed87896-15f2-44db-9499-b3489eabba52')\"\n",
              "            title=\"Suggest charts.\"\n",
              "            style=\"display:none;\">\n",
              "\n",
              "<svg xmlns=\"http://www.w3.org/2000/svg\" height=\"24px\"viewBox=\"0 0 24 24\"\n",
              "     width=\"24px\">\n",
              "    <g>\n",
              "        <path d=\"M19 3H5c-1.1 0-2 .9-2 2v14c0 1.1.9 2 2 2h14c1.1 0 2-.9 2-2V5c0-1.1-.9-2-2-2zM9 17H7v-7h2v7zm4 0h-2V7h2v10zm4 0h-2v-4h2v4z\"/>\n",
              "    </g>\n",
              "</svg>\n",
              "  </button>\n",
              "\n",
              "<style>\n",
              "  .colab-df-quickchart {\n",
              "      --bg-color: #E8F0FE;\n",
              "      --fill-color: #1967D2;\n",
              "      --hover-bg-color: #E2EBFA;\n",
              "      --hover-fill-color: #174EA6;\n",
              "      --disabled-fill-color: #AAA;\n",
              "      --disabled-bg-color: #DDD;\n",
              "  }\n",
              "\n",
              "  [theme=dark] .colab-df-quickchart {\n",
              "      --bg-color: #3B4455;\n",
              "      --fill-color: #D2E3FC;\n",
              "      --hover-bg-color: #434B5C;\n",
              "      --hover-fill-color: #FFFFFF;\n",
              "      --disabled-bg-color: #3B4455;\n",
              "      --disabled-fill-color: #666;\n",
              "  }\n",
              "\n",
              "  .colab-df-quickchart {\n",
              "    background-color: var(--bg-color);\n",
              "    border: none;\n",
              "    border-radius: 50%;\n",
              "    cursor: pointer;\n",
              "    display: none;\n",
              "    fill: var(--fill-color);\n",
              "    height: 32px;\n",
              "    padding: 0;\n",
              "    width: 32px;\n",
              "  }\n",
              "\n",
              "  .colab-df-quickchart:hover {\n",
              "    background-color: var(--hover-bg-color);\n",
              "    box-shadow: 0 1px 2px rgba(60, 64, 67, 0.3), 0 1px 3px 1px rgba(60, 64, 67, 0.15);\n",
              "    fill: var(--button-hover-fill-color);\n",
              "  }\n",
              "\n",
              "  .colab-df-quickchart-complete:disabled,\n",
              "  .colab-df-quickchart-complete:disabled:hover {\n",
              "    background-color: var(--disabled-bg-color);\n",
              "    fill: var(--disabled-fill-color);\n",
              "    box-shadow: none;\n",
              "  }\n",
              "\n",
              "  .colab-df-spinner {\n",
              "    border: 2px solid var(--fill-color);\n",
              "    border-color: transparent;\n",
              "    border-bottom-color: var(--fill-color);\n",
              "    animation:\n",
              "      spin 1s steps(1) infinite;\n",
              "  }\n",
              "\n",
              "  @keyframes spin {\n",
              "    0% {\n",
              "      border-color: transparent;\n",
              "      border-bottom-color: var(--fill-color);\n",
              "      border-left-color: var(--fill-color);\n",
              "    }\n",
              "    20% {\n",
              "      border-color: transparent;\n",
              "      border-left-color: var(--fill-color);\n",
              "      border-top-color: var(--fill-color);\n",
              "    }\n",
              "    30% {\n",
              "      border-color: transparent;\n",
              "      border-left-color: var(--fill-color);\n",
              "      border-top-color: var(--fill-color);\n",
              "      border-right-color: var(--fill-color);\n",
              "    }\n",
              "    40% {\n",
              "      border-color: transparent;\n",
              "      border-right-color: var(--fill-color);\n",
              "      border-top-color: var(--fill-color);\n",
              "    }\n",
              "    60% {\n",
              "      border-color: transparent;\n",
              "      border-right-color: var(--fill-color);\n",
              "    }\n",
              "    80% {\n",
              "      border-color: transparent;\n",
              "      border-right-color: var(--fill-color);\n",
              "      border-bottom-color: var(--fill-color);\n",
              "    }\n",
              "    90% {\n",
              "      border-color: transparent;\n",
              "      border-bottom-color: var(--fill-color);\n",
              "    }\n",
              "  }\n",
              "</style>\n",
              "\n",
              "  <script>\n",
              "    async function quickchart(key) {\n",
              "      const quickchartButtonEl =\n",
              "        document.querySelector('#' + key + ' button');\n",
              "      quickchartButtonEl.disabled = true;  // To prevent multiple clicks.\n",
              "      quickchartButtonEl.classList.add('colab-df-spinner');\n",
              "      try {\n",
              "        const charts = await google.colab.kernel.invokeFunction(\n",
              "            'suggestCharts', [key], {});\n",
              "      } catch (error) {\n",
              "        console.error('Error during call to suggestCharts:', error);\n",
              "      }\n",
              "      quickchartButtonEl.classList.remove('colab-df-spinner');\n",
              "      quickchartButtonEl.classList.add('colab-df-quickchart-complete');\n",
              "    }\n",
              "    (() => {\n",
              "      let quickchartButtonEl =\n",
              "        document.querySelector('#df-4ed87896-15f2-44db-9499-b3489eabba52 button');\n",
              "      quickchartButtonEl.style.display =\n",
              "        google.colab.kernel.accessAllowed ? 'block' : 'none';\n",
              "    })();\n",
              "  </script>\n",
              "</div>\n",
              "    </div>\n",
              "  </div>\n"
            ]
          },
          "metadata": {},
          "execution_count": 8
        }
      ],
      "source": [
        "data.head(10)"
      ]
    },
    {
      "cell_type": "code",
      "source": [
        "data = data.sort_values(by='FLOW_DURATION_MILLISECONDS', ascending=True)\n",
        "data"
      ],
      "metadata": {
        "colab": {
          "base_uri": "https://localhost:8080/",
          "height": 461
        },
        "id": "zH98SOe2HmSe",
        "outputId": "228451df-073b-42db-ce73-c3e10a6677c8"
      },
      "id": "zH98SOe2HmSe",
      "execution_count": null,
      "outputs": [
        {
          "output_type": "execute_result",
          "data": {
            "text/plain": [
              "        Unnamed: 0    IPV4_SRC_ADDR  L4_SRC_PORT  IPV4_DST_ADDR  L4_DST_PORT  \\\n",
              "118313      490143  192.168.100.149        33163  192.168.100.3        40116   \n",
              "69035       471906  192.168.100.149        36228  192.168.100.3        20872   \n",
              "313489       39758  192.168.100.148        56742  192.168.100.7           80   \n",
              "167853      485997  192.168.100.148        40726  192.168.100.3        20164   \n",
              "167854      587117  192.168.100.148        41364  192.168.100.3           80   \n",
              "...            ...              ...          ...            ...          ...   \n",
              "230531      124471  192.168.100.147        14068  192.168.100.3        12168   \n",
              "230532      154464  192.168.100.150        51392  192.168.100.6         5101   \n",
              "230533      377048  192.168.100.150        35964  192.168.100.6         5269   \n",
              "230535      394416  192.168.100.150        52217  192.168.100.6         1062   \n",
              "480079      492387  192.168.100.150        41616  192.168.100.3        27352   \n",
              "\n",
              "        PROTOCOL  L7_PROTO  IN_BYTES  OUT_BYTES  IN_PKTS  OUT_PKTS  TCP_FLAGS  \\\n",
              "118313        17       0.0        28          0        1         0          0   \n",
              "69035         17       0.0        28          0        1         0          0   \n",
              "313489         6       7.0        52          0        1         0         20   \n",
              "167853        17       0.0        28          0        1         0          0   \n",
              "167854         6       7.0       759        770        7         5         31   \n",
              "...          ...       ...       ...        ...      ...       ...        ...   \n",
              "230531         6       0.0        40         40        1         1         22   \n",
              "230532         6       0.0        44         40        1         1         22   \n",
              "230533         6       0.0        44         40        1         1         22   \n",
              "230535         6       0.0        44         40        1         1         22   \n",
              "480079         6       0.0        60         40        1         1         22   \n",
              "\n",
              "        FLOW_DURATION_MILLISECONDS  Label          Attack  \n",
              "118313                           0      1  Reconnaissance  \n",
              "69035                            0      1  Reconnaissance  \n",
              "313489                           0      1            DDoS  \n",
              "167853                           0      1  Reconnaissance  \n",
              "167854                           0      1  Reconnaissance  \n",
              "...                            ...    ...             ...  \n",
              "230531                     4294967      1  Reconnaissance  \n",
              "230532                     4294967      1  Reconnaissance  \n",
              "230533                     4294967      1  Reconnaissance  \n",
              "230535                     4294967      1  Reconnaissance  \n",
              "480079                     4294967      1  Reconnaissance  \n",
              "\n",
              "[480080 rows x 15 columns]"
            ],
            "text/html": [
              "\n",
              "  <div id=\"df-3646c641-1be9-4271-ba36-bb520c885b54\" class=\"colab-df-container\">\n",
              "    <div>\n",
              "<style scoped>\n",
              "    .dataframe tbody tr th:only-of-type {\n",
              "        vertical-align: middle;\n",
              "    }\n",
              "\n",
              "    .dataframe tbody tr th {\n",
              "        vertical-align: top;\n",
              "    }\n",
              "\n",
              "    .dataframe thead th {\n",
              "        text-align: right;\n",
              "    }\n",
              "</style>\n",
              "<table border=\"1\" class=\"dataframe\">\n",
              "  <thead>\n",
              "    <tr style=\"text-align: right;\">\n",
              "      <th></th>\n",
              "      <th>Unnamed: 0</th>\n",
              "      <th>IPV4_SRC_ADDR</th>\n",
              "      <th>L4_SRC_PORT</th>\n",
              "      <th>IPV4_DST_ADDR</th>\n",
              "      <th>L4_DST_PORT</th>\n",
              "      <th>PROTOCOL</th>\n",
              "      <th>L7_PROTO</th>\n",
              "      <th>IN_BYTES</th>\n",
              "      <th>OUT_BYTES</th>\n",
              "      <th>IN_PKTS</th>\n",
              "      <th>OUT_PKTS</th>\n",
              "      <th>TCP_FLAGS</th>\n",
              "      <th>FLOW_DURATION_MILLISECONDS</th>\n",
              "      <th>Label</th>\n",
              "      <th>Attack</th>\n",
              "    </tr>\n",
              "  </thead>\n",
              "  <tbody>\n",
              "    <tr>\n",
              "      <th>118313</th>\n",
              "      <td>490143</td>\n",
              "      <td>192.168.100.149</td>\n",
              "      <td>33163</td>\n",
              "      <td>192.168.100.3</td>\n",
              "      <td>40116</td>\n",
              "      <td>17</td>\n",
              "      <td>0.0</td>\n",
              "      <td>28</td>\n",
              "      <td>0</td>\n",
              "      <td>1</td>\n",
              "      <td>0</td>\n",
              "      <td>0</td>\n",
              "      <td>0</td>\n",
              "      <td>1</td>\n",
              "      <td>Reconnaissance</td>\n",
              "    </tr>\n",
              "    <tr>\n",
              "      <th>69035</th>\n",
              "      <td>471906</td>\n",
              "      <td>192.168.100.149</td>\n",
              "      <td>36228</td>\n",
              "      <td>192.168.100.3</td>\n",
              "      <td>20872</td>\n",
              "      <td>17</td>\n",
              "      <td>0.0</td>\n",
              "      <td>28</td>\n",
              "      <td>0</td>\n",
              "      <td>1</td>\n",
              "      <td>0</td>\n",
              "      <td>0</td>\n",
              "      <td>0</td>\n",
              "      <td>1</td>\n",
              "      <td>Reconnaissance</td>\n",
              "    </tr>\n",
              "    <tr>\n",
              "      <th>313489</th>\n",
              "      <td>39758</td>\n",
              "      <td>192.168.100.148</td>\n",
              "      <td>56742</td>\n",
              "      <td>192.168.100.7</td>\n",
              "      <td>80</td>\n",
              "      <td>6</td>\n",
              "      <td>7.0</td>\n",
              "      <td>52</td>\n",
              "      <td>0</td>\n",
              "      <td>1</td>\n",
              "      <td>0</td>\n",
              "      <td>20</td>\n",
              "      <td>0</td>\n",
              "      <td>1</td>\n",
              "      <td>DDoS</td>\n",
              "    </tr>\n",
              "    <tr>\n",
              "      <th>167853</th>\n",
              "      <td>485997</td>\n",
              "      <td>192.168.100.148</td>\n",
              "      <td>40726</td>\n",
              "      <td>192.168.100.3</td>\n",
              "      <td>20164</td>\n",
              "      <td>17</td>\n",
              "      <td>0.0</td>\n",
              "      <td>28</td>\n",
              "      <td>0</td>\n",
              "      <td>1</td>\n",
              "      <td>0</td>\n",
              "      <td>0</td>\n",
              "      <td>0</td>\n",
              "      <td>1</td>\n",
              "      <td>Reconnaissance</td>\n",
              "    </tr>\n",
              "    <tr>\n",
              "      <th>167854</th>\n",
              "      <td>587117</td>\n",
              "      <td>192.168.100.148</td>\n",
              "      <td>41364</td>\n",
              "      <td>192.168.100.3</td>\n",
              "      <td>80</td>\n",
              "      <td>6</td>\n",
              "      <td>7.0</td>\n",
              "      <td>759</td>\n",
              "      <td>770</td>\n",
              "      <td>7</td>\n",
              "      <td>5</td>\n",
              "      <td>31</td>\n",
              "      <td>0</td>\n",
              "      <td>1</td>\n",
              "      <td>Reconnaissance</td>\n",
              "    </tr>\n",
              "    <tr>\n",
              "      <th>...</th>\n",
              "      <td>...</td>\n",
              "      <td>...</td>\n",
              "      <td>...</td>\n",
              "      <td>...</td>\n",
              "      <td>...</td>\n",
              "      <td>...</td>\n",
              "      <td>...</td>\n",
              "      <td>...</td>\n",
              "      <td>...</td>\n",
              "      <td>...</td>\n",
              "      <td>...</td>\n",
              "      <td>...</td>\n",
              "      <td>...</td>\n",
              "      <td>...</td>\n",
              "      <td>...</td>\n",
              "    </tr>\n",
              "    <tr>\n",
              "      <th>230531</th>\n",
              "      <td>124471</td>\n",
              "      <td>192.168.100.147</td>\n",
              "      <td>14068</td>\n",
              "      <td>192.168.100.3</td>\n",
              "      <td>12168</td>\n",
              "      <td>6</td>\n",
              "      <td>0.0</td>\n",
              "      <td>40</td>\n",
              "      <td>40</td>\n",
              "      <td>1</td>\n",
              "      <td>1</td>\n",
              "      <td>22</td>\n",
              "      <td>4294967</td>\n",
              "      <td>1</td>\n",
              "      <td>Reconnaissance</td>\n",
              "    </tr>\n",
              "    <tr>\n",
              "      <th>230532</th>\n",
              "      <td>154464</td>\n",
              "      <td>192.168.100.150</td>\n",
              "      <td>51392</td>\n",
              "      <td>192.168.100.6</td>\n",
              "      <td>5101</td>\n",
              "      <td>6</td>\n",
              "      <td>0.0</td>\n",
              "      <td>44</td>\n",
              "      <td>40</td>\n",
              "      <td>1</td>\n",
              "      <td>1</td>\n",
              "      <td>22</td>\n",
              "      <td>4294967</td>\n",
              "      <td>1</td>\n",
              "      <td>Reconnaissance</td>\n",
              "    </tr>\n",
              "    <tr>\n",
              "      <th>230533</th>\n",
              "      <td>377048</td>\n",
              "      <td>192.168.100.150</td>\n",
              "      <td>35964</td>\n",
              "      <td>192.168.100.6</td>\n",
              "      <td>5269</td>\n",
              "      <td>6</td>\n",
              "      <td>0.0</td>\n",
              "      <td>44</td>\n",
              "      <td>40</td>\n",
              "      <td>1</td>\n",
              "      <td>1</td>\n",
              "      <td>22</td>\n",
              "      <td>4294967</td>\n",
              "      <td>1</td>\n",
              "      <td>Reconnaissance</td>\n",
              "    </tr>\n",
              "    <tr>\n",
              "      <th>230535</th>\n",
              "      <td>394416</td>\n",
              "      <td>192.168.100.150</td>\n",
              "      <td>52217</td>\n",
              "      <td>192.168.100.6</td>\n",
              "      <td>1062</td>\n",
              "      <td>6</td>\n",
              "      <td>0.0</td>\n",
              "      <td>44</td>\n",
              "      <td>40</td>\n",
              "      <td>1</td>\n",
              "      <td>1</td>\n",
              "      <td>22</td>\n",
              "      <td>4294967</td>\n",
              "      <td>1</td>\n",
              "      <td>Reconnaissance</td>\n",
              "    </tr>\n",
              "    <tr>\n",
              "      <th>480079</th>\n",
              "      <td>492387</td>\n",
              "      <td>192.168.100.150</td>\n",
              "      <td>41616</td>\n",
              "      <td>192.168.100.3</td>\n",
              "      <td>27352</td>\n",
              "      <td>6</td>\n",
              "      <td>0.0</td>\n",
              "      <td>60</td>\n",
              "      <td>40</td>\n",
              "      <td>1</td>\n",
              "      <td>1</td>\n",
              "      <td>22</td>\n",
              "      <td>4294967</td>\n",
              "      <td>1</td>\n",
              "      <td>Reconnaissance</td>\n",
              "    </tr>\n",
              "  </tbody>\n",
              "</table>\n",
              "<p>480080 rows × 15 columns</p>\n",
              "</div>\n",
              "    <div class=\"colab-df-buttons\">\n",
              "\n",
              "  <div class=\"colab-df-container\">\n",
              "    <button class=\"colab-df-convert\" onclick=\"convertToInteractive('df-3646c641-1be9-4271-ba36-bb520c885b54')\"\n",
              "            title=\"Convert this dataframe to an interactive table.\"\n",
              "            style=\"display:none;\">\n",
              "\n",
              "  <svg xmlns=\"http://www.w3.org/2000/svg\" height=\"24px\" viewBox=\"0 -960 960 960\">\n",
              "    <path d=\"M120-120v-720h720v720H120Zm60-500h600v-160H180v160Zm220 220h160v-160H400v160Zm0 220h160v-160H400v160ZM180-400h160v-160H180v160Zm440 0h160v-160H620v160ZM180-180h160v-160H180v160Zm440 0h160v-160H620v160Z\"/>\n",
              "  </svg>\n",
              "    </button>\n",
              "\n",
              "  <style>\n",
              "    .colab-df-container {\n",
              "      display:flex;\n",
              "      gap: 12px;\n",
              "    }\n",
              "\n",
              "    .colab-df-convert {\n",
              "      background-color: #E8F0FE;\n",
              "      border: none;\n",
              "      border-radius: 50%;\n",
              "      cursor: pointer;\n",
              "      display: none;\n",
              "      fill: #1967D2;\n",
              "      height: 32px;\n",
              "      padding: 0 0 0 0;\n",
              "      width: 32px;\n",
              "    }\n",
              "\n",
              "    .colab-df-convert:hover {\n",
              "      background-color: #E2EBFA;\n",
              "      box-shadow: 0px 1px 2px rgba(60, 64, 67, 0.3), 0px 1px 3px 1px rgba(60, 64, 67, 0.15);\n",
              "      fill: #174EA6;\n",
              "    }\n",
              "\n",
              "    .colab-df-buttons div {\n",
              "      margin-bottom: 4px;\n",
              "    }\n",
              "\n",
              "    [theme=dark] .colab-df-convert {\n",
              "      background-color: #3B4455;\n",
              "      fill: #D2E3FC;\n",
              "    }\n",
              "\n",
              "    [theme=dark] .colab-df-convert:hover {\n",
              "      background-color: #434B5C;\n",
              "      box-shadow: 0px 1px 3px 1px rgba(0, 0, 0, 0.15);\n",
              "      filter: drop-shadow(0px 1px 2px rgba(0, 0, 0, 0.3));\n",
              "      fill: #FFFFFF;\n",
              "    }\n",
              "  </style>\n",
              "\n",
              "    <script>\n",
              "      const buttonEl =\n",
              "        document.querySelector('#df-3646c641-1be9-4271-ba36-bb520c885b54 button.colab-df-convert');\n",
              "      buttonEl.style.display =\n",
              "        google.colab.kernel.accessAllowed ? 'block' : 'none';\n",
              "\n",
              "      async function convertToInteractive(key) {\n",
              "        const element = document.querySelector('#df-3646c641-1be9-4271-ba36-bb520c885b54');\n",
              "        const dataTable =\n",
              "          await google.colab.kernel.invokeFunction('convertToInteractive',\n",
              "                                                    [key], {});\n",
              "        if (!dataTable) return;\n",
              "\n",
              "        const docLinkHtml = 'Like what you see? Visit the ' +\n",
              "          '<a target=\"_blank\" href=https://colab.research.google.com/notebooks/data_table.ipynb>data table notebook</a>'\n",
              "          + ' to learn more about interactive tables.';\n",
              "        element.innerHTML = '';\n",
              "        dataTable['output_type'] = 'display_data';\n",
              "        await google.colab.output.renderOutput(dataTable, element);\n",
              "        const docLink = document.createElement('div');\n",
              "        docLink.innerHTML = docLinkHtml;\n",
              "        element.appendChild(docLink);\n",
              "      }\n",
              "    </script>\n",
              "  </div>\n",
              "\n",
              "\n",
              "<div id=\"df-eb8a0fae-fb52-4cd7-8327-c59145232223\">\n",
              "  <button class=\"colab-df-quickchart\" onclick=\"quickchart('df-eb8a0fae-fb52-4cd7-8327-c59145232223')\"\n",
              "            title=\"Suggest charts.\"\n",
              "            style=\"display:none;\">\n",
              "\n",
              "<svg xmlns=\"http://www.w3.org/2000/svg\" height=\"24px\"viewBox=\"0 0 24 24\"\n",
              "     width=\"24px\">\n",
              "    <g>\n",
              "        <path d=\"M19 3H5c-1.1 0-2 .9-2 2v14c0 1.1.9 2 2 2h14c1.1 0 2-.9 2-2V5c0-1.1-.9-2-2-2zM9 17H7v-7h2v7zm4 0h-2V7h2v10zm4 0h-2v-4h2v4z\"/>\n",
              "    </g>\n",
              "</svg>\n",
              "  </button>\n",
              "\n",
              "<style>\n",
              "  .colab-df-quickchart {\n",
              "      --bg-color: #E8F0FE;\n",
              "      --fill-color: #1967D2;\n",
              "      --hover-bg-color: #E2EBFA;\n",
              "      --hover-fill-color: #174EA6;\n",
              "      --disabled-fill-color: #AAA;\n",
              "      --disabled-bg-color: #DDD;\n",
              "  }\n",
              "\n",
              "  [theme=dark] .colab-df-quickchart {\n",
              "      --bg-color: #3B4455;\n",
              "      --fill-color: #D2E3FC;\n",
              "      --hover-bg-color: #434B5C;\n",
              "      --hover-fill-color: #FFFFFF;\n",
              "      --disabled-bg-color: #3B4455;\n",
              "      --disabled-fill-color: #666;\n",
              "  }\n",
              "\n",
              "  .colab-df-quickchart {\n",
              "    background-color: var(--bg-color);\n",
              "    border: none;\n",
              "    border-radius: 50%;\n",
              "    cursor: pointer;\n",
              "    display: none;\n",
              "    fill: var(--fill-color);\n",
              "    height: 32px;\n",
              "    padding: 0;\n",
              "    width: 32px;\n",
              "  }\n",
              "\n",
              "  .colab-df-quickchart:hover {\n",
              "    background-color: var(--hover-bg-color);\n",
              "    box-shadow: 0 1px 2px rgba(60, 64, 67, 0.3), 0 1px 3px 1px rgba(60, 64, 67, 0.15);\n",
              "    fill: var(--button-hover-fill-color);\n",
              "  }\n",
              "\n",
              "  .colab-df-quickchart-complete:disabled,\n",
              "  .colab-df-quickchart-complete:disabled:hover {\n",
              "    background-color: var(--disabled-bg-color);\n",
              "    fill: var(--disabled-fill-color);\n",
              "    box-shadow: none;\n",
              "  }\n",
              "\n",
              "  .colab-df-spinner {\n",
              "    border: 2px solid var(--fill-color);\n",
              "    border-color: transparent;\n",
              "    border-bottom-color: var(--fill-color);\n",
              "    animation:\n",
              "      spin 1s steps(1) infinite;\n",
              "  }\n",
              "\n",
              "  @keyframes spin {\n",
              "    0% {\n",
              "      border-color: transparent;\n",
              "      border-bottom-color: var(--fill-color);\n",
              "      border-left-color: var(--fill-color);\n",
              "    }\n",
              "    20% {\n",
              "      border-color: transparent;\n",
              "      border-left-color: var(--fill-color);\n",
              "      border-top-color: var(--fill-color);\n",
              "    }\n",
              "    30% {\n",
              "      border-color: transparent;\n",
              "      border-left-color: var(--fill-color);\n",
              "      border-top-color: var(--fill-color);\n",
              "      border-right-color: var(--fill-color);\n",
              "    }\n",
              "    40% {\n",
              "      border-color: transparent;\n",
              "      border-right-color: var(--fill-color);\n",
              "      border-top-color: var(--fill-color);\n",
              "    }\n",
              "    60% {\n",
              "      border-color: transparent;\n",
              "      border-right-color: var(--fill-color);\n",
              "    }\n",
              "    80% {\n",
              "      border-color: transparent;\n",
              "      border-right-color: var(--fill-color);\n",
              "      border-bottom-color: var(--fill-color);\n",
              "    }\n",
              "    90% {\n",
              "      border-color: transparent;\n",
              "      border-bottom-color: var(--fill-color);\n",
              "    }\n",
              "  }\n",
              "</style>\n",
              "\n",
              "  <script>\n",
              "    async function quickchart(key) {\n",
              "      const quickchartButtonEl =\n",
              "        document.querySelector('#' + key + ' button');\n",
              "      quickchartButtonEl.disabled = true;  // To prevent multiple clicks.\n",
              "      quickchartButtonEl.classList.add('colab-df-spinner');\n",
              "      try {\n",
              "        const charts = await google.colab.kernel.invokeFunction(\n",
              "            'suggestCharts', [key], {});\n",
              "      } catch (error) {\n",
              "        console.error('Error during call to suggestCharts:', error);\n",
              "      }\n",
              "      quickchartButtonEl.classList.remove('colab-df-spinner');\n",
              "      quickchartButtonEl.classList.add('colab-df-quickchart-complete');\n",
              "    }\n",
              "    (() => {\n",
              "      let quickchartButtonEl =\n",
              "        document.querySelector('#df-eb8a0fae-fb52-4cd7-8327-c59145232223 button');\n",
              "      quickchartButtonEl.style.display =\n",
              "        google.colab.kernel.accessAllowed ? 'block' : 'none';\n",
              "    })();\n",
              "  </script>\n",
              "</div>\n",
              "    </div>\n",
              "  </div>\n"
            ]
          },
          "metadata": {},
          "execution_count": 9
        }
      ]
    },
    {
      "cell_type": "code",
      "source": [
        "data = data.reset_index(drop=True)"
      ],
      "metadata": {
        "id": "vklc0o9tIeAl"
      },
      "id": "vklc0o9tIeAl",
      "execution_count": null,
      "outputs": []
    },
    {
      "cell_type": "code",
      "source": [
        "data.Label.value_counts()"
      ],
      "metadata": {
        "colab": {
          "base_uri": "https://localhost:8080/"
        },
        "id": "W6Pwxime8q_u",
        "outputId": "18ea84f1-3688-47e3-806e-349b711c26f1"
      },
      "id": "W6Pwxime8q_u",
      "execution_count": null,
      "outputs": [
        {
          "output_type": "execute_result",
          "data": {
            "text/plain": [
              "1    468937\n",
              "0     11143\n",
              "Name: Label, dtype: int64"
            ]
          },
          "metadata": {},
          "execution_count": 11
        }
      ]
    },
    {
      "cell_type": "code",
      "execution_count": null,
      "id": "9419a58a",
      "metadata": {
        "id": "9419a58a"
      },
      "outputs": [],
      "source": [
        "data.drop(columns=['IPV4_SRC_ADDR','IPV4_DST_ADDR'],inplace=True)"
      ]
    },
    {
      "cell_type": "code",
      "execution_count": null,
      "id": "667ca180",
      "metadata": {
        "id": "667ca180"
      },
      "outputs": [],
      "source": [
        "data['out-in_pkts']=data.OUT_PKTS-data.IN_PKTS"
      ]
    },
    {
      "cell_type": "code",
      "execution_count": null,
      "id": "16bdf7cf",
      "metadata": {
        "id": "16bdf7cf"
      },
      "outputs": [],
      "source": [
        "data['out-in_bytes']=data.OUT_BYTES-data.IN_BYTES"
      ]
    },
    {
      "cell_type": "code",
      "execution_count": null,
      "id": "820fb576",
      "metadata": {
        "id": "820fb576"
      },
      "outputs": [],
      "source": [
        "df = data.drop('Attack', axis=1)"
      ]
    },
    {
      "cell_type": "code",
      "execution_count": null,
      "id": "851afb13",
      "metadata": {
        "colab": {
          "base_uri": "https://localhost:8080/",
          "height": 525
        },
        "id": "851afb13",
        "outputId": "73bd0098-7e20-46f4-aee6-9cb16c511794"
      },
      "outputs": [
        {
          "output_type": "execute_result",
          "data": {
            "text/plain": [
              "                            Unnamed: 0  L4_SRC_PORT  L4_DST_PORT  PROTOCOL  \\\n",
              "Unnamed: 0                    1.000000    -0.084834     0.070172  0.213140   \n",
              "L4_SRC_PORT                  -0.084834     1.000000    -0.060187 -0.032670   \n",
              "L4_DST_PORT                   0.070172    -0.060187     1.000000  0.211896   \n",
              "PROTOCOL                      0.213140    -0.032670     0.211896  1.000000   \n",
              "L7_PROTO                      0.079061    -0.236361    -0.108081 -0.045723   \n",
              "IN_BYTES                     -0.009893    -0.077784    -0.010812  0.034025   \n",
              "OUT_BYTES                    -0.004410    -0.030139     0.008336  0.008609   \n",
              "IN_PKTS                      -0.014789    -0.154022    -0.021712  0.067290   \n",
              "OUT_PKTS                     -0.008774    -0.081390    -0.008341  0.039467   \n",
              "TCP_FLAGS                    -0.080953     0.143799    -0.198035 -0.614049   \n",
              "FLOW_DURATION_MILLISECONDS   -0.437961     0.007785     0.046134 -0.404820   \n",
              "Label                        -0.074560     0.191546    -0.020502 -0.352958   \n",
              "out-in_pkts                   0.011502     0.128395     0.020800 -0.052723   \n",
              "out-in_bytes                  0.000883     0.011075     0.012950 -0.009012   \n",
              "\n",
              "                            L7_PROTO  IN_BYTES  OUT_BYTES   IN_PKTS  OUT_PKTS  \\\n",
              "Unnamed: 0                  0.079061 -0.009893  -0.004410 -0.014789 -0.008774   \n",
              "L4_SRC_PORT                -0.236361 -0.077784  -0.030139 -0.154022 -0.081390   \n",
              "L4_DST_PORT                -0.108081 -0.010812   0.008336 -0.021712 -0.008341   \n",
              "PROTOCOL                   -0.045723  0.034025   0.008609  0.067290  0.039467   \n",
              "L7_PROTO                    1.000000 -0.003500  -0.001673 -0.006457 -0.002567   \n",
              "IN_BYTES                   -0.003500  1.000000   0.083419  0.704815  0.432671   \n",
              "OUT_BYTES                  -0.001673  0.083419   1.000000  0.199579  0.437176   \n",
              "IN_PKTS                    -0.006457  0.704815   0.199579  1.000000  0.632265   \n",
              "OUT_PKTS                   -0.002567  0.432671   0.437176  0.632265  1.000000   \n",
              "TCP_FLAGS                   0.045935 -0.055709  -0.012201 -0.105871 -0.053948   \n",
              "FLOW_DURATION_MILLISECONDS  0.048169  0.008240   0.003337  0.012739  0.007379   \n",
              "Label                      -0.111708 -0.135825  -0.031710 -0.262799 -0.144470   \n",
              "out-in_pkts                 0.006112 -0.535612   0.119673 -0.744077  0.047153   \n",
              "out-in_bytes                0.000210 -0.419365   0.869671 -0.167321  0.183937   \n",
              "\n",
              "                            TCP_FLAGS  FLOW_DURATION_MILLISECONDS     Label  \\\n",
              "Unnamed: 0                  -0.080953                   -0.437961 -0.074560   \n",
              "L4_SRC_PORT                  0.143799                    0.007785  0.191546   \n",
              "L4_DST_PORT                 -0.198035                    0.046134 -0.020502   \n",
              "PROTOCOL                    -0.614049                   -0.404820 -0.352958   \n",
              "L7_PROTO                     0.045935                    0.048169 -0.111708   \n",
              "IN_BYTES                    -0.055709                    0.008240 -0.135825   \n",
              "OUT_BYTES                   -0.012201                    0.003337 -0.031710   \n",
              "IN_PKTS                     -0.105871                    0.012739 -0.262799   \n",
              "OUT_PKTS                    -0.053948                    0.007379 -0.144470   \n",
              "TCP_FLAGS                    1.000000                    0.220714  0.255931   \n",
              "FLOW_DURATION_MILLISECONDS   0.220714                    1.000000  0.017453   \n",
              "Label                        0.255931                    0.017453  1.000000   \n",
              "out-in_pkts                  0.089978                   -0.010061  0.214245   \n",
              "out-in_bytes                 0.016481                   -0.001041  0.038395   \n",
              "\n",
              "                            out-in_pkts  out-in_bytes  \n",
              "Unnamed: 0                     0.011502      0.000883  \n",
              "L4_SRC_PORT                    0.128395      0.011075  \n",
              "L4_DST_PORT                    0.020800      0.012950  \n",
              "PROTOCOL                      -0.052723     -0.009012  \n",
              "L7_PROTO                       0.006112      0.000210  \n",
              "IN_BYTES                      -0.535612     -0.419365  \n",
              "OUT_BYTES                      0.119673      0.869671  \n",
              "IN_PKTS                       -0.744077     -0.167321  \n",
              "OUT_PKTS                       0.047153      0.183937  \n",
              "TCP_FLAGS                      0.089978      0.016481  \n",
              "FLOW_DURATION_MILLISECONDS    -0.010061     -0.001041  \n",
              "Label                          0.214245      0.038395  \n",
              "out-in_pkts                    1.000000      0.374342  \n",
              "out-in_bytes                   0.374342      1.000000  "
            ],
            "text/html": [
              "\n",
              "  <div id=\"df-70ab6302-adda-433f-9860-3a4152466dfc\" class=\"colab-df-container\">\n",
              "    <div>\n",
              "<style scoped>\n",
              "    .dataframe tbody tr th:only-of-type {\n",
              "        vertical-align: middle;\n",
              "    }\n",
              "\n",
              "    .dataframe tbody tr th {\n",
              "        vertical-align: top;\n",
              "    }\n",
              "\n",
              "    .dataframe thead th {\n",
              "        text-align: right;\n",
              "    }\n",
              "</style>\n",
              "<table border=\"1\" class=\"dataframe\">\n",
              "  <thead>\n",
              "    <tr style=\"text-align: right;\">\n",
              "      <th></th>\n",
              "      <th>Unnamed: 0</th>\n",
              "      <th>L4_SRC_PORT</th>\n",
              "      <th>L4_DST_PORT</th>\n",
              "      <th>PROTOCOL</th>\n",
              "      <th>L7_PROTO</th>\n",
              "      <th>IN_BYTES</th>\n",
              "      <th>OUT_BYTES</th>\n",
              "      <th>IN_PKTS</th>\n",
              "      <th>OUT_PKTS</th>\n",
              "      <th>TCP_FLAGS</th>\n",
              "      <th>FLOW_DURATION_MILLISECONDS</th>\n",
              "      <th>Label</th>\n",
              "      <th>out-in_pkts</th>\n",
              "      <th>out-in_bytes</th>\n",
              "    </tr>\n",
              "  </thead>\n",
              "  <tbody>\n",
              "    <tr>\n",
              "      <th>Unnamed: 0</th>\n",
              "      <td>1.000000</td>\n",
              "      <td>-0.084834</td>\n",
              "      <td>0.070172</td>\n",
              "      <td>0.213140</td>\n",
              "      <td>0.079061</td>\n",
              "      <td>-0.009893</td>\n",
              "      <td>-0.004410</td>\n",
              "      <td>-0.014789</td>\n",
              "      <td>-0.008774</td>\n",
              "      <td>-0.080953</td>\n",
              "      <td>-0.437961</td>\n",
              "      <td>-0.074560</td>\n",
              "      <td>0.011502</td>\n",
              "      <td>0.000883</td>\n",
              "    </tr>\n",
              "    <tr>\n",
              "      <th>L4_SRC_PORT</th>\n",
              "      <td>-0.084834</td>\n",
              "      <td>1.000000</td>\n",
              "      <td>-0.060187</td>\n",
              "      <td>-0.032670</td>\n",
              "      <td>-0.236361</td>\n",
              "      <td>-0.077784</td>\n",
              "      <td>-0.030139</td>\n",
              "      <td>-0.154022</td>\n",
              "      <td>-0.081390</td>\n",
              "      <td>0.143799</td>\n",
              "      <td>0.007785</td>\n",
              "      <td>0.191546</td>\n",
              "      <td>0.128395</td>\n",
              "      <td>0.011075</td>\n",
              "    </tr>\n",
              "    <tr>\n",
              "      <th>L4_DST_PORT</th>\n",
              "      <td>0.070172</td>\n",
              "      <td>-0.060187</td>\n",
              "      <td>1.000000</td>\n",
              "      <td>0.211896</td>\n",
              "      <td>-0.108081</td>\n",
              "      <td>-0.010812</td>\n",
              "      <td>0.008336</td>\n",
              "      <td>-0.021712</td>\n",
              "      <td>-0.008341</td>\n",
              "      <td>-0.198035</td>\n",
              "      <td>0.046134</td>\n",
              "      <td>-0.020502</td>\n",
              "      <td>0.020800</td>\n",
              "      <td>0.012950</td>\n",
              "    </tr>\n",
              "    <tr>\n",
              "      <th>PROTOCOL</th>\n",
              "      <td>0.213140</td>\n",
              "      <td>-0.032670</td>\n",
              "      <td>0.211896</td>\n",
              "      <td>1.000000</td>\n",
              "      <td>-0.045723</td>\n",
              "      <td>0.034025</td>\n",
              "      <td>0.008609</td>\n",
              "      <td>0.067290</td>\n",
              "      <td>0.039467</td>\n",
              "      <td>-0.614049</td>\n",
              "      <td>-0.404820</td>\n",
              "      <td>-0.352958</td>\n",
              "      <td>-0.052723</td>\n",
              "      <td>-0.009012</td>\n",
              "    </tr>\n",
              "    <tr>\n",
              "      <th>L7_PROTO</th>\n",
              "      <td>0.079061</td>\n",
              "      <td>-0.236361</td>\n",
              "      <td>-0.108081</td>\n",
              "      <td>-0.045723</td>\n",
              "      <td>1.000000</td>\n",
              "      <td>-0.003500</td>\n",
              "      <td>-0.001673</td>\n",
              "      <td>-0.006457</td>\n",
              "      <td>-0.002567</td>\n",
              "      <td>0.045935</td>\n",
              "      <td>0.048169</td>\n",
              "      <td>-0.111708</td>\n",
              "      <td>0.006112</td>\n",
              "      <td>0.000210</td>\n",
              "    </tr>\n",
              "    <tr>\n",
              "      <th>IN_BYTES</th>\n",
              "      <td>-0.009893</td>\n",
              "      <td>-0.077784</td>\n",
              "      <td>-0.010812</td>\n",
              "      <td>0.034025</td>\n",
              "      <td>-0.003500</td>\n",
              "      <td>1.000000</td>\n",
              "      <td>0.083419</td>\n",
              "      <td>0.704815</td>\n",
              "      <td>0.432671</td>\n",
              "      <td>-0.055709</td>\n",
              "      <td>0.008240</td>\n",
              "      <td>-0.135825</td>\n",
              "      <td>-0.535612</td>\n",
              "      <td>-0.419365</td>\n",
              "    </tr>\n",
              "    <tr>\n",
              "      <th>OUT_BYTES</th>\n",
              "      <td>-0.004410</td>\n",
              "      <td>-0.030139</td>\n",
              "      <td>0.008336</td>\n",
              "      <td>0.008609</td>\n",
              "      <td>-0.001673</td>\n",
              "      <td>0.083419</td>\n",
              "      <td>1.000000</td>\n",
              "      <td>0.199579</td>\n",
              "      <td>0.437176</td>\n",
              "      <td>-0.012201</td>\n",
              "      <td>0.003337</td>\n",
              "      <td>-0.031710</td>\n",
              "      <td>0.119673</td>\n",
              "      <td>0.869671</td>\n",
              "    </tr>\n",
              "    <tr>\n",
              "      <th>IN_PKTS</th>\n",
              "      <td>-0.014789</td>\n",
              "      <td>-0.154022</td>\n",
              "      <td>-0.021712</td>\n",
              "      <td>0.067290</td>\n",
              "      <td>-0.006457</td>\n",
              "      <td>0.704815</td>\n",
              "      <td>0.199579</td>\n",
              "      <td>1.000000</td>\n",
              "      <td>0.632265</td>\n",
              "      <td>-0.105871</td>\n",
              "      <td>0.012739</td>\n",
              "      <td>-0.262799</td>\n",
              "      <td>-0.744077</td>\n",
              "      <td>-0.167321</td>\n",
              "    </tr>\n",
              "    <tr>\n",
              "      <th>OUT_PKTS</th>\n",
              "      <td>-0.008774</td>\n",
              "      <td>-0.081390</td>\n",
              "      <td>-0.008341</td>\n",
              "      <td>0.039467</td>\n",
              "      <td>-0.002567</td>\n",
              "      <td>0.432671</td>\n",
              "      <td>0.437176</td>\n",
              "      <td>0.632265</td>\n",
              "      <td>1.000000</td>\n",
              "      <td>-0.053948</td>\n",
              "      <td>0.007379</td>\n",
              "      <td>-0.144470</td>\n",
              "      <td>0.047153</td>\n",
              "      <td>0.183937</td>\n",
              "    </tr>\n",
              "    <tr>\n",
              "      <th>TCP_FLAGS</th>\n",
              "      <td>-0.080953</td>\n",
              "      <td>0.143799</td>\n",
              "      <td>-0.198035</td>\n",
              "      <td>-0.614049</td>\n",
              "      <td>0.045935</td>\n",
              "      <td>-0.055709</td>\n",
              "      <td>-0.012201</td>\n",
              "      <td>-0.105871</td>\n",
              "      <td>-0.053948</td>\n",
              "      <td>1.000000</td>\n",
              "      <td>0.220714</td>\n",
              "      <td>0.255931</td>\n",
              "      <td>0.089978</td>\n",
              "      <td>0.016481</td>\n",
              "    </tr>\n",
              "    <tr>\n",
              "      <th>FLOW_DURATION_MILLISECONDS</th>\n",
              "      <td>-0.437961</td>\n",
              "      <td>0.007785</td>\n",
              "      <td>0.046134</td>\n",
              "      <td>-0.404820</td>\n",
              "      <td>0.048169</td>\n",
              "      <td>0.008240</td>\n",
              "      <td>0.003337</td>\n",
              "      <td>0.012739</td>\n",
              "      <td>0.007379</td>\n",
              "      <td>0.220714</td>\n",
              "      <td>1.000000</td>\n",
              "      <td>0.017453</td>\n",
              "      <td>-0.010061</td>\n",
              "      <td>-0.001041</td>\n",
              "    </tr>\n",
              "    <tr>\n",
              "      <th>Label</th>\n",
              "      <td>-0.074560</td>\n",
              "      <td>0.191546</td>\n",
              "      <td>-0.020502</td>\n",
              "      <td>-0.352958</td>\n",
              "      <td>-0.111708</td>\n",
              "      <td>-0.135825</td>\n",
              "      <td>-0.031710</td>\n",
              "      <td>-0.262799</td>\n",
              "      <td>-0.144470</td>\n",
              "      <td>0.255931</td>\n",
              "      <td>0.017453</td>\n",
              "      <td>1.000000</td>\n",
              "      <td>0.214245</td>\n",
              "      <td>0.038395</td>\n",
              "    </tr>\n",
              "    <tr>\n",
              "      <th>out-in_pkts</th>\n",
              "      <td>0.011502</td>\n",
              "      <td>0.128395</td>\n",
              "      <td>0.020800</td>\n",
              "      <td>-0.052723</td>\n",
              "      <td>0.006112</td>\n",
              "      <td>-0.535612</td>\n",
              "      <td>0.119673</td>\n",
              "      <td>-0.744077</td>\n",
              "      <td>0.047153</td>\n",
              "      <td>0.089978</td>\n",
              "      <td>-0.010061</td>\n",
              "      <td>0.214245</td>\n",
              "      <td>1.000000</td>\n",
              "      <td>0.374342</td>\n",
              "    </tr>\n",
              "    <tr>\n",
              "      <th>out-in_bytes</th>\n",
              "      <td>0.000883</td>\n",
              "      <td>0.011075</td>\n",
              "      <td>0.012950</td>\n",
              "      <td>-0.009012</td>\n",
              "      <td>0.000210</td>\n",
              "      <td>-0.419365</td>\n",
              "      <td>0.869671</td>\n",
              "      <td>-0.167321</td>\n",
              "      <td>0.183937</td>\n",
              "      <td>0.016481</td>\n",
              "      <td>-0.001041</td>\n",
              "      <td>0.038395</td>\n",
              "      <td>0.374342</td>\n",
              "      <td>1.000000</td>\n",
              "    </tr>\n",
              "  </tbody>\n",
              "</table>\n",
              "</div>\n",
              "    <div class=\"colab-df-buttons\">\n",
              "\n",
              "  <div class=\"colab-df-container\">\n",
              "    <button class=\"colab-df-convert\" onclick=\"convertToInteractive('df-70ab6302-adda-433f-9860-3a4152466dfc')\"\n",
              "            title=\"Convert this dataframe to an interactive table.\"\n",
              "            style=\"display:none;\">\n",
              "\n",
              "  <svg xmlns=\"http://www.w3.org/2000/svg\" height=\"24px\" viewBox=\"0 -960 960 960\">\n",
              "    <path d=\"M120-120v-720h720v720H120Zm60-500h600v-160H180v160Zm220 220h160v-160H400v160Zm0 220h160v-160H400v160ZM180-400h160v-160H180v160Zm440 0h160v-160H620v160ZM180-180h160v-160H180v160Zm440 0h160v-160H620v160Z\"/>\n",
              "  </svg>\n",
              "    </button>\n",
              "\n",
              "  <style>\n",
              "    .colab-df-container {\n",
              "      display:flex;\n",
              "      gap: 12px;\n",
              "    }\n",
              "\n",
              "    .colab-df-convert {\n",
              "      background-color: #E8F0FE;\n",
              "      border: none;\n",
              "      border-radius: 50%;\n",
              "      cursor: pointer;\n",
              "      display: none;\n",
              "      fill: #1967D2;\n",
              "      height: 32px;\n",
              "      padding: 0 0 0 0;\n",
              "      width: 32px;\n",
              "    }\n",
              "\n",
              "    .colab-df-convert:hover {\n",
              "      background-color: #E2EBFA;\n",
              "      box-shadow: 0px 1px 2px rgba(60, 64, 67, 0.3), 0px 1px 3px 1px rgba(60, 64, 67, 0.15);\n",
              "      fill: #174EA6;\n",
              "    }\n",
              "\n",
              "    .colab-df-buttons div {\n",
              "      margin-bottom: 4px;\n",
              "    }\n",
              "\n",
              "    [theme=dark] .colab-df-convert {\n",
              "      background-color: #3B4455;\n",
              "      fill: #D2E3FC;\n",
              "    }\n",
              "\n",
              "    [theme=dark] .colab-df-convert:hover {\n",
              "      background-color: #434B5C;\n",
              "      box-shadow: 0px 1px 3px 1px rgba(0, 0, 0, 0.15);\n",
              "      filter: drop-shadow(0px 1px 2px rgba(0, 0, 0, 0.3));\n",
              "      fill: #FFFFFF;\n",
              "    }\n",
              "  </style>\n",
              "\n",
              "    <script>\n",
              "      const buttonEl =\n",
              "        document.querySelector('#df-70ab6302-adda-433f-9860-3a4152466dfc button.colab-df-convert');\n",
              "      buttonEl.style.display =\n",
              "        google.colab.kernel.accessAllowed ? 'block' : 'none';\n",
              "\n",
              "      async function convertToInteractive(key) {\n",
              "        const element = document.querySelector('#df-70ab6302-adda-433f-9860-3a4152466dfc');\n",
              "        const dataTable =\n",
              "          await google.colab.kernel.invokeFunction('convertToInteractive',\n",
              "                                                    [key], {});\n",
              "        if (!dataTable) return;\n",
              "\n",
              "        const docLinkHtml = 'Like what you see? Visit the ' +\n",
              "          '<a target=\"_blank\" href=https://colab.research.google.com/notebooks/data_table.ipynb>data table notebook</a>'\n",
              "          + ' to learn more about interactive tables.';\n",
              "        element.innerHTML = '';\n",
              "        dataTable['output_type'] = 'display_data';\n",
              "        await google.colab.output.renderOutput(dataTable, element);\n",
              "        const docLink = document.createElement('div');\n",
              "        docLink.innerHTML = docLinkHtml;\n",
              "        element.appendChild(docLink);\n",
              "      }\n",
              "    </script>\n",
              "  </div>\n",
              "\n",
              "\n",
              "<div id=\"df-836ddcda-c4e6-44b0-9b0a-d568d6499aac\">\n",
              "  <button class=\"colab-df-quickchart\" onclick=\"quickchart('df-836ddcda-c4e6-44b0-9b0a-d568d6499aac')\"\n",
              "            title=\"Suggest charts.\"\n",
              "            style=\"display:none;\">\n",
              "\n",
              "<svg xmlns=\"http://www.w3.org/2000/svg\" height=\"24px\"viewBox=\"0 0 24 24\"\n",
              "     width=\"24px\">\n",
              "    <g>\n",
              "        <path d=\"M19 3H5c-1.1 0-2 .9-2 2v14c0 1.1.9 2 2 2h14c1.1 0 2-.9 2-2V5c0-1.1-.9-2-2-2zM9 17H7v-7h2v7zm4 0h-2V7h2v10zm4 0h-2v-4h2v4z\"/>\n",
              "    </g>\n",
              "</svg>\n",
              "  </button>\n",
              "\n",
              "<style>\n",
              "  .colab-df-quickchart {\n",
              "      --bg-color: #E8F0FE;\n",
              "      --fill-color: #1967D2;\n",
              "      --hover-bg-color: #E2EBFA;\n",
              "      --hover-fill-color: #174EA6;\n",
              "      --disabled-fill-color: #AAA;\n",
              "      --disabled-bg-color: #DDD;\n",
              "  }\n",
              "\n",
              "  [theme=dark] .colab-df-quickchart {\n",
              "      --bg-color: #3B4455;\n",
              "      --fill-color: #D2E3FC;\n",
              "      --hover-bg-color: #434B5C;\n",
              "      --hover-fill-color: #FFFFFF;\n",
              "      --disabled-bg-color: #3B4455;\n",
              "      --disabled-fill-color: #666;\n",
              "  }\n",
              "\n",
              "  .colab-df-quickchart {\n",
              "    background-color: var(--bg-color);\n",
              "    border: none;\n",
              "    border-radius: 50%;\n",
              "    cursor: pointer;\n",
              "    display: none;\n",
              "    fill: var(--fill-color);\n",
              "    height: 32px;\n",
              "    padding: 0;\n",
              "    width: 32px;\n",
              "  }\n",
              "\n",
              "  .colab-df-quickchart:hover {\n",
              "    background-color: var(--hover-bg-color);\n",
              "    box-shadow: 0 1px 2px rgba(60, 64, 67, 0.3), 0 1px 3px 1px rgba(60, 64, 67, 0.15);\n",
              "    fill: var(--button-hover-fill-color);\n",
              "  }\n",
              "\n",
              "  .colab-df-quickchart-complete:disabled,\n",
              "  .colab-df-quickchart-complete:disabled:hover {\n",
              "    background-color: var(--disabled-bg-color);\n",
              "    fill: var(--disabled-fill-color);\n",
              "    box-shadow: none;\n",
              "  }\n",
              "\n",
              "  .colab-df-spinner {\n",
              "    border: 2px solid var(--fill-color);\n",
              "    border-color: transparent;\n",
              "    border-bottom-color: var(--fill-color);\n",
              "    animation:\n",
              "      spin 1s steps(1) infinite;\n",
              "  }\n",
              "\n",
              "  @keyframes spin {\n",
              "    0% {\n",
              "      border-color: transparent;\n",
              "      border-bottom-color: var(--fill-color);\n",
              "      border-left-color: var(--fill-color);\n",
              "    }\n",
              "    20% {\n",
              "      border-color: transparent;\n",
              "      border-left-color: var(--fill-color);\n",
              "      border-top-color: var(--fill-color);\n",
              "    }\n",
              "    30% {\n",
              "      border-color: transparent;\n",
              "      border-left-color: var(--fill-color);\n",
              "      border-top-color: var(--fill-color);\n",
              "      border-right-color: var(--fill-color);\n",
              "    }\n",
              "    40% {\n",
              "      border-color: transparent;\n",
              "      border-right-color: var(--fill-color);\n",
              "      border-top-color: var(--fill-color);\n",
              "    }\n",
              "    60% {\n",
              "      border-color: transparent;\n",
              "      border-right-color: var(--fill-color);\n",
              "    }\n",
              "    80% {\n",
              "      border-color: transparent;\n",
              "      border-right-color: var(--fill-color);\n",
              "      border-bottom-color: var(--fill-color);\n",
              "    }\n",
              "    90% {\n",
              "      border-color: transparent;\n",
              "      border-bottom-color: var(--fill-color);\n",
              "    }\n",
              "  }\n",
              "</style>\n",
              "\n",
              "  <script>\n",
              "    async function quickchart(key) {\n",
              "      const quickchartButtonEl =\n",
              "        document.querySelector('#' + key + ' button');\n",
              "      quickchartButtonEl.disabled = true;  // To prevent multiple clicks.\n",
              "      quickchartButtonEl.classList.add('colab-df-spinner');\n",
              "      try {\n",
              "        const charts = await google.colab.kernel.invokeFunction(\n",
              "            'suggestCharts', [key], {});\n",
              "      } catch (error) {\n",
              "        console.error('Error during call to suggestCharts:', error);\n",
              "      }\n",
              "      quickchartButtonEl.classList.remove('colab-df-spinner');\n",
              "      quickchartButtonEl.classList.add('colab-df-quickchart-complete');\n",
              "    }\n",
              "    (() => {\n",
              "      let quickchartButtonEl =\n",
              "        document.querySelector('#df-836ddcda-c4e6-44b0-9b0a-d568d6499aac button');\n",
              "      quickchartButtonEl.style.display =\n",
              "        google.colab.kernel.accessAllowed ? 'block' : 'none';\n",
              "    })();\n",
              "  </script>\n",
              "</div>\n",
              "    </div>\n",
              "  </div>\n"
            ]
          },
          "metadata": {},
          "execution_count": 16
        }
      ],
      "source": [
        "df.corr()"
      ]
    },
    {
      "cell_type": "code",
      "execution_count": null,
      "id": "5da18eba",
      "metadata": {
        "colab": {
          "base_uri": "https://localhost:8080/"
        },
        "id": "5da18eba",
        "outputId": "12d515bf-d68f-4e66-8e1e-2fa3484bd7c8"
      },
      "outputs": [
        {
          "output_type": "stream",
          "name": "stdout",
          "text": [
            "R2 value: 0.007196813036031153\n"
          ]
        }
      ],
      "source": [
        "x = df.drop('Label',axis=1).values.T\n",
        "y = df.Label.values\n",
        "\n",
        "# calculate R2 value\n",
        "r = np.corrcoef(x, y)[0, 1]\n",
        "r2 = r**2\n",
        "\n",
        "print(\"R2 value:\", r2)"
      ]
    },
    {
      "cell_type": "code",
      "execution_count": null,
      "id": "ffc765de",
      "metadata": {
        "colab": {
          "base_uri": "https://localhost:8080/",
          "height": 320
        },
        "id": "ffc765de",
        "outputId": "b1927cac-bf9b-4c89-9001-2d7ac7fa669b"
      },
      "outputs": [
        {
          "output_type": "execute_result",
          "data": {
            "text/plain": [
              "          Unnamed: 0    L4_SRC_PORT    L4_DST_PORT       PROTOCOL  \\\n",
              "count  480080.000000  480080.000000  480080.000000  480080.000000   \n",
              "mean   299968.895951   46536.996773    7939.406722       6.585013   \n",
              "std    173241.390702   12029.649236   14094.175591       2.566742   \n",
              "min         0.000000       0.000000       0.000000       1.000000   \n",
              "25%    150058.500000   39180.000000      80.000000       6.000000   \n",
              "50%    300014.500000   47922.000000    1864.000000       6.000000   \n",
              "75%    449946.250000   55308.000000    8008.000000       6.000000   \n",
              "max    600098.000000   65535.000000   65535.000000      17.000000   \n",
              "\n",
              "            L7_PROTO      IN_BYTES     OUT_BYTES        IN_PKTS  \\\n",
              "count  480080.000000  4.800800e+05  4.800800e+05  480080.000000   \n",
              "mean        8.966430  9.018442e+03  6.462043e+03      12.667522   \n",
              "std        34.992163  3.960930e+05  7.284372e+05     251.183804   \n",
              "min         0.000000  2.800000e+01  0.000000e+00       1.000000   \n",
              "25%         0.000000  4.400000e+01  4.000000e+01       1.000000   \n",
              "50%         0.000000  4.400000e+01  4.000000e+01       1.000000   \n",
              "75%         7.000000  1.120000e+02  4.000000e+01       2.000000   \n",
              "max       244.000000  2.282235e+08  2.432197e+08   37817.000000   \n",
              "\n",
              "            OUT_PKTS      TCP_FLAGS  FLOW_DURATION_MILLISECONDS  \\\n",
              "count  480080.000000  480080.000000                4.800800e+05   \n",
              "mean        5.592199      21.853139                3.467977e+06   \n",
              "std       168.001135       8.111385                1.666084e+06   \n",
              "min         0.000000       0.000000                0.000000e+00   \n",
              "25%         1.000000      22.000000                4.277944e+06   \n",
              "50%         1.000000      22.000000                4.294966e+06   \n",
              "75%         1.000000      22.000000                4.294967e+06   \n",
              "max     34154.000000     214.000000                4.294967e+06   \n",
              "\n",
              "               Label    out-in_pkts  out-in_bytes  \n",
              "count  480080.000000  480080.000000  4.800800e+05  \n",
              "mean        0.976789      -7.075323 -2.556399e+03  \n",
              "std         0.150572     194.821867  7.996081e+05  \n",
              "min         0.000000  -27852.000000 -2.276700e+08  \n",
              "25%         1.000000      -1.000000 -2.000000e+01  \n",
              "50%         1.000000       0.000000 -4.000000e+00  \n",
              "75%         1.000000       0.000000 -4.000000e+00  \n",
              "max         1.000000   24241.000000  2.426663e+08  "
            ],
            "text/html": [
              "\n",
              "  <div id=\"df-0230e615-924e-46ac-b9df-023fce1c1391\" class=\"colab-df-container\">\n",
              "    <div>\n",
              "<style scoped>\n",
              "    .dataframe tbody tr th:only-of-type {\n",
              "        vertical-align: middle;\n",
              "    }\n",
              "\n",
              "    .dataframe tbody tr th {\n",
              "        vertical-align: top;\n",
              "    }\n",
              "\n",
              "    .dataframe thead th {\n",
              "        text-align: right;\n",
              "    }\n",
              "</style>\n",
              "<table border=\"1\" class=\"dataframe\">\n",
              "  <thead>\n",
              "    <tr style=\"text-align: right;\">\n",
              "      <th></th>\n",
              "      <th>Unnamed: 0</th>\n",
              "      <th>L4_SRC_PORT</th>\n",
              "      <th>L4_DST_PORT</th>\n",
              "      <th>PROTOCOL</th>\n",
              "      <th>L7_PROTO</th>\n",
              "      <th>IN_BYTES</th>\n",
              "      <th>OUT_BYTES</th>\n",
              "      <th>IN_PKTS</th>\n",
              "      <th>OUT_PKTS</th>\n",
              "      <th>TCP_FLAGS</th>\n",
              "      <th>FLOW_DURATION_MILLISECONDS</th>\n",
              "      <th>Label</th>\n",
              "      <th>out-in_pkts</th>\n",
              "      <th>out-in_bytes</th>\n",
              "    </tr>\n",
              "  </thead>\n",
              "  <tbody>\n",
              "    <tr>\n",
              "      <th>count</th>\n",
              "      <td>480080.000000</td>\n",
              "      <td>480080.000000</td>\n",
              "      <td>480080.000000</td>\n",
              "      <td>480080.000000</td>\n",
              "      <td>480080.000000</td>\n",
              "      <td>4.800800e+05</td>\n",
              "      <td>4.800800e+05</td>\n",
              "      <td>480080.000000</td>\n",
              "      <td>480080.000000</td>\n",
              "      <td>480080.000000</td>\n",
              "      <td>4.800800e+05</td>\n",
              "      <td>480080.000000</td>\n",
              "      <td>480080.000000</td>\n",
              "      <td>4.800800e+05</td>\n",
              "    </tr>\n",
              "    <tr>\n",
              "      <th>mean</th>\n",
              "      <td>299968.895951</td>\n",
              "      <td>46536.996773</td>\n",
              "      <td>7939.406722</td>\n",
              "      <td>6.585013</td>\n",
              "      <td>8.966430</td>\n",
              "      <td>9.018442e+03</td>\n",
              "      <td>6.462043e+03</td>\n",
              "      <td>12.667522</td>\n",
              "      <td>5.592199</td>\n",
              "      <td>21.853139</td>\n",
              "      <td>3.467977e+06</td>\n",
              "      <td>0.976789</td>\n",
              "      <td>-7.075323</td>\n",
              "      <td>-2.556399e+03</td>\n",
              "    </tr>\n",
              "    <tr>\n",
              "      <th>std</th>\n",
              "      <td>173241.390702</td>\n",
              "      <td>12029.649236</td>\n",
              "      <td>14094.175591</td>\n",
              "      <td>2.566742</td>\n",
              "      <td>34.992163</td>\n",
              "      <td>3.960930e+05</td>\n",
              "      <td>7.284372e+05</td>\n",
              "      <td>251.183804</td>\n",
              "      <td>168.001135</td>\n",
              "      <td>8.111385</td>\n",
              "      <td>1.666084e+06</td>\n",
              "      <td>0.150572</td>\n",
              "      <td>194.821867</td>\n",
              "      <td>7.996081e+05</td>\n",
              "    </tr>\n",
              "    <tr>\n",
              "      <th>min</th>\n",
              "      <td>0.000000</td>\n",
              "      <td>0.000000</td>\n",
              "      <td>0.000000</td>\n",
              "      <td>1.000000</td>\n",
              "      <td>0.000000</td>\n",
              "      <td>2.800000e+01</td>\n",
              "      <td>0.000000e+00</td>\n",
              "      <td>1.000000</td>\n",
              "      <td>0.000000</td>\n",
              "      <td>0.000000</td>\n",
              "      <td>0.000000e+00</td>\n",
              "      <td>0.000000</td>\n",
              "      <td>-27852.000000</td>\n",
              "      <td>-2.276700e+08</td>\n",
              "    </tr>\n",
              "    <tr>\n",
              "      <th>25%</th>\n",
              "      <td>150058.500000</td>\n",
              "      <td>39180.000000</td>\n",
              "      <td>80.000000</td>\n",
              "      <td>6.000000</td>\n",
              "      <td>0.000000</td>\n",
              "      <td>4.400000e+01</td>\n",
              "      <td>4.000000e+01</td>\n",
              "      <td>1.000000</td>\n",
              "      <td>1.000000</td>\n",
              "      <td>22.000000</td>\n",
              "      <td>4.277944e+06</td>\n",
              "      <td>1.000000</td>\n",
              "      <td>-1.000000</td>\n",
              "      <td>-2.000000e+01</td>\n",
              "    </tr>\n",
              "    <tr>\n",
              "      <th>50%</th>\n",
              "      <td>300014.500000</td>\n",
              "      <td>47922.000000</td>\n",
              "      <td>1864.000000</td>\n",
              "      <td>6.000000</td>\n",
              "      <td>0.000000</td>\n",
              "      <td>4.400000e+01</td>\n",
              "      <td>4.000000e+01</td>\n",
              "      <td>1.000000</td>\n",
              "      <td>1.000000</td>\n",
              "      <td>22.000000</td>\n",
              "      <td>4.294966e+06</td>\n",
              "      <td>1.000000</td>\n",
              "      <td>0.000000</td>\n",
              "      <td>-4.000000e+00</td>\n",
              "    </tr>\n",
              "    <tr>\n",
              "      <th>75%</th>\n",
              "      <td>449946.250000</td>\n",
              "      <td>55308.000000</td>\n",
              "      <td>8008.000000</td>\n",
              "      <td>6.000000</td>\n",
              "      <td>7.000000</td>\n",
              "      <td>1.120000e+02</td>\n",
              "      <td>4.000000e+01</td>\n",
              "      <td>2.000000</td>\n",
              "      <td>1.000000</td>\n",
              "      <td>22.000000</td>\n",
              "      <td>4.294967e+06</td>\n",
              "      <td>1.000000</td>\n",
              "      <td>0.000000</td>\n",
              "      <td>-4.000000e+00</td>\n",
              "    </tr>\n",
              "    <tr>\n",
              "      <th>max</th>\n",
              "      <td>600098.000000</td>\n",
              "      <td>65535.000000</td>\n",
              "      <td>65535.000000</td>\n",
              "      <td>17.000000</td>\n",
              "      <td>244.000000</td>\n",
              "      <td>2.282235e+08</td>\n",
              "      <td>2.432197e+08</td>\n",
              "      <td>37817.000000</td>\n",
              "      <td>34154.000000</td>\n",
              "      <td>214.000000</td>\n",
              "      <td>4.294967e+06</td>\n",
              "      <td>1.000000</td>\n",
              "      <td>24241.000000</td>\n",
              "      <td>2.426663e+08</td>\n",
              "    </tr>\n",
              "  </tbody>\n",
              "</table>\n",
              "</div>\n",
              "    <div class=\"colab-df-buttons\">\n",
              "\n",
              "  <div class=\"colab-df-container\">\n",
              "    <button class=\"colab-df-convert\" onclick=\"convertToInteractive('df-0230e615-924e-46ac-b9df-023fce1c1391')\"\n",
              "            title=\"Convert this dataframe to an interactive table.\"\n",
              "            style=\"display:none;\">\n",
              "\n",
              "  <svg xmlns=\"http://www.w3.org/2000/svg\" height=\"24px\" viewBox=\"0 -960 960 960\">\n",
              "    <path d=\"M120-120v-720h720v720H120Zm60-500h600v-160H180v160Zm220 220h160v-160H400v160Zm0 220h160v-160H400v160ZM180-400h160v-160H180v160Zm440 0h160v-160H620v160ZM180-180h160v-160H180v160Zm440 0h160v-160H620v160Z\"/>\n",
              "  </svg>\n",
              "    </button>\n",
              "\n",
              "  <style>\n",
              "    .colab-df-container {\n",
              "      display:flex;\n",
              "      gap: 12px;\n",
              "    }\n",
              "\n",
              "    .colab-df-convert {\n",
              "      background-color: #E8F0FE;\n",
              "      border: none;\n",
              "      border-radius: 50%;\n",
              "      cursor: pointer;\n",
              "      display: none;\n",
              "      fill: #1967D2;\n",
              "      height: 32px;\n",
              "      padding: 0 0 0 0;\n",
              "      width: 32px;\n",
              "    }\n",
              "\n",
              "    .colab-df-convert:hover {\n",
              "      background-color: #E2EBFA;\n",
              "      box-shadow: 0px 1px 2px rgba(60, 64, 67, 0.3), 0px 1px 3px 1px rgba(60, 64, 67, 0.15);\n",
              "      fill: #174EA6;\n",
              "    }\n",
              "\n",
              "    .colab-df-buttons div {\n",
              "      margin-bottom: 4px;\n",
              "    }\n",
              "\n",
              "    [theme=dark] .colab-df-convert {\n",
              "      background-color: #3B4455;\n",
              "      fill: #D2E3FC;\n",
              "    }\n",
              "\n",
              "    [theme=dark] .colab-df-convert:hover {\n",
              "      background-color: #434B5C;\n",
              "      box-shadow: 0px 1px 3px 1px rgba(0, 0, 0, 0.15);\n",
              "      filter: drop-shadow(0px 1px 2px rgba(0, 0, 0, 0.3));\n",
              "      fill: #FFFFFF;\n",
              "    }\n",
              "  </style>\n",
              "\n",
              "    <script>\n",
              "      const buttonEl =\n",
              "        document.querySelector('#df-0230e615-924e-46ac-b9df-023fce1c1391 button.colab-df-convert');\n",
              "      buttonEl.style.display =\n",
              "        google.colab.kernel.accessAllowed ? 'block' : 'none';\n",
              "\n",
              "      async function convertToInteractive(key) {\n",
              "        const element = document.querySelector('#df-0230e615-924e-46ac-b9df-023fce1c1391');\n",
              "        const dataTable =\n",
              "          await google.colab.kernel.invokeFunction('convertToInteractive',\n",
              "                                                    [key], {});\n",
              "        if (!dataTable) return;\n",
              "\n",
              "        const docLinkHtml = 'Like what you see? Visit the ' +\n",
              "          '<a target=\"_blank\" href=https://colab.research.google.com/notebooks/data_table.ipynb>data table notebook</a>'\n",
              "          + ' to learn more about interactive tables.';\n",
              "        element.innerHTML = '';\n",
              "        dataTable['output_type'] = 'display_data';\n",
              "        await google.colab.output.renderOutput(dataTable, element);\n",
              "        const docLink = document.createElement('div');\n",
              "        docLink.innerHTML = docLinkHtml;\n",
              "        element.appendChild(docLink);\n",
              "      }\n",
              "    </script>\n",
              "  </div>\n",
              "\n",
              "\n",
              "<div id=\"df-d535b298-52f4-41fe-91f1-75833ab6224c\">\n",
              "  <button class=\"colab-df-quickchart\" onclick=\"quickchart('df-d535b298-52f4-41fe-91f1-75833ab6224c')\"\n",
              "            title=\"Suggest charts.\"\n",
              "            style=\"display:none;\">\n",
              "\n",
              "<svg xmlns=\"http://www.w3.org/2000/svg\" height=\"24px\"viewBox=\"0 0 24 24\"\n",
              "     width=\"24px\">\n",
              "    <g>\n",
              "        <path d=\"M19 3H5c-1.1 0-2 .9-2 2v14c0 1.1.9 2 2 2h14c1.1 0 2-.9 2-2V5c0-1.1-.9-2-2-2zM9 17H7v-7h2v7zm4 0h-2V7h2v10zm4 0h-2v-4h2v4z\"/>\n",
              "    </g>\n",
              "</svg>\n",
              "  </button>\n",
              "\n",
              "<style>\n",
              "  .colab-df-quickchart {\n",
              "      --bg-color: #E8F0FE;\n",
              "      --fill-color: #1967D2;\n",
              "      --hover-bg-color: #E2EBFA;\n",
              "      --hover-fill-color: #174EA6;\n",
              "      --disabled-fill-color: #AAA;\n",
              "      --disabled-bg-color: #DDD;\n",
              "  }\n",
              "\n",
              "  [theme=dark] .colab-df-quickchart {\n",
              "      --bg-color: #3B4455;\n",
              "      --fill-color: #D2E3FC;\n",
              "      --hover-bg-color: #434B5C;\n",
              "      --hover-fill-color: #FFFFFF;\n",
              "      --disabled-bg-color: #3B4455;\n",
              "      --disabled-fill-color: #666;\n",
              "  }\n",
              "\n",
              "  .colab-df-quickchart {\n",
              "    background-color: var(--bg-color);\n",
              "    border: none;\n",
              "    border-radius: 50%;\n",
              "    cursor: pointer;\n",
              "    display: none;\n",
              "    fill: var(--fill-color);\n",
              "    height: 32px;\n",
              "    padding: 0;\n",
              "    width: 32px;\n",
              "  }\n",
              "\n",
              "  .colab-df-quickchart:hover {\n",
              "    background-color: var(--hover-bg-color);\n",
              "    box-shadow: 0 1px 2px rgba(60, 64, 67, 0.3), 0 1px 3px 1px rgba(60, 64, 67, 0.15);\n",
              "    fill: var(--button-hover-fill-color);\n",
              "  }\n",
              "\n",
              "  .colab-df-quickchart-complete:disabled,\n",
              "  .colab-df-quickchart-complete:disabled:hover {\n",
              "    background-color: var(--disabled-bg-color);\n",
              "    fill: var(--disabled-fill-color);\n",
              "    box-shadow: none;\n",
              "  }\n",
              "\n",
              "  .colab-df-spinner {\n",
              "    border: 2px solid var(--fill-color);\n",
              "    border-color: transparent;\n",
              "    border-bottom-color: var(--fill-color);\n",
              "    animation:\n",
              "      spin 1s steps(1) infinite;\n",
              "  }\n",
              "\n",
              "  @keyframes spin {\n",
              "    0% {\n",
              "      border-color: transparent;\n",
              "      border-bottom-color: var(--fill-color);\n",
              "      border-left-color: var(--fill-color);\n",
              "    }\n",
              "    20% {\n",
              "      border-color: transparent;\n",
              "      border-left-color: var(--fill-color);\n",
              "      border-top-color: var(--fill-color);\n",
              "    }\n",
              "    30% {\n",
              "      border-color: transparent;\n",
              "      border-left-color: var(--fill-color);\n",
              "      border-top-color: var(--fill-color);\n",
              "      border-right-color: var(--fill-color);\n",
              "    }\n",
              "    40% {\n",
              "      border-color: transparent;\n",
              "      border-right-color: var(--fill-color);\n",
              "      border-top-color: var(--fill-color);\n",
              "    }\n",
              "    60% {\n",
              "      border-color: transparent;\n",
              "      border-right-color: var(--fill-color);\n",
              "    }\n",
              "    80% {\n",
              "      border-color: transparent;\n",
              "      border-right-color: var(--fill-color);\n",
              "      border-bottom-color: var(--fill-color);\n",
              "    }\n",
              "    90% {\n",
              "      border-color: transparent;\n",
              "      border-bottom-color: var(--fill-color);\n",
              "    }\n",
              "  }\n",
              "</style>\n",
              "\n",
              "  <script>\n",
              "    async function quickchart(key) {\n",
              "      const quickchartButtonEl =\n",
              "        document.querySelector('#' + key + ' button');\n",
              "      quickchartButtonEl.disabled = true;  // To prevent multiple clicks.\n",
              "      quickchartButtonEl.classList.add('colab-df-spinner');\n",
              "      try {\n",
              "        const charts = await google.colab.kernel.invokeFunction(\n",
              "            'suggestCharts', [key], {});\n",
              "      } catch (error) {\n",
              "        console.error('Error during call to suggestCharts:', error);\n",
              "      }\n",
              "      quickchartButtonEl.classList.remove('colab-df-spinner');\n",
              "      quickchartButtonEl.classList.add('colab-df-quickchart-complete');\n",
              "    }\n",
              "    (() => {\n",
              "      let quickchartButtonEl =\n",
              "        document.querySelector('#df-d535b298-52f4-41fe-91f1-75833ab6224c button');\n",
              "      quickchartButtonEl.style.display =\n",
              "        google.colab.kernel.accessAllowed ? 'block' : 'none';\n",
              "    })();\n",
              "  </script>\n",
              "</div>\n",
              "    </div>\n",
              "  </div>\n"
            ]
          },
          "metadata": {},
          "execution_count": 18
        }
      ],
      "source": [
        "df.describe()"
      ]
    },
    {
      "cell_type": "code",
      "execution_count": null,
      "id": "f2d6fd11",
      "metadata": {
        "colab": {
          "base_uri": "https://localhost:8080/",
          "height": 886
        },
        "id": "f2d6fd11",
        "outputId": "d9d91b8e-0cc3-4448-f278-0f7191c9d0a3"
      },
      "outputs": [
        {
          "output_type": "execute_result",
          "data": {
            "text/plain": [
              "<Axes: >"
            ]
          },
          "metadata": {},
          "execution_count": 19
        },
        {
          "output_type": "display_data",
          "data": {
            "text/plain": [
              "<Figure size 2000x1000 with 2 Axes>"
            ],
            "image/png": "[encoded data removed]"
          },
          "metadata": {}
        }
      ],
      "source": [
        "plt.figure(figsize=(20, 10))\n",
        "\n",
        "sns.heatmap(df.corr(),robust=True,cmap='viridis')"
      ]
    },
    {
      "cell_type": "code",
      "execution_count": null,
      "id": "ca93180b",
      "metadata": {
        "id": "ca93180b"
      },
      "outputs": [],
      "source": [
        "data.drop(columns=['OUT_PKTS','out-in_pkts'],axis=1,inplace=True)"
      ]
    },
    {
      "cell_type": "code",
      "execution_count": null,
      "id": "f5eee975",
      "metadata": {
        "colab": {
          "base_uri": "https://localhost:8080/",
          "height": 497
        },
        "id": "f5eee975",
        "outputId": "b711235e-8641-4e1a-ccef-908b41cf28d5"
      },
      "outputs": [
        {
          "output_type": "stream",
          "name": "stderr",
          "text": [
            "<ipython-input-21-c44ded798807>:1: FutureWarning: The default value of numeric_only in DataFrame.corr is deprecated. In a future version, it will default to False. Select only valid columns or specify the value of numeric_only to silence this warning.\n",
            "  data.corr()\n"
          ]
        },
        {
          "output_type": "execute_result",
          "data": {
            "text/plain": [
              "                            Unnamed: 0  L4_SRC_PORT  L4_DST_PORT  PROTOCOL  \\\n",
              "Unnamed: 0                    1.000000    -0.084834     0.070172  0.213140   \n",
              "L4_SRC_PORT                  -0.084834     1.000000    -0.060187 -0.032670   \n",
              "L4_DST_PORT                   0.070172    -0.060187     1.000000  0.211896   \n",
              "PROTOCOL                      0.213140    -0.032670     0.211896  1.000000   \n",
              "L7_PROTO                      0.079061    -0.236361    -0.108081 -0.045723   \n",
              "IN_BYTES                     -0.009893    -0.077784    -0.010812  0.034025   \n",
              "OUT_BYTES                    -0.004410    -0.030139     0.008336  0.008609   \n",
              "IN_PKTS                      -0.014789    -0.154022    -0.021712  0.067290   \n",
              "TCP_FLAGS                    -0.080953     0.143799    -0.198035 -0.614049   \n",
              "FLOW_DURATION_MILLISECONDS   -0.437961     0.007785     0.046134 -0.404820   \n",
              "Label                        -0.074560     0.191546    -0.020502 -0.352958   \n",
              "out-in_bytes                  0.000883     0.011075     0.012950 -0.009012   \n",
              "\n",
              "                            L7_PROTO  IN_BYTES  OUT_BYTES   IN_PKTS  \\\n",
              "Unnamed: 0                  0.079061 -0.009893  -0.004410 -0.014789   \n",
              "L4_SRC_PORT                -0.236361 -0.077784  -0.030139 -0.154022   \n",
              "L4_DST_PORT                -0.108081 -0.010812   0.008336 -0.021712   \n",
              "PROTOCOL                   -0.045723  0.034025   0.008609  0.067290   \n",
              "L7_PROTO                    1.000000 -0.003500  -0.001673 -0.006457   \n",
              "IN_BYTES                   -0.003500  1.000000   0.083419  0.704815   \n",
              "OUT_BYTES                  -0.001673  0.083419   1.000000  0.199579   \n",
              "IN_PKTS                    -0.006457  0.704815   0.199579  1.000000   \n",
              "TCP_FLAGS                   0.045935 -0.055709  -0.012201 -0.105871   \n",
              "FLOW_DURATION_MILLISECONDS  0.048169  0.008240   0.003337  0.012739   \n",
              "Label                      -0.111708 -0.135825  -0.031710 -0.262799   \n",
              "out-in_bytes                0.000210 -0.419365   0.869671 -0.167321   \n",
              "\n",
              "                            TCP_FLAGS  FLOW_DURATION_MILLISECONDS     Label  \\\n",
              "Unnamed: 0                  -0.080953                   -0.437961 -0.074560   \n",
              "L4_SRC_PORT                  0.143799                    0.007785  0.191546   \n",
              "L4_DST_PORT                 -0.198035                    0.046134 -0.020502   \n",
              "PROTOCOL                    -0.614049                   -0.404820 -0.352958   \n",
              "L7_PROTO                     0.045935                    0.048169 -0.111708   \n",
              "IN_BYTES                    -0.055709                    0.008240 -0.135825   \n",
              "OUT_BYTES                   -0.012201                    0.003337 -0.031710   \n",
              "IN_PKTS                     -0.105871                    0.012739 -0.262799   \n",
              "TCP_FLAGS                    1.000000                    0.220714  0.255931   \n",
              "FLOW_DURATION_MILLISECONDS   0.220714                    1.000000  0.017453   \n",
              "Label                        0.255931                    0.017453  1.000000   \n",
              "out-in_bytes                 0.016481                   -0.001041  0.038395   \n",
              "\n",
              "                            out-in_bytes  \n",
              "Unnamed: 0                      0.000883  \n",
              "L4_SRC_PORT                     0.011075  \n",
              "L4_DST_PORT                     0.012950  \n",
              "PROTOCOL                       -0.009012  \n",
              "L7_PROTO                        0.000210  \n",
              "IN_BYTES                       -0.419365  \n",
              "OUT_BYTES                       0.869671  \n",
              "IN_PKTS                        -0.167321  \n",
              "TCP_FLAGS                       0.016481  \n",
              "FLOW_DURATION_MILLISECONDS     -0.001041  \n",
              "Label                           0.038395  \n",
              "out-in_bytes                    1.000000  "
            ],
            "text/html": [
              "\n",
              "  <div id=\"df-3bd6aa95-0982-498b-acd8-60fdbf1f47dc\" class=\"colab-df-container\">\n",
              "    <div>\n",
              "<style scoped>\n",
              "    .dataframe tbody tr th:only-of-type {\n",
              "        vertical-align: middle;\n",
              "    }\n",
              "\n",
              "    .dataframe tbody tr th {\n",
              "        vertical-align: top;\n",
              "    }\n",
              "\n",
              "    .dataframe thead th {\n",
              "        text-align: right;\n",
              "    }\n",
              "</style>\n",
              "<table border=\"1\" class=\"dataframe\">\n",
              "  <thead>\n",
              "    <tr style=\"text-align: right;\">\n",
              "      <th></th>\n",
              "      <th>Unnamed: 0</th>\n",
              "      <th>L4_SRC_PORT</th>\n",
              "      <th>L4_DST_PORT</th>\n",
              "      <th>PROTOCOL</th>\n",
              "      <th>L7_PROTO</th>\n",
              "      <th>IN_BYTES</th>\n",
              "      <th>OUT_BYTES</th>\n",
              "      <th>IN_PKTS</th>\n",
              "      <th>TCP_FLAGS</th>\n",
              "      <th>FLOW_DURATION_MILLISECONDS</th>\n",
              "      <th>Label</th>\n",
              "      <th>out-in_bytes</th>\n",
              "    </tr>\n",
              "  </thead>\n",
              "  <tbody>\n",
              "    <tr>\n",
              "      <th>Unnamed: 0</th>\n",
              "      <td>1.000000</td>\n",
              "      <td>-0.084834</td>\n",
              "      <td>0.070172</td>\n",
              "      <td>0.213140</td>\n",
              "      <td>0.079061</td>\n",
              "      <td>-0.009893</td>\n",
              "      <td>-0.004410</td>\n",
              "      <td>-0.014789</td>\n",
              "      <td>-0.080953</td>\n",
              "      <td>-0.437961</td>\n",
              "      <td>-0.074560</td>\n",
              "      <td>0.000883</td>\n",
              "    </tr>\n",
              "    <tr>\n",
              "      <th>L4_SRC_PORT</th>\n",
              "      <td>-0.084834</td>\n",
              "      <td>1.000000</td>\n",
              "      <td>-0.060187</td>\n",
              "      <td>-0.032670</td>\n",
              "      <td>-0.236361</td>\n",
              "      <td>-0.077784</td>\n",
              "      <td>-0.030139</td>\n",
              "      <td>-0.154022</td>\n",
              "      <td>0.143799</td>\n",
              "      <td>0.007785</td>\n",
              "      <td>0.191546</td>\n",
              "      <td>0.011075</td>\n",
              "    </tr>\n",
              "    <tr>\n",
              "      <th>L4_DST_PORT</th>\n",
              "      <td>0.070172</td>\n",
              "      <td>-0.060187</td>\n",
              "      <td>1.000000</td>\n",
              "      <td>0.211896</td>\n",
              "      <td>-0.108081</td>\n",
              "      <td>-0.010812</td>\n",
              "      <td>0.008336</td>\n",
              "      <td>-0.021712</td>\n",
              "      <td>-0.198035</td>\n",
              "      <td>0.046134</td>\n",
              "      <td>-0.020502</td>\n",
              "      <td>0.012950</td>\n",
              "    </tr>\n",
              "    <tr>\n",
              "      <th>PROTOCOL</th>\n",
              "      <td>0.213140</td>\n",
              "      <td>-0.032670</td>\n",
              "      <td>0.211896</td>\n",
              "      <td>1.000000</td>\n",
              "      <td>-0.045723</td>\n",
              "      <td>0.034025</td>\n",
              "      <td>0.008609</td>\n",
              "      <td>0.067290</td>\n",
              "      <td>-0.614049</td>\n",
              "      <td>-0.404820</td>\n",
              "      <td>-0.352958</td>\n",
              "      <td>-0.009012</td>\n",
              "    </tr>\n",
              "    <tr>\n",
              "      <th>L7_PROTO</th>\n",
              "      <td>0.079061</td>\n",
              "      <td>-0.236361</td>\n",
              "      <td>-0.108081</td>\n",
              "      <td>-0.045723</td>\n",
              "      <td>1.000000</td>\n",
              "      <td>-0.003500</td>\n",
              "      <td>-0.001673</td>\n",
              "      <td>-0.006457</td>\n",
              "      <td>0.045935</td>\n",
              "      <td>0.048169</td>\n",
              "      <td>-0.111708</td>\n",
              "      <td>0.000210</td>\n",
              "    </tr>\n",
              "    <tr>\n",
              "      <th>IN_BYTES</th>\n",
              "      <td>-0.009893</td>\n",
              "      <td>-0.077784</td>\n",
              "      <td>-0.010812</td>\n",
              "      <td>0.034025</td>\n",
              "      <td>-0.003500</td>\n",
              "      <td>1.000000</td>\n",
              "      <td>0.083419</td>\n",
              "      <td>0.704815</td>\n",
              "      <td>-0.055709</td>\n",
              "      <td>0.008240</td>\n",
              "      <td>-0.135825</td>\n",
              "      <td>-0.419365</td>\n",
              "    </tr>\n",
              "    <tr>\n",
              "      <th>OUT_BYTES</th>\n",
              "      <td>-0.004410</td>\n",
              "      <td>-0.030139</td>\n",
              "      <td>0.008336</td>\n",
              "      <td>0.008609</td>\n",
              "      <td>-0.001673</td>\n",
              "      <td>0.083419</td>\n",
              "      <td>1.000000</td>\n",
              "      <td>0.199579</td>\n",
              "      <td>-0.012201</td>\n",
              "      <td>0.003337</td>\n",
              "      <td>-0.031710</td>\n",
              "      <td>0.869671</td>\n",
              "    </tr>\n",
              "    <tr>\n",
              "      <th>IN_PKTS</th>\n",
              "      <td>-0.014789</td>\n",
              "      <td>-0.154022</td>\n",
              "      <td>-0.021712</td>\n",
              "      <td>0.067290</td>\n",
              "      <td>-0.006457</td>\n",
              "      <td>0.704815</td>\n",
              "      <td>0.199579</td>\n",
              "      <td>1.000000</td>\n",
              "      <td>-0.105871</td>\n",
              "      <td>0.012739</td>\n",
              "      <td>-0.262799</td>\n",
              "      <td>-0.167321</td>\n",
              "    </tr>\n",
              "    <tr>\n",
              "      <th>TCP_FLAGS</th>\n",
              "      <td>-0.080953</td>\n",
              "      <td>0.143799</td>\n",
              "      <td>-0.198035</td>\n",
              "      <td>-0.614049</td>\n",
              "      <td>0.045935</td>\n",
              "      <td>-0.055709</td>\n",
              "      <td>-0.012201</td>\n",
              "      <td>-0.105871</td>\n",
              "      <td>1.000000</td>\n",
              "      <td>0.220714</td>\n",
              "      <td>0.255931</td>\n",
              "      <td>0.016481</td>\n",
              "    </tr>\n",
              "    <tr>\n",
              "      <th>FLOW_DURATION_MILLISECONDS</th>\n",
              "      <td>-0.437961</td>\n",
              "      <td>0.007785</td>\n",
              "      <td>0.046134</td>\n",
              "      <td>-0.404820</td>\n",
              "      <td>0.048169</td>\n",
              "      <td>0.008240</td>\n",
              "      <td>0.003337</td>\n",
              "      <td>0.012739</td>\n",
              "      <td>0.220714</td>\n",
              "      <td>1.000000</td>\n",
              "      <td>0.017453</td>\n",
              "      <td>-0.001041</td>\n",
              "    </tr>\n",
              "    <tr>\n",
              "      <th>Label</th>\n",
              "      <td>-0.074560</td>\n",
              "      <td>0.191546</td>\n",
              "      <td>-0.020502</td>\n",
              "      <td>-0.352958</td>\n",
              "      <td>-0.111708</td>\n",
              "      <td>-0.135825</td>\n",
              "      <td>-0.031710</td>\n",
              "      <td>-0.262799</td>\n",
              "      <td>0.255931</td>\n",
              "      <td>0.017453</td>\n",
              "      <td>1.000000</td>\n",
              "      <td>0.038395</td>\n",
              "    </tr>\n",
              "    <tr>\n",
              "      <th>out-in_bytes</th>\n",
              "      <td>0.000883</td>\n",
              "      <td>0.011075</td>\n",
              "      <td>0.012950</td>\n",
              "      <td>-0.009012</td>\n",
              "      <td>0.000210</td>\n",
              "      <td>-0.419365</td>\n",
              "      <td>0.869671</td>\n",
              "      <td>-0.167321</td>\n",
              "      <td>0.016481</td>\n",
              "      <td>-0.001041</td>\n",
              "      <td>0.038395</td>\n",
              "      <td>1.000000</td>\n",
              "    </tr>\n",
              "  </tbody>\n",
              "</table>\n",
              "</div>\n",
              "    <div class=\"colab-df-buttons\">\n",
              "\n",
              "  <div class=\"colab-df-container\">\n",
              "    <button class=\"colab-df-convert\" onclick=\"convertToInteractive('df-3bd6aa95-0982-498b-acd8-60fdbf1f47dc')\"\n",
              "            title=\"Convert this dataframe to an interactive table.\"\n",
              "            style=\"display:none;\">\n",
              "\n",
              "  <svg xmlns=\"http://www.w3.org/2000/svg\" height=\"24px\" viewBox=\"0 -960 960 960\">\n",
              "    <path d=\"M120-120v-720h720v720H120Zm60-500h600v-160H180v160Zm220 220h160v-160H400v160Zm0 220h160v-160H400v160ZM180-400h160v-160H180v160Zm440 0h160v-160H620v160ZM180-180h160v-160H180v160Zm440 0h160v-160H620v160Z\"/>\n",
              "  </svg>\n",
              "    </button>\n",
              "\n",
              "  <style>\n",
              "    .colab-df-container {\n",
              "      display:flex;\n",
              "      gap: 12px;\n",
              "    }\n",
              "\n",
              "    .colab-df-convert {\n",
              "      background-color: #E8F0FE;\n",
              "      border: none;\n",
              "      border-radius: 50%;\n",
              "      cursor: pointer;\n",
              "      display: none;\n",
              "      fill: #1967D2;\n",
              "      height: 32px;\n",
              "      padding: 0 0 0 0;\n",
              "      width: 32px;\n",
              "    }\n",
              "\n",
              "    .colab-df-convert:hover {\n",
              "      background-color: #E2EBFA;\n",
              "      box-shadow: 0px 1px 2px rgba(60, 64, 67, 0.3), 0px 1px 3px 1px rgba(60, 64, 67, 0.15);\n",
              "      fill: #174EA6;\n",
              "    }\n",
              "\n",
              "    .colab-df-buttons div {\n",
              "      margin-bottom: 4px;\n",
              "    }\n",
              "\n",
              "    [theme=dark] .colab-df-convert {\n",
              "      background-color: #3B4455;\n",
              "      fill: #D2E3FC;\n",
              "    }\n",
              "\n",
              "    [theme=dark] .colab-df-convert:hover {\n",
              "      background-color: #434B5C;\n",
              "      box-shadow: 0px 1px 3px 1px rgba(0, 0, 0, 0.15);\n",
              "      filter: drop-shadow(0px 1px 2px rgba(0, 0, 0, 0.3));\n",
              "      fill: #FFFFFF;\n",
              "    }\n",
              "  </style>\n",
              "\n",
              "    <script>\n",
              "      const buttonEl =\n",
              "        document.querySelector('#df-3bd6aa95-0982-498b-acd8-60fdbf1f47dc button.colab-df-convert');\n",
              "      buttonEl.style.display =\n",
              "        google.colab.kernel.accessAllowed ? 'block' : 'none';\n",
              "\n",
              "      async function convertToInteractive(key) {\n",
              "        const element = document.querySelector('#df-3bd6aa95-0982-498b-acd8-60fdbf1f47dc');\n",
              "        const dataTable =\n",
              "          await google.colab.kernel.invokeFunction('convertToInteractive',\n",
              "                                                    [key], {});\n",
              "        if (!dataTable) return;\n",
              "\n",
              "        const docLinkHtml = 'Like what you see? Visit the ' +\n",
              "          '<a target=\"_blank\" href=https://colab.research.google.com/notebooks/data_table.ipynb>data table notebook</a>'\n",
              "          + ' to learn more about interactive tables.';\n",
              "        element.innerHTML = '';\n",
              "        dataTable['output_type'] = 'display_data';\n",
              "        await google.colab.output.renderOutput(dataTable, element);\n",
              "        const docLink = document.createElement('div');\n",
              "        docLink.innerHTML = docLinkHtml;\n",
              "        element.appendChild(docLink);\n",
              "      }\n",
              "    </script>\n",
              "  </div>\n",
              "\n",
              "\n",
              "<div id=\"df-5a05dc9b-b162-447d-9c7b-27997f1b1175\">\n",
              "  <button class=\"colab-df-quickchart\" onclick=\"quickchart('df-5a05dc9b-b162-447d-9c7b-27997f1b1175')\"\n",
              "            title=\"Suggest charts.\"\n",
              "            style=\"display:none;\">\n",
              "\n",
              "<svg xmlns=\"http://www.w3.org/2000/svg\" height=\"24px\"viewBox=\"0 0 24 24\"\n",
              "     width=\"24px\">\n",
              "    <g>\n",
              "        <path d=\"M19 3H5c-1.1 0-2 .9-2 2v14c0 1.1.9 2 2 2h14c1.1 0 2-.9 2-2V5c0-1.1-.9-2-2-2zM9 17H7v-7h2v7zm4 0h-2V7h2v10zm4 0h-2v-4h2v4z\"/>\n",
              "    </g>\n",
              "</svg>\n",
              "  </button>\n",
              "\n",
              "<style>\n",
              "  .colab-df-quickchart {\n",
              "      --bg-color: #E8F0FE;\n",
              "      --fill-color: #1967D2;\n",
              "      --hover-bg-color: #E2EBFA;\n",
              "      --hover-fill-color: #174EA6;\n",
              "      --disabled-fill-color: #AAA;\n",
              "      --disabled-bg-color: #DDD;\n",
              "  }\n",
              "\n",
              "  [theme=dark] .colab-df-quickchart {\n",
              "      --bg-color: #3B4455;\n",
              "      --fill-color: #D2E3FC;\n",
              "      --hover-bg-color: #434B5C;\n",
              "      --hover-fill-color: #FFFFFF;\n",
              "      --disabled-bg-color: #3B4455;\n",
              "      --disabled-fill-color: #666;\n",
              "  }\n",
              "\n",
              "  .colab-df-quickchart {\n",
              "    background-color: var(--bg-color);\n",
              "    border: none;\n",
              "    border-radius: 50%;\n",
              "    cursor: pointer;\n",
              "    display: none;\n",
              "    fill: var(--fill-color);\n",
              "    height: 32px;\n",
              "    padding: 0;\n",
              "    width: 32px;\n",
              "  }\n",
              "\n",
              "  .colab-df-quickchart:hover {\n",
              "    background-color: var(--hover-bg-color);\n",
              "    box-shadow: 0 1px 2px rgba(60, 64, 67, 0.3), 0 1px 3px 1px rgba(60, 64, 67, 0.15);\n",
              "    fill: var(--button-hover-fill-color);\n",
              "  }\n",
              "\n",
              "  .colab-df-quickchart-complete:disabled,\n",
              "  .colab-df-quickchart-complete:disabled:hover {\n",
              "    background-color: var(--disabled-bg-color);\n",
              "    fill: var(--disabled-fill-color);\n",
              "    box-shadow: none;\n",
              "  }\n",
              "\n",
              "  .colab-df-spinner {\n",
              "    border: 2px solid var(--fill-color);\n",
              "    border-color: transparent;\n",
              "    border-bottom-color: var(--fill-color);\n",
              "    animation:\n",
              "      spin 1s steps(1) infinite;\n",
              "  }\n",
              "\n",
              "  @keyframes spin {\n",
              "    0% {\n",
              "      border-color: transparent;\n",
              "      border-bottom-color: var(--fill-color);\n",
              "      border-left-color: var(--fill-color);\n",
              "    }\n",
              "    20% {\n",
              "      border-color: transparent;\n",
              "      border-left-color: var(--fill-color);\n",
              "      border-top-color: var(--fill-color);\n",
              "    }\n",
              "    30% {\n",
              "      border-color: transparent;\n",
              "      border-left-color: var(--fill-color);\n",
              "      border-top-color: var(--fill-color);\n",
              "      border-right-color: var(--fill-color);\n",
              "    }\n",
              "    40% {\n",
              "      border-color: transparent;\n",
              "      border-right-color: var(--fill-color);\n",
              "      border-top-color: var(--fill-color);\n",
              "    }\n",
              "    60% {\n",
              "      border-color: transparent;\n",
              "      border-right-color: var(--fill-color);\n",
              "    }\n",
              "    80% {\n",
              "      border-color: transparent;\n",
              "      border-right-color: var(--fill-color);\n",
              "      border-bottom-color: var(--fill-color);\n",
              "    }\n",
              "    90% {\n",
              "      border-color: transparent;\n",
              "      border-bottom-color: var(--fill-color);\n",
              "    }\n",
              "  }\n",
              "</style>\n",
              "\n",
              "  <script>\n",
              "    async function quickchart(key) {\n",
              "      const quickchartButtonEl =\n",
              "        document.querySelector('#' + key + ' button');\n",
              "      quickchartButtonEl.disabled = true;  // To prevent multiple clicks.\n",
              "      quickchartButtonEl.classList.add('colab-df-spinner');\n",
              "      try {\n",
              "        const charts = await google.colab.kernel.invokeFunction(\n",
              "            'suggestCharts', [key], {});\n",
              "      } catch (error) {\n",
              "        console.error('Error during call to suggestCharts:', error);\n",
              "      }\n",
              "      quickchartButtonEl.classList.remove('colab-df-spinner');\n",
              "      quickchartButtonEl.classList.add('colab-df-quickchart-complete');\n",
              "    }\n",
              "    (() => {\n",
              "      let quickchartButtonEl =\n",
              "        document.querySelector('#df-5a05dc9b-b162-447d-9c7b-27997f1b1175 button');\n",
              "      quickchartButtonEl.style.display =\n",
              "        google.colab.kernel.accessAllowed ? 'block' : 'none';\n",
              "    })();\n",
              "  </script>\n",
              "</div>\n",
              "    </div>\n",
              "  </div>\n"
            ]
          },
          "metadata": {},
          "execution_count": 21
        }
      ],
      "source": [
        "data.corr()"
      ]
    },
    {
      "cell_type": "code",
      "execution_count": null,
      "id": "ee90c856",
      "metadata": {
        "id": "ee90c856"
      },
      "outputs": [],
      "source": [
        "data['out_in_bytes_time']=(data.OUT_BYTES/data.IN_BYTES)*(data.FLOW_DURATION_MILLISECONDS*0.001)"
      ]
    },
    {
      "cell_type": "code",
      "execution_count": null,
      "id": "32fcc2b3",
      "metadata": {
        "colab": {
          "base_uri": "https://localhost:8080/",
          "height": 529
        },
        "id": "32fcc2b3",
        "outputId": "cceddfee-bd77-46fa-ac32-31adfadac763"
      },
      "outputs": [
        {
          "output_type": "stream",
          "name": "stderr",
          "text": [
            "<ipython-input-23-c44ded798807>:1: FutureWarning: The default value of numeric_only in DataFrame.corr is deprecated. In a future version, it will default to False. Select only valid columns or specify the value of numeric_only to silence this warning.\n",
            "  data.corr()\n"
          ]
        },
        {
          "output_type": "execute_result",
          "data": {
            "text/plain": [
              "                            Unnamed: 0  L4_SRC_PORT  L4_DST_PORT  PROTOCOL  \\\n",
              "Unnamed: 0                    1.000000    -0.084834     0.070172  0.213140   \n",
              "L4_SRC_PORT                  -0.084834     1.000000    -0.060187 -0.032670   \n",
              "L4_DST_PORT                   0.070172    -0.060187     1.000000  0.211896   \n",
              "PROTOCOL                      0.213140    -0.032670     0.211896  1.000000   \n",
              "L7_PROTO                      0.079061    -0.236361    -0.108081 -0.045723   \n",
              "IN_BYTES                     -0.009893    -0.077784    -0.010812  0.034025   \n",
              "OUT_BYTES                    -0.004410    -0.030139     0.008336  0.008609   \n",
              "IN_PKTS                      -0.014789    -0.154022    -0.021712  0.067290   \n",
              "TCP_FLAGS                    -0.080953     0.143799    -0.198035 -0.614049   \n",
              "FLOW_DURATION_MILLISECONDS   -0.437961     0.007785     0.046134 -0.404820   \n",
              "Label                        -0.074560     0.191546    -0.020502 -0.352958   \n",
              "out-in_bytes                  0.000883     0.011075     0.012950 -0.009012   \n",
              "out_in_bytes_time            -0.066497    -0.005024     0.003823 -0.037404   \n",
              "\n",
              "                            L7_PROTO  IN_BYTES  OUT_BYTES   IN_PKTS  \\\n",
              "Unnamed: 0                  0.079061 -0.009893  -0.004410 -0.014789   \n",
              "L4_SRC_PORT                -0.236361 -0.077784  -0.030139 -0.154022   \n",
              "L4_DST_PORT                -0.108081 -0.010812   0.008336 -0.021712   \n",
              "PROTOCOL                   -0.045723  0.034025   0.008609  0.067290   \n",
              "L7_PROTO                    1.000000 -0.003500  -0.001673 -0.006457   \n",
              "IN_BYTES                   -0.003500  1.000000   0.083419  0.704815   \n",
              "OUT_BYTES                  -0.001673  0.083419   1.000000  0.199579   \n",
              "IN_PKTS                    -0.006457  0.704815   0.199579  1.000000   \n",
              "TCP_FLAGS                   0.045935 -0.055709  -0.012201 -0.105871   \n",
              "FLOW_DURATION_MILLISECONDS  0.048169  0.008240   0.003337  0.012739   \n",
              "Label                      -0.111708 -0.135825  -0.031710 -0.262799   \n",
              "out-in_bytes                0.000210 -0.419365   0.869671 -0.167321   \n",
              "out_in_bytes_time           0.004392 -0.000736   0.812449  0.043862   \n",
              "\n",
              "                            TCP_FLAGS  FLOW_DURATION_MILLISECONDS     Label  \\\n",
              "Unnamed: 0                  -0.080953                   -0.437961 -0.074560   \n",
              "L4_SRC_PORT                  0.143799                    0.007785  0.191546   \n",
              "L4_DST_PORT                 -0.198035                    0.046134 -0.020502   \n",
              "PROTOCOL                    -0.614049                   -0.404820 -0.352958   \n",
              "L7_PROTO                     0.045935                    0.048169 -0.111708   \n",
              "IN_BYTES                    -0.055709                    0.008240 -0.135825   \n",
              "OUT_BYTES                   -0.012201                    0.003337 -0.031710   \n",
              "IN_PKTS                     -0.105871                    0.012739 -0.262799   \n",
              "TCP_FLAGS                    1.000000                    0.220714  0.255931   \n",
              "FLOW_DURATION_MILLISECONDS   0.220714                    1.000000  0.017453   \n",
              "Label                        0.255931                    0.017453  1.000000   \n",
              "out-in_bytes                 0.016481                   -0.001041  0.038395   \n",
              "out_in_bytes_time            0.037250                    0.105257  0.000866   \n",
              "\n",
              "                            out-in_bytes  out_in_bytes_time  \n",
              "Unnamed: 0                      0.000883          -0.066497  \n",
              "L4_SRC_PORT                     0.011075          -0.005024  \n",
              "L4_DST_PORT                     0.012950           0.003823  \n",
              "PROTOCOL                       -0.009012          -0.037404  \n",
              "L7_PROTO                        0.000210           0.004392  \n",
              "IN_BYTES                       -0.419365          -0.000736  \n",
              "OUT_BYTES                       0.869671           0.812449  \n",
              "IN_PKTS                        -0.167321           0.043862  \n",
              "TCP_FLAGS                       0.016481           0.037250  \n",
              "FLOW_DURATION_MILLISECONDS     -0.001041           0.105257  \n",
              "Label                           0.038395           0.000866  \n",
              "out-in_bytes                    1.000000           0.740500  \n",
              "out_in_bytes_time               0.740500           1.000000  "
            ],
            "text/html": [
              "\n",
              "  <div id=\"df-cbd01c3e-e174-4b9b-b24e-66f3010480f1\" class=\"colab-df-container\">\n",
              "    <div>\n",
              "<style scoped>\n",
              "    .dataframe tbody tr th:only-of-type {\n",
              "        vertical-align: middle;\n",
              "    }\n",
              "\n",
              "    .dataframe tbody tr th {\n",
              "        vertical-align: top;\n",
              "    }\n",
              "\n",
              "    .dataframe thead th {\n",
              "        text-align: right;\n",
              "    }\n",
              "</style>\n",
              "<table border=\"1\" class=\"dataframe\">\n",
              "  <thead>\n",
              "    <tr style=\"text-align: right;\">\n",
              "      <th></th>\n",
              "      <th>Unnamed: 0</th>\n",
              "      <th>L4_SRC_PORT</th>\n",
              "      <th>L4_DST_PORT</th>\n",
              "      <th>PROTOCOL</th>\n",
              "      <th>L7_PROTO</th>\n",
              "      <th>IN_BYTES</th>\n",
              "      <th>OUT_BYTES</th>\n",
              "      <th>IN_PKTS</th>\n",
              "      <th>TCP_FLAGS</th>\n",
              "      <th>FLOW_DURATION_MILLISECONDS</th>\n",
              "      <th>Label</th>\n",
              "      <th>out-in_bytes</th>\n",
              "      <th>out_in_bytes_time</th>\n",
              "    </tr>\n",
              "  </thead>\n",
              "  <tbody>\n",
              "    <tr>\n",
              "      <th>Unnamed: 0</th>\n",
              "      <td>1.000000</td>\n",
              "      <td>-0.084834</td>\n",
              "      <td>0.070172</td>\n",
              "      <td>0.213140</td>\n",
              "      <td>0.079061</td>\n",
              "      <td>-0.009893</td>\n",
              "      <td>-0.004410</td>\n",
              "      <td>-0.014789</td>\n",
              "      <td>-0.080953</td>\n",
              "      <td>-0.437961</td>\n",
              "      <td>-0.074560</td>\n",
              "      <td>0.000883</td>\n",
              "      <td>-0.066497</td>\n",
              "    </tr>\n",
              "    <tr>\n",
              "      <th>L4_SRC_PORT</th>\n",
              "      <td>-0.084834</td>\n",
              "      <td>1.000000</td>\n",
              "      <td>-0.060187</td>\n",
              "      <td>-0.032670</td>\n",
              "      <td>-0.236361</td>\n",
              "      <td>-0.077784</td>\n",
              "      <td>-0.030139</td>\n",
              "      <td>-0.154022</td>\n",
              "      <td>0.143799</td>\n",
              "      <td>0.007785</td>\n",
              "      <td>0.191546</td>\n",
              "      <td>0.011075</td>\n",
              "      <td>-0.005024</td>\n",
              "    </tr>\n",
              "    <tr>\n",
              "      <th>L4_DST_PORT</th>\n",
              "      <td>0.070172</td>\n",
              "      <td>-0.060187</td>\n",
              "      <td>1.000000</td>\n",
              "      <td>0.211896</td>\n",
              "      <td>-0.108081</td>\n",
              "      <td>-0.010812</td>\n",
              "      <td>0.008336</td>\n",
              "      <td>-0.021712</td>\n",
              "      <td>-0.198035</td>\n",
              "      <td>0.046134</td>\n",
              "      <td>-0.020502</td>\n",
              "      <td>0.012950</td>\n",
              "      <td>0.003823</td>\n",
              "    </tr>\n",
              "    <tr>\n",
              "      <th>PROTOCOL</th>\n",
              "      <td>0.213140</td>\n",
              "      <td>-0.032670</td>\n",
              "      <td>0.211896</td>\n",
              "      <td>1.000000</td>\n",
              "      <td>-0.045723</td>\n",
              "      <td>0.034025</td>\n",
              "      <td>0.008609</td>\n",
              "      <td>0.067290</td>\n",
              "      <td>-0.614049</td>\n",
              "      <td>-0.404820</td>\n",
              "      <td>-0.352958</td>\n",
              "      <td>-0.009012</td>\n",
              "      <td>-0.037404</td>\n",
              "    </tr>\n",
              "    <tr>\n",
              "      <th>L7_PROTO</th>\n",
              "      <td>0.079061</td>\n",
              "      <td>-0.236361</td>\n",
              "      <td>-0.108081</td>\n",
              "      <td>-0.045723</td>\n",
              "      <td>1.000000</td>\n",
              "      <td>-0.003500</td>\n",
              "      <td>-0.001673</td>\n",
              "      <td>-0.006457</td>\n",
              "      <td>0.045935</td>\n",
              "      <td>0.048169</td>\n",
              "      <td>-0.111708</td>\n",
              "      <td>0.000210</td>\n",
              "      <td>0.004392</td>\n",
              "    </tr>\n",
              "    <tr>\n",
              "      <th>IN_BYTES</th>\n",
              "      <td>-0.009893</td>\n",
              "      <td>-0.077784</td>\n",
              "      <td>-0.010812</td>\n",
              "      <td>0.034025</td>\n",
              "      <td>-0.003500</td>\n",
              "      <td>1.000000</td>\n",
              "      <td>0.083419</td>\n",
              "      <td>0.704815</td>\n",
              "      <td>-0.055709</td>\n",
              "      <td>0.008240</td>\n",
              "      <td>-0.135825</td>\n",
              "      <td>-0.419365</td>\n",
              "      <td>-0.000736</td>\n",
              "    </tr>\n",
              "    <tr>\n",
              "      <th>OUT_BYTES</th>\n",
              "      <td>-0.004410</td>\n",
              "      <td>-0.030139</td>\n",
              "      <td>0.008336</td>\n",
              "      <td>0.008609</td>\n",
              "      <td>-0.001673</td>\n",
              "      <td>0.083419</td>\n",
              "      <td>1.000000</td>\n",
              "      <td>0.199579</td>\n",
              "      <td>-0.012201</td>\n",
              "      <td>0.003337</td>\n",
              "      <td>-0.031710</td>\n",
              "      <td>0.869671</td>\n",
              "      <td>0.812449</td>\n",
              "    </tr>\n",
              "    <tr>\n",
              "      <th>IN_PKTS</th>\n",
              "      <td>-0.014789</td>\n",
              "      <td>-0.154022</td>\n",
              "      <td>-0.021712</td>\n",
              "      <td>0.067290</td>\n",
              "      <td>-0.006457</td>\n",
              "      <td>0.704815</td>\n",
              "      <td>0.199579</td>\n",
              "      <td>1.000000</td>\n",
              "      <td>-0.105871</td>\n",
              "      <td>0.012739</td>\n",
              "      <td>-0.262799</td>\n",
              "      <td>-0.167321</td>\n",
              "      <td>0.043862</td>\n",
              "    </tr>\n",
              "    <tr>\n",
              "      <th>TCP_FLAGS</th>\n",
              "      <td>-0.080953</td>\n",
              "      <td>0.143799</td>\n",
              "      <td>-0.198035</td>\n",
              "      <td>-0.614049</td>\n",
              "      <td>0.045935</td>\n",
              "      <td>-0.055709</td>\n",
              "      <td>-0.012201</td>\n",
              "      <td>-0.105871</td>\n",
              "      <td>1.000000</td>\n",
              "      <td>0.220714</td>\n",
              "      <td>0.255931</td>\n",
              "      <td>0.016481</td>\n",
              "      <td>0.037250</td>\n",
              "    </tr>\n",
              "    <tr>\n",
              "      <th>FLOW_DURATION_MILLISECONDS</th>\n",
              "      <td>-0.437961</td>\n",
              "      <td>0.007785</td>\n",
              "      <td>0.046134</td>\n",
              "      <td>-0.404820</td>\n",
              "      <td>0.048169</td>\n",
              "      <td>0.008240</td>\n",
              "      <td>0.003337</td>\n",
              "      <td>0.012739</td>\n",
              "      <td>0.220714</td>\n",
              "      <td>1.000000</td>\n",
              "      <td>0.017453</td>\n",
              "      <td>-0.001041</td>\n",
              "      <td>0.105257</td>\n",
              "    </tr>\n",
              "    <tr>\n",
              "      <th>Label</th>\n",
              "      <td>-0.074560</td>\n",
              "      <td>0.191546</td>\n",
              "      <td>-0.020502</td>\n",
              "      <td>-0.352958</td>\n",
              "      <td>-0.111708</td>\n",
              "      <td>-0.135825</td>\n",
              "      <td>-0.031710</td>\n",
              "      <td>-0.262799</td>\n",
              "      <td>0.255931</td>\n",
              "      <td>0.017453</td>\n",
              "      <td>1.000000</td>\n",
              "      <td>0.038395</td>\n",
              "      <td>0.000866</td>\n",
              "    </tr>\n",
              "    <tr>\n",
              "      <th>out-in_bytes</th>\n",
              "      <td>0.000883</td>\n",
              "      <td>0.011075</td>\n",
              "      <td>0.012950</td>\n",
              "      <td>-0.009012</td>\n",
              "      <td>0.000210</td>\n",
              "      <td>-0.419365</td>\n",
              "      <td>0.869671</td>\n",
              "      <td>-0.167321</td>\n",
              "      <td>0.016481</td>\n",
              "      <td>-0.001041</td>\n",
              "      <td>0.038395</td>\n",
              "      <td>1.000000</td>\n",
              "      <td>0.740500</td>\n",
              "    </tr>\n",
              "    <tr>\n",
              "      <th>out_in_bytes_time</th>\n",
              "      <td>-0.066497</td>\n",
              "      <td>-0.005024</td>\n",
              "      <td>0.003823</td>\n",
              "      <td>-0.037404</td>\n",
              "      <td>0.004392</td>\n",
              "      <td>-0.000736</td>\n",
              "      <td>0.812449</td>\n",
              "      <td>0.043862</td>\n",
              "      <td>0.037250</td>\n",
              "      <td>0.105257</td>\n",
              "      <td>0.000866</td>\n",
              "      <td>0.740500</td>\n",
              "      <td>1.000000</td>\n",
              "    </tr>\n",
              "  </tbody>\n",
              "</table>\n",
              "</div>\n",
              "    <div class=\"colab-df-buttons\">\n",
              "\n",
              "  <div class=\"colab-df-container\">\n",
              "    <button class=\"colab-df-convert\" onclick=\"convertToInteractive('df-cbd01c3e-e174-4b9b-b24e-66f3010480f1')\"\n",
              "            title=\"Convert this dataframe to an interactive table.\"\n",
              "            style=\"display:none;\">\n",
              "\n",
              "  <svg xmlns=\"http://www.w3.org/2000/svg\" height=\"24px\" viewBox=\"0 -960 960 960\">\n",
              "    <path d=\"M120-120v-720h720v720H120Zm60-500h600v-160H180v160Zm220 220h160v-160H400v160Zm0 220h160v-160H400v160ZM180-400h160v-160H180v160Zm440 0h160v-160H620v160ZM180-180h160v-160H180v160Zm440 0h160v-160H620v160Z\"/>\n",
              "  </svg>\n",
              "    </button>\n",
              "\n",
              "  <style>\n",
              "    .colab-df-container {\n",
              "      display:flex;\n",
              "      gap: 12px;\n",
              "    }\n",
              "\n",
              "    .colab-df-convert {\n",
              "      background-color: #E8F0FE;\n",
              "      border: none;\n",
              "      border-radius: 50%;\n",
              "      cursor: pointer;\n",
              "      display: none;\n",
              "      fill: #1967D2;\n",
              "      height: 32px;\n",
              "      padding: 0 0 0 0;\n",
              "      width: 32px;\n",
              "    }\n",
              "\n",
              "    .colab-df-convert:hover {\n",
              "      background-color: #E2EBFA;\n",
              "      box-shadow: 0px 1px 2px rgba(60, 64, 67, 0.3), 0px 1px 3px 1px rgba(60, 64, 67, 0.15);\n",
              "      fill: #174EA6;\n",
              "    }\n",
              "\n",
              "    .colab-df-buttons div {\n",
              "      margin-bottom: 4px;\n",
              "    }\n",
              "\n",
              "    [theme=dark] .colab-df-convert {\n",
              "      background-color: #3B4455;\n",
              "      fill: #D2E3FC;\n",
              "    }\n",
              "\n",
              "    [theme=dark] .colab-df-convert:hover {\n",
              "      background-color: #434B5C;\n",
              "      box-shadow: 0px 1px 3px 1px rgba(0, 0, 0, 0.15);\n",
              "      filter: drop-shadow(0px 1px 2px rgba(0, 0, 0, 0.3));\n",
              "      fill: #FFFFFF;\n",
              "    }\n",
              "  </style>\n",
              "\n",
              "    <script>\n",
              "      const buttonEl =\n",
              "        document.querySelector('#df-cbd01c3e-e174-4b9b-b24e-66f3010480f1 button.colab-df-convert');\n",
              "      buttonEl.style.display =\n",
              "        google.colab.kernel.accessAllowed ? 'block' : 'none';\n",
              "\n",
              "      async function convertToInteractive(key) {\n",
              "        const element = document.querySelector('#df-cbd01c3e-e174-4b9b-b24e-66f3010480f1');\n",
              "        const dataTable =\n",
              "          await google.colab.kernel.invokeFunction('convertToInteractive',\n",
              "                                                    [key], {});\n",
              "        if (!dataTable) return;\n",
              "\n",
              "        const docLinkHtml = 'Like what you see? Visit the ' +\n",
              "          '<a target=\"_blank\" href=https://colab.research.google.com/notebooks/data_table.ipynb>data table notebook</a>'\n",
              "          + ' to learn more about interactive tables.';\n",
              "        element.innerHTML = '';\n",
              "        dataTable['output_type'] = 'display_data';\n",
              "        await google.colab.output.renderOutput(dataTable, element);\n",
              "        const docLink = document.createElement('div');\n",
              "        docLink.innerHTML = docLinkHtml;\n",
              "        element.appendChild(docLink);\n",
              "      }\n",
              "    </script>\n",
              "  </div>\n",
              "\n",
              "\n",
              "<div id=\"df-99e87888-566c-44f7-81ff-8fdb3a34ac73\">\n",
              "  <button class=\"colab-df-quickchart\" onclick=\"quickchart('df-99e87888-566c-44f7-81ff-8fdb3a34ac73')\"\n",
              "            title=\"Suggest charts.\"\n",
              "            style=\"display:none;\">\n",
              "\n",
              "<svg xmlns=\"http://www.w3.org/2000/svg\" height=\"24px\"viewBox=\"0 0 24 24\"\n",
              "     width=\"24px\">\n",
              "    <g>\n",
              "        <path d=\"M19 3H5c-1.1 0-2 .9-2 2v14c0 1.1.9 2 2 2h14c1.1 0 2-.9 2-2V5c0-1.1-.9-2-2-2zM9 17H7v-7h2v7zm4 0h-2V7h2v10zm4 0h-2v-4h2v4z\"/>\n",
              "    </g>\n",
              "</svg>\n",
              "  </button>\n",
              "\n",
              "<style>\n",
              "  .colab-df-quickchart {\n",
              "      --bg-color: #E8F0FE;\n",
              "      --fill-color: #1967D2;\n",
              "      --hover-bg-color: #E2EBFA;\n",
              "      --hover-fill-color: #174EA6;\n",
              "      --disabled-fill-color: #AAA;\n",
              "      --disabled-bg-color: #DDD;\n",
              "  }\n",
              "\n",
              "  [theme=dark] .colab-df-quickchart {\n",
              "      --bg-color: #3B4455;\n",
              "      --fill-color: #D2E3FC;\n",
              "      --hover-bg-color: #434B5C;\n",
              "      --hover-fill-color: #FFFFFF;\n",
              "      --disabled-bg-color: #3B4455;\n",
              "      --disabled-fill-color: #666;\n",
              "  }\n",
              "\n",
              "  .colab-df-quickchart {\n",
              "    background-color: var(--bg-color);\n",
              "    border: none;\n",
              "    border-radius: 50%;\n",
              "    cursor: pointer;\n",
              "    display: none;\n",
              "    fill: var(--fill-color);\n",
              "    height: 32px;\n",
              "    padding: 0;\n",
              "    width: 32px;\n",
              "  }\n",
              "\n",
              "  .colab-df-quickchart:hover {\n",
              "    background-color: var(--hover-bg-color);\n",
              "    box-shadow: 0 1px 2px rgba(60, 64, 67, 0.3), 0 1px 3px 1px rgba(60, 64, 67, 0.15);\n",
              "    fill: var(--button-hover-fill-color);\n",
              "  }\n",
              "\n",
              "  .colab-df-quickchart-complete:disabled,\n",
              "  .colab-df-quickchart-complete:disabled:hover {\n",
              "    background-color: var(--disabled-bg-color);\n",
              "    fill: var(--disabled-fill-color);\n",
              "    box-shadow: none;\n",
              "  }\n",
              "\n",
              "  .colab-df-spinner {\n",
              "    border: 2px solid var(--fill-color);\n",
              "    border-color: transparent;\n",
              "    border-bottom-color: var(--fill-color);\n",
              "    animation:\n",
              "      spin 1s steps(1) infinite;\n",
              "  }\n",
              "\n",
              "  @keyframes spin {\n",
              "    0% {\n",
              "      border-color: transparent;\n",
              "      border-bottom-color: var(--fill-color);\n",
              "      border-left-color: var(--fill-color);\n",
              "    }\n",
              "    20% {\n",
              "      border-color: transparent;\n",
              "      border-left-color: var(--fill-color);\n",
              "      border-top-color: var(--fill-color);\n",
              "    }\n",
              "    30% {\n",
              "      border-color: transparent;\n",
              "      border-left-color: var(--fill-color);\n",
              "      border-top-color: var(--fill-color);\n",
              "      border-right-color: var(--fill-color);\n",
              "    }\n",
              "    40% {\n",
              "      border-color: transparent;\n",
              "      border-right-color: var(--fill-color);\n",
              "      border-top-color: var(--fill-color);\n",
              "    }\n",
              "    60% {\n",
              "      border-color: transparent;\n",
              "      border-right-color: var(--fill-color);\n",
              "    }\n",
              "    80% {\n",
              "      border-color: transparent;\n",
              "      border-right-color: var(--fill-color);\n",
              "      border-bottom-color: var(--fill-color);\n",
              "    }\n",
              "    90% {\n",
              "      border-color: transparent;\n",
              "      border-bottom-color: var(--fill-color);\n",
              "    }\n",
              "  }\n",
              "</style>\n",
              "\n",
              "  <script>\n",
              "    async function quickchart(key) {\n",
              "      const quickchartButtonEl =\n",
              "        document.querySelector('#' + key + ' button');\n",
              "      quickchartButtonEl.disabled = true;  // To prevent multiple clicks.\n",
              "      quickchartButtonEl.classList.add('colab-df-spinner');\n",
              "      try {\n",
              "        const charts = await google.colab.kernel.invokeFunction(\n",
              "            'suggestCharts', [key], {});\n",
              "      } catch (error) {\n",
              "        console.error('Error during call to suggestCharts:', error);\n",
              "      }\n",
              "      quickchartButtonEl.classList.remove('colab-df-spinner');\n",
              "      quickchartButtonEl.classList.add('colab-df-quickchart-complete');\n",
              "    }\n",
              "    (() => {\n",
              "      let quickchartButtonEl =\n",
              "        document.querySelector('#df-99e87888-566c-44f7-81ff-8fdb3a34ac73 button');\n",
              "      quickchartButtonEl.style.display =\n",
              "        google.colab.kernel.accessAllowed ? 'block' : 'none';\n",
              "    })();\n",
              "  </script>\n",
              "</div>\n",
              "    </div>\n",
              "  </div>\n"
            ]
          },
          "metadata": {},
          "execution_count": 23
        }
      ],
      "source": [
        "data.corr()"
      ]
    },
    {
      "cell_type": "code",
      "execution_count": null,
      "id": "f19b73a8",
      "metadata": {
        "id": "f19b73a8"
      },
      "outputs": [],
      "source": [
        "data.drop('out_in_bytes_time',axis=1,inplace=True)"
      ]
    },
    {
      "cell_type": "code",
      "execution_count": null,
      "id": "304c89d3",
      "metadata": {
        "colab": {
          "base_uri": "https://localhost:8080/"
        },
        "id": "304c89d3",
        "outputId": "1d534bab-f65e-4f18-b44c-a5dabce9ea53"
      },
      "outputs": [
        {
          "output_type": "execute_result",
          "data": {
            "text/plain": [
              "Index(['Unnamed: 0', 'L4_SRC_PORT', 'L4_DST_PORT', 'PROTOCOL', 'L7_PROTO',\n",
              "       'IN_BYTES', 'OUT_BYTES', 'IN_PKTS', 'TCP_FLAGS',\n",
              "       'FLOW_DURATION_MILLISECONDS', 'Label', 'Attack', 'out-in_bytes'],\n",
              "      dtype='object')"
            ]
          },
          "metadata": {},
          "execution_count": 25
        }
      ],
      "source": [
        "data.columns"
      ]
    },
    {
      "cell_type": "markdown",
      "id": "3498b34f",
      "metadata": {
        "id": "3498b34f"
      },
      "source": [
        "## note\n",
        "we did an outlier detection using isolation forest, but not outlier was found"
      ]
    },
    {
      "cell_type": "code",
      "execution_count": null,
      "id": "2e119312",
      "metadata": {
        "id": "2e119312"
      },
      "outputs": [],
      "source": [
        "column_to_encode = \"Attack\"\n",
        "\n",
        "# One-hot encode the column\n",
        "one_hot = pd.get_dummies(data[column_to_encode])\n",
        "\n",
        "# Drop the original column\n",
        "df2 = data.drop(column_to_encode, axis=1)\n",
        "\n",
        "# Concatenate the one-hot encoded column back to the dataframe\n",
        "df2 = pd.concat([df2, one_hot], axis=1)"
      ]
    },
    {
      "cell_type": "code",
      "execution_count": null,
      "id": "57a4f8e7",
      "metadata": {
        "id": "57a4f8e7"
      },
      "outputs": [],
      "source": [
        "column_to_encode = \"Attack\"\n",
        "\n",
        "# One-hot encode the column\n",
        "one_hot = pd.get_dummies(data[column_to_encode])\n",
        "\n",
        "# Drop the original column\n",
        "data = data.drop(column_to_encode, axis=1)"
      ]
    },
    {
      "cell_type": "code",
      "execution_count": null,
      "id": "414a004f",
      "metadata": {
        "id": "414a004f"
      },
      "outputs": [],
      "source": [
        "# Concatenate the one-hot encoded column back to the dataframe\n",
        "data = pd.concat([data, one_hot], axis=1)"
      ]
    },
    {
      "cell_type": "code",
      "execution_count": null,
      "id": "43f905a0",
      "metadata": {
        "id": "43f905a0"
      },
      "outputs": [],
      "source": [
        "data.drop('Theft',axis=1,inplace=True)"
      ]
    },
    {
      "cell_type": "code",
      "execution_count": null,
      "id": "TvCLttbpk5CH",
      "metadata": {
        "colab": {
          "base_uri": "https://localhost:8080/"
        },
        "id": "TvCLttbpk5CH",
        "outputId": "4852a039-9ae0-4578-db92-4c502acbccab"
      },
      "outputs": [
        {
          "output_type": "execute_result",
          "data": {
            "text/plain": [
              "(480080, 16)"
            ]
          },
          "metadata": {},
          "execution_count": 30
        }
      ],
      "source": [
        "data.shape"
      ]
    },
    {
      "cell_type": "markdown",
      "id": "4eca0046",
      "metadata": {
        "id": "4eca0046"
      },
      "source": [
        "## ANOVA"
      ]
    },
    {
      "cell_type": "code",
      "execution_count": null,
      "id": "8177dbe1",
      "metadata": {
        "id": "8177dbe1"
      },
      "outputs": [],
      "source": [
        "data.drop('Unnamed: 0', axis=1, inplace=True)"
      ]
    },
    {
      "cell_type": "code",
      "execution_count": null,
      "id": "0d591bca",
      "metadata": {
        "colab": {
          "base_uri": "https://localhost:8080/"
        },
        "id": "0d591bca",
        "outputId": "07c96ff5-f466-4356-bea5-c74d21313802",
        "scrolled": false
      },
      "outputs": [
        {
          "output_type": "execute_result",
          "data": {
            "text/plain": [
              "Index(['L4_SRC_PORT', 'L4_DST_PORT', 'PROTOCOL', 'L7_PROTO', 'IN_BYTES',\n",
              "       'OUT_BYTES', 'IN_PKTS', 'TCP_FLAGS', 'FLOW_DURATION_MILLISECONDS',\n",
              "       'Label', 'out-in_bytes', 'Benign', 'DDoS', 'DoS', 'Reconnaissance'],\n",
              "      dtype='object')"
            ]
          },
          "metadata": {},
          "execution_count": 32
        }
      ],
      "source": [
        "data.columns"
      ]
    },
    {
      "cell_type": "code",
      "execution_count": null,
      "id": "343211d8",
      "metadata": {
        "colab": {
          "base_uri": "https://localhost:8080/"
        },
        "id": "343211d8",
        "outputId": "246aa5d1-623b-4b8f-e7c5-e41f4ef8b757",
        "scrolled": true
      },
      "outputs": [
        {
          "output_type": "execute_result",
          "data": {
            "text/plain": [
              "15"
            ]
          },
          "metadata": {},
          "execution_count": 33
        }
      ],
      "source": [
        "len(data.columns)"
      ]
    },
    {
      "cell_type": "code",
      "execution_count": null,
      "id": "RQ7Z8ruHVJil",
      "metadata": {
        "colab": {
          "base_uri": "https://localhost:8080/"
        },
        "id": "RQ7Z8ruHVJil",
        "outputId": "4ed50b74-67ec-46f7-b801-5e77d2a4f45d"
      },
      "outputs": [
        {
          "output_type": "stream",
          "name": "stdout",
          "text": [
            "<class 'pandas.core.frame.DataFrame'>\n",
            "RangeIndex: 480080 entries, 0 to 480079\n",
            "Data columns (total 15 columns):\n",
            " #   Column                      Non-Null Count   Dtype  \n",
            "---  ------                      --------------   -----  \n",
            " 0   L4_SRC_PORT                 480080 non-null  int64  \n",
            " 1   L4_DST_PORT                 480080 non-null  int64  \n",
            " 2   PROTOCOL                    480080 non-null  int64  \n",
            " 3   L7_PROTO                    480080 non-null  float64\n",
            " 4   IN_BYTES                    480080 non-null  int64  \n",
            " 5   OUT_BYTES                   480080 non-null  int64  \n",
            " 6   IN_PKTS                     480080 non-null  int64  \n",
            " 7   TCP_FLAGS                   480080 non-null  int64  \n",
            " 8   FLOW_DURATION_MILLISECONDS  480080 non-null  int64  \n",
            " 9   Label                       480080 non-null  int64  \n",
            " 10  out-in_bytes                480080 non-null  int64  \n",
            " 11  Benign                      480080 non-null  uint8  \n",
            " 12  DDoS                        480080 non-null  uint8  \n",
            " 13  DoS                         480080 non-null  uint8  \n",
            " 14  Reconnaissance              480080 non-null  uint8  \n",
            "dtypes: float64(1), int64(10), uint8(4)\n",
            "memory usage: 42.1 MB\n"
          ]
        }
      ],
      "source": [
        "data.info()"
      ]
    },
    {
      "cell_type": "code",
      "execution_count": null,
      "id": "MweRxwDEVMnd",
      "metadata": {
        "id": "MweRxwDEVMnd"
      },
      "outputs": [],
      "source": [
        "X, y = data.drop(['Label', 'Benign', 'DDoS', 'DoS', 'Reconnaissance'], axis=1), df['Label']"
      ]
    },
    {
      "cell_type": "code",
      "execution_count": null,
      "id": "jqt0UU9-WL08",
      "metadata": {
        "colab": {
          "base_uri": "https://localhost:8080/"
        },
        "id": "jqt0UU9-WL08",
        "outputId": "49b8cc2a-5199-4f4b-b5db-2a2ec7f0d8ff"
      },
      "outputs": [
        {
          "output_type": "execute_result",
          "data": {
            "text/plain": [
              "Index(['L4_SRC_PORT', 'L4_DST_PORT', 'PROTOCOL', 'L7_PROTO', 'IN_BYTES',\n",
              "       'OUT_BYTES', 'IN_PKTS', 'TCP_FLAGS', 'FLOW_DURATION_MILLISECONDS',\n",
              "       'out-in_bytes'],\n",
              "      dtype='object')"
            ]
          },
          "metadata": {},
          "execution_count": 36
        }
      ],
      "source": [
        "X.columns"
      ]
    },
    {
      "cell_type": "code",
      "execution_count": null,
      "id": "a934ba57",
      "metadata": {
        "colab": {
          "base_uri": "https://localhost:8080/"
        },
        "id": "a934ba57",
        "outputId": "47913912-45f8-4444-86aa-372de0e07dee"
      },
      "outputs": [
        {
          "output_type": "execute_result",
          "data": {
            "text/plain": [
              "Index(['L4_SRC_PORT', 'L4_DST_PORT', 'PROTOCOL', 'L7_PROTO', 'IN_BYTES',\n",
              "       'OUT_BYTES', 'IN_PKTS', 'TCP_FLAGS', 'FLOW_DURATION_MILLISECONDS',\n",
              "       'out-in_bytes'],\n",
              "      dtype='object')"
            ]
          },
          "metadata": {},
          "execution_count": 37
        }
      ],
      "source": [
        "from sklearn.feature_selection import SelectKBest\n",
        "from sklearn.feature_selection import f_classif\n",
        "\n",
        "# Load the dataset\n",
        "# X: input features, y: target variable\n",
        "X, y = data.drop(['Label', 'Benign', 'DDoS', 'DoS', 'Reconnaissance'], axis=1), df['Label']\n",
        "\n",
        "# Define the feature selection method\n",
        "fvalue_selector = SelectKBest(f_classif, k=10)\n",
        "\n",
        "# Apply the feature selection method to the dataset\n",
        "X_kbest = fvalue_selector.fit_transform(X, y)\n",
        "selected_features_num = fvalue_selector.get_support(indices=True)\n",
        "X.columns[selected_features_num]"
      ]
    },
    {
      "cell_type": "code",
      "execution_count": null,
      "id": "8ad809a7",
      "metadata": {
        "colab": {
          "base_uri": "https://localhost:8080/"
        },
        "id": "8ad809a7",
        "outputId": "d767ec1b-df38-414d-8b4d-b45631a2c8b2",
        "scrolled": true
      },
      "outputs": [
        {
          "output_type": "execute_result",
          "data": {
            "text/plain": [
              "L4_SRC_PORT                   0.191546\n",
              "L4_DST_PORT                  -0.020502\n",
              "PROTOCOL                     -0.352958\n",
              "L7_PROTO                     -0.111708\n",
              "IN_BYTES                     -0.135825\n",
              "OUT_BYTES                    -0.031710\n",
              "IN_PKTS                      -0.262799\n",
              "TCP_FLAGS                     0.255931\n",
              "FLOW_DURATION_MILLISECONDS    0.017453\n",
              "Label                         1.000000\n",
              "out-in_bytes                  0.038395\n",
              "Benign                       -1.000000\n",
              "DDoS                          0.049871\n",
              "DoS                           0.049835\n",
              "Reconnaissance                0.293871\n",
              "Name: Label, dtype: float64"
            ]
          },
          "metadata": {},
          "execution_count": 38
        }
      ],
      "source": [
        "data.corr()['Label']"
      ]
    },
    {
      "cell_type": "markdown",
      "id": "be6a925b",
      "metadata": {
        "id": "be6a925b"
      },
      "source": [
        "after ANOVA we finalised 10 features out of 12\n",
        "- `'L4_SRC_PORT', 'L4_DST_PORT', 'PROTOCOL', 'L7_PROTO', 'IN_BYTES', 'OUT_BYTES', 'IN_PKTS', 'TCP_FLAGS', 'FLOW_DURATION_MILLISECONDS', 'out-in_bytes'`"
      ]
    },
    {
      "cell_type": "code",
      "execution_count": null,
      "id": "08d82bcf",
      "metadata": {
        "id": "08d82bcf"
      },
      "outputs": [],
      "source": [
        "data.drop(['Benign', 'DDoS', 'DoS', 'Reconnaissance'], axis=1, inplace=True)"
      ]
    },
    {
      "cell_type": "code",
      "execution_count": null,
      "id": "tD7-hdGImUE_",
      "metadata": {
        "colab": {
          "base_uri": "https://localhost:8080/"
        },
        "id": "tD7-hdGImUE_",
        "outputId": "2a3e1fe3-3a3b-4836-bc49-b7ea9561b9ec"
      },
      "outputs": [
        {
          "output_type": "execute_result",
          "data": {
            "text/plain": [
              "Index(['L4_SRC_PORT', 'L4_DST_PORT', 'PROTOCOL', 'L7_PROTO', 'IN_BYTES',\n",
              "       'OUT_BYTES', 'IN_PKTS', 'TCP_FLAGS', 'FLOW_DURATION_MILLISECONDS',\n",
              "       'Label', 'out-in_bytes'],\n",
              "      dtype='object')"
            ]
          },
          "metadata": {},
          "execution_count": 40
        }
      ],
      "source": [
        "data.columns"
      ]
    },
    {
      "cell_type": "code",
      "execution_count": null,
      "id": "s0n-EhtHnVa7",
      "metadata": {
        "colab": {
          "base_uri": "https://localhost:8080/",
          "height": 206
        },
        "id": "s0n-EhtHnVa7",
        "outputId": "d79cfb2c-b659-4317-f967-59c9e11b3851"
      },
      "outputs": [
        {
          "output_type": "execute_result",
          "data": {
            "text/plain": [
              "   L4_SRC_PORT  L4_DST_PORT  PROTOCOL  L7_PROTO  IN_BYTES  OUT_BYTES  IN_PKTS  \\\n",
              "0        33163        40116        17       0.0        28          0        1   \n",
              "1        36228        20872        17       0.0        28          0        1   \n",
              "2        56742           80         6       7.0        52          0        1   \n",
              "3        40726        20164        17       0.0        28          0        1   \n",
              "4        41364           80         6       7.0       759        770        7   \n",
              "\n",
              "   TCP_FLAGS  FLOW_DURATION_MILLISECONDS  out-in_bytes  \n",
              "0          0                           0           -28  \n",
              "1          0                           0           -28  \n",
              "2         20                           0           -52  \n",
              "3          0                           0           -28  \n",
              "4         31                           0            11  "
            ],
            "text/html": [
              "\n",
              "  <div id=\"df-a6a1388a-3ff8-4a6c-aaf2-13efdb8a9999\" class=\"colab-df-container\">\n",
              "    <div>\n",
              "<style scoped>\n",
              "    .dataframe tbody tr th:only-of-type {\n",
              "        vertical-align: middle;\n",
              "    }\n",
              "\n",
              "    .dataframe tbody tr th {\n",
              "        vertical-align: top;\n",
              "    }\n",
              "\n",
              "    .dataframe thead th {\n",
              "        text-align: right;\n",
              "    }\n",
              "</style>\n",
              "<table border=\"1\" class=\"dataframe\">\n",
              "  <thead>\n",
              "    <tr style=\"text-align: right;\">\n",
              "      <th></th>\n",
              "      <th>L4_SRC_PORT</th>\n",
              "      <th>L4_DST_PORT</th>\n",
              "      <th>PROTOCOL</th>\n",
              "      <th>L7_PROTO</th>\n",
              "      <th>IN_BYTES</th>\n",
              "      <th>OUT_BYTES</th>\n",
              "      <th>IN_PKTS</th>\n",
              "      <th>TCP_FLAGS</th>\n",
              "      <th>FLOW_DURATION_MILLISECONDS</th>\n",
              "      <th>out-in_bytes</th>\n",
              "    </tr>\n",
              "  </thead>\n",
              "  <tbody>\n",
              "    <tr>\n",
              "      <th>0</th>\n",
              "      <td>33163</td>\n",
              "      <td>40116</td>\n",
              "      <td>17</td>\n",
              "      <td>0.0</td>\n",
              "      <td>28</td>\n",
              "      <td>0</td>\n",
              "      <td>1</td>\n",
              "      <td>0</td>\n",
              "      <td>0</td>\n",
              "      <td>-28</td>\n",
              "    </tr>\n",
              "    <tr>\n",
              "      <th>1</th>\n",
              "      <td>36228</td>\n",
              "      <td>20872</td>\n",
              "      <td>17</td>\n",
              "      <td>0.0</td>\n",
              "      <td>28</td>\n",
              "      <td>0</td>\n",
              "      <td>1</td>\n",
              "      <td>0</td>\n",
              "      <td>0</td>\n",
              "      <td>-28</td>\n",
              "    </tr>\n",
              "    <tr>\n",
              "      <th>2</th>\n",
              "      <td>56742</td>\n",
              "      <td>80</td>\n",
              "      <td>6</td>\n",
              "      <td>7.0</td>\n",
              "      <td>52</td>\n",
              "      <td>0</td>\n",
              "      <td>1</td>\n",
              "      <td>20</td>\n",
              "      <td>0</td>\n",
              "      <td>-52</td>\n",
              "    </tr>\n",
              "    <tr>\n",
              "      <th>3</th>\n",
              "      <td>40726</td>\n",
              "      <td>20164</td>\n",
              "      <td>17</td>\n",
              "      <td>0.0</td>\n",
              "      <td>28</td>\n",
              "      <td>0</td>\n",
              "      <td>1</td>\n",
              "      <td>0</td>\n",
              "      <td>0</td>\n",
              "      <td>-28</td>\n",
              "    </tr>\n",
              "    <tr>\n",
              "      <th>4</th>\n",
              "      <td>41364</td>\n",
              "      <td>80</td>\n",
              "      <td>6</td>\n",
              "      <td>7.0</td>\n",
              "      <td>759</td>\n",
              "      <td>770</td>\n",
              "      <td>7</td>\n",
              "      <td>31</td>\n",
              "      <td>0</td>\n",
              "      <td>11</td>\n",
              "    </tr>\n",
              "  </tbody>\n",
              "</table>\n",
              "</div>\n",
              "    <div class=\"colab-df-buttons\">\n",
              "\n",
              "  <div class=\"colab-df-container\">\n",
              "    <button class=\"colab-df-convert\" onclick=\"convertToInteractive('df-a6a1388a-3ff8-4a6c-aaf2-13efdb8a9999')\"\n",
              "            title=\"Convert this dataframe to an interactive table.\"\n",
              "            style=\"display:none;\">\n",
              "\n",
              "  <svg xmlns=\"http://www.w3.org/2000/svg\" height=\"24px\" viewBox=\"0 -960 960 960\">\n",
              "    <path d=\"M120-120v-720h720v720H120Zm60-500h600v-160H180v160Zm220 220h160v-160H400v160Zm0 220h160v-160H400v160ZM180-400h160v-160H180v160Zm440 0h160v-160H620v160ZM180-180h160v-160H180v160Zm440 0h160v-160H620v160Z\"/>\n",
              "  </svg>\n",
              "    </button>\n",
              "\n",
              "  <style>\n",
              "    .colab-df-container {\n",
              "      display:flex;\n",
              "      gap: 12px;\n",
              "    }\n",
              "\n",
              "    .colab-df-convert {\n",
              "      background-color: #E8F0FE;\n",
              "      border: none;\n",
              "      border-radius: 50%;\n",
              "      cursor: pointer;\n",
              "      display: none;\n",
              "      fill: #1967D2;\n",
              "      height: 32px;\n",
              "      padding: 0 0 0 0;\n",
              "      width: 32px;\n",
              "    }\n",
              "\n",
              "    .colab-df-convert:hover {\n",
              "      background-color: #E2EBFA;\n",
              "      box-shadow: 0px 1px 2px rgba(60, 64, 67, 0.3), 0px 1px 3px 1px rgba(60, 64, 67, 0.15);\n",
              "      fill: #174EA6;\n",
              "    }\n",
              "\n",
              "    .colab-df-buttons div {\n",
              "      margin-bottom: 4px;\n",
              "    }\n",
              "\n",
              "    [theme=dark] .colab-df-convert {\n",
              "      background-color: #3B4455;\n",
              "      fill: #D2E3FC;\n",
              "    }\n",
              "\n",
              "    [theme=dark] .colab-df-convert:hover {\n",
              "      background-color: #434B5C;\n",
              "      box-shadow: 0px 1px 3px 1px rgba(0, 0, 0, 0.15);\n",
              "      filter: drop-shadow(0px 1px 2px rgba(0, 0, 0, 0.3));\n",
              "      fill: #FFFFFF;\n",
              "    }\n",
              "  </style>\n",
              "\n",
              "    <script>\n",
              "      const buttonEl =\n",
              "        document.querySelector('#df-a6a1388a-3ff8-4a6c-aaf2-13efdb8a9999 button.colab-df-convert');\n",
              "      buttonEl.style.display =\n",
              "        google.colab.kernel.accessAllowed ? 'block' : 'none';\n",
              "\n",
              "      async function convertToInteractive(key) {\n",
              "        const element = document.querySelector('#df-a6a1388a-3ff8-4a6c-aaf2-13efdb8a9999');\n",
              "        const dataTable =\n",
              "          await google.colab.kernel.invokeFunction('convertToInteractive',\n",
              "                                                    [key], {});\n",
              "        if (!dataTable) return;\n",
              "\n",
              "        const docLinkHtml = 'Like what you see? Visit the ' +\n",
              "          '<a target=\"_blank\" href=https://colab.research.google.com/notebooks/data_table.ipynb>data table notebook</a>'\n",
              "          + ' to learn more about interactive tables.';\n",
              "        element.innerHTML = '';\n",
              "        dataTable['output_type'] = 'display_data';\n",
              "        await google.colab.output.renderOutput(dataTable, element);\n",
              "        const docLink = document.createElement('div');\n",
              "        docLink.innerHTML = docLinkHtml;\n",
              "        element.appendChild(docLink);\n",
              "      }\n",
              "    </script>\n",
              "  </div>\n",
              "\n",
              "\n",
              "<div id=\"df-aabdf5fd-23c6-41a8-89d1-f296eb02aa72\">\n",
              "  <button class=\"colab-df-quickchart\" onclick=\"quickchart('df-aabdf5fd-23c6-41a8-89d1-f296eb02aa72')\"\n",
              "            title=\"Suggest charts.\"\n",
              "            style=\"display:none;\">\n",
              "\n",
              "<svg xmlns=\"http://www.w3.org/2000/svg\" height=\"24px\"viewBox=\"0 0 24 24\"\n",
              "     width=\"24px\">\n",
              "    <g>\n",
              "        <path d=\"M19 3H5c-1.1 0-2 .9-2 2v14c0 1.1.9 2 2 2h14c1.1 0 2-.9 2-2V5c0-1.1-.9-2-2-2zM9 17H7v-7h2v7zm4 0h-2V7h2v10zm4 0h-2v-4h2v4z\"/>\n",
              "    </g>\n",
              "</svg>\n",
              "  </button>\n",
              "\n",
              "<style>\n",
              "  .colab-df-quickchart {\n",
              "      --bg-color: #E8F0FE;\n",
              "      --fill-color: #1967D2;\n",
              "      --hover-bg-color: #E2EBFA;\n",
              "      --hover-fill-color: #174EA6;\n",
              "      --disabled-fill-color: #AAA;\n",
              "      --disabled-bg-color: #DDD;\n",
              "  }\n",
              "\n",
              "  [theme=dark] .colab-df-quickchart {\n",
              "      --bg-color: #3B4455;\n",
              "      --fill-color: #D2E3FC;\n",
              "      --hover-bg-color: #434B5C;\n",
              "      --hover-fill-color: #FFFFFF;\n",
              "      --disabled-bg-color: #3B4455;\n",
              "      --disabled-fill-color: #666;\n",
              "  }\n",
              "\n",
              "  .colab-df-quickchart {\n",
              "    background-color: var(--bg-color);\n",
              "    border: none;\n",
              "    border-radius: 50%;\n",
              "    cursor: pointer;\n",
              "    display: none;\n",
              "    fill: var(--fill-color);\n",
              "    height: 32px;\n",
              "    padding: 0;\n",
              "    width: 32px;\n",
              "  }\n",
              "\n",
              "  .colab-df-quickchart:hover {\n",
              "    background-color: var(--hover-bg-color);\n",
              "    box-shadow: 0 1px 2px rgba(60, 64, 67, 0.3), 0 1px 3px 1px rgba(60, 64, 67, 0.15);\n",
              "    fill: var(--button-hover-fill-color);\n",
              "  }\n",
              "\n",
              "  .colab-df-quickchart-complete:disabled,\n",
              "  .colab-df-quickchart-complete:disabled:hover {\n",
              "    background-color: var(--disabled-bg-color);\n",
              "    fill: var(--disabled-fill-color);\n",
              "    box-shadow: none;\n",
              "  }\n",
              "\n",
              "  .colab-df-spinner {\n",
              "    border: 2px solid var(--fill-color);\n",
              "    border-color: transparent;\n",
              "    border-bottom-color: var(--fill-color);\n",
              "    animation:\n",
              "      spin 1s steps(1) infinite;\n",
              "  }\n",
              "\n",
              "  @keyframes spin {\n",
              "    0% {\n",
              "      border-color: transparent;\n",
              "      border-bottom-color: var(--fill-color);\n",
              "      border-left-color: var(--fill-color);\n",
              "    }\n",
              "    20% {\n",
              "      border-color: transparent;\n",
              "      border-left-color: var(--fill-color);\n",
              "      border-top-color: var(--fill-color);\n",
              "    }\n",
              "    30% {\n",
              "      border-color: transparent;\n",
              "      border-left-color: var(--fill-color);\n",
              "      border-top-color: var(--fill-color);\n",
              "      border-right-color: var(--fill-color);\n",
              "    }\n",
              "    40% {\n",
              "      border-color: transparent;\n",
              "      border-right-color: var(--fill-color);\n",
              "      border-top-color: var(--fill-color);\n",
              "    }\n",
              "    60% {\n",
              "      border-color: transparent;\n",
              "      border-right-color: var(--fill-color);\n",
              "    }\n",
              "    80% {\n",
              "      border-color: transparent;\n",
              "      border-right-color: var(--fill-color);\n",
              "      border-bottom-color: var(--fill-color);\n",
              "    }\n",
              "    90% {\n",
              "      border-color: transparent;\n",
              "      border-bottom-color: var(--fill-color);\n",
              "    }\n",
              "  }\n",
              "</style>\n",
              "\n",
              "  <script>\n",
              "    async function quickchart(key) {\n",
              "      const quickchartButtonEl =\n",
              "        document.querySelector('#' + key + ' button');\n",
              "      quickchartButtonEl.disabled = true;  // To prevent multiple clicks.\n",
              "      quickchartButtonEl.classList.add('colab-df-spinner');\n",
              "      try {\n",
              "        const charts = await google.colab.kernel.invokeFunction(\n",
              "            'suggestCharts', [key], {});\n",
              "      } catch (error) {\n",
              "        console.error('Error during call to suggestCharts:', error);\n",
              "      }\n",
              "      quickchartButtonEl.classList.remove('colab-df-spinner');\n",
              "      quickchartButtonEl.classList.add('colab-df-quickchart-complete');\n",
              "    }\n",
              "    (() => {\n",
              "      let quickchartButtonEl =\n",
              "        document.querySelector('#df-aabdf5fd-23c6-41a8-89d1-f296eb02aa72 button');\n",
              "      quickchartButtonEl.style.display =\n",
              "        google.colab.kernel.accessAllowed ? 'block' : 'none';\n",
              "    })();\n",
              "  </script>\n",
              "</div>\n",
              "    </div>\n",
              "  </div>\n"
            ]
          },
          "metadata": {},
          "execution_count": 41
        }
      ],
      "source": [
        "df2=data.drop('Label',axis=1)\n",
        "df2.head()"
      ]
    },
    {
      "cell_type": "code",
      "execution_count": null,
      "id": "Cz_p2ud5nVXQ",
      "metadata": {
        "id": "Cz_p2ud5nVXQ"
      },
      "outputs": [],
      "source": [
        "df2['FLOW_DURATION_MILLISECONDS']*=0.001"
      ]
    },
    {
      "cell_type": "code",
      "execution_count": null,
      "id": "BZ5MU_3gnVUU",
      "metadata": {
        "id": "BZ5MU_3gnVUU"
      },
      "outputs": [],
      "source": [
        "column = df2[[\"IN_PKTS\", \"IN_BYTES\", \"OUT_BYTES\", \"out-in_bytes\"]] #\"out-in_pkts\"\n",
        "\n",
        "\n",
        "# Normalize the column\n",
        "normalized_column = (column - column.mean()) / column.std()\n",
        "\n",
        "# Replace the original column with the normalized column\n",
        "df2[[\"IN_PKTS\", \"IN_BYTES\", \"OUT_BYTES\", \"out-in_bytes\"]] = normalized_column #\"out-in_pkts\""
      ]
    },
    {
      "cell_type": "code",
      "execution_count": null,
      "id": "BT6j9DqUnVRT",
      "metadata": {
        "colab": {
          "base_uri": "https://localhost:8080/",
          "height": 206
        },
        "id": "BT6j9DqUnVRT",
        "outputId": "9ba71f09-d2df-4e5d-cec6-7e66f538e669"
      },
      "outputs": [
        {
          "output_type": "execute_result",
          "data": {
            "text/plain": [
              "   L4_SRC_PORT  L4_DST_PORT  PROTOCOL  L7_PROTO  IN_BYTES  OUT_BYTES  \\\n",
              "0        33163        40116        17       0.0 -0.022698  -0.008871   \n",
              "1        36228        20872        17       0.0 -0.022698  -0.008871   \n",
              "2        56742           80         6       7.0 -0.022637  -0.008871   \n",
              "3        40726        20164        17       0.0 -0.022698  -0.008871   \n",
              "4        41364           80         6       7.0 -0.020852  -0.007814   \n",
              "\n",
              "    IN_PKTS  TCP_FLAGS  FLOW_DURATION_MILLISECONDS  out-in_bytes  \n",
              "0 -0.046450          0                         0.0      0.003162  \n",
              "1 -0.046450          0                         0.0      0.003162  \n",
              "2 -0.046450         20                         0.0      0.003132  \n",
              "3 -0.046450          0                         0.0      0.003162  \n",
              "4 -0.022563         31                         0.0      0.003211  "
            ],
            "text/html": [
              "\n",
              "  <div id=\"df-308f93fd-d97c-4b35-9da1-9f9498f1e9c9\" class=\"colab-df-container\">\n",
              "    <div>\n",
              "<style scoped>\n",
              "    .dataframe tbody tr th:only-of-type {\n",
              "        vertical-align: middle;\n",
              "    }\n",
              "\n",
              "    .dataframe tbody tr th {\n",
              "        vertical-align: top;\n",
              "    }\n",
              "\n",
              "    .dataframe thead th {\n",
              "        text-align: right;\n",
              "    }\n",
              "</style>\n",
              "<table border=\"1\" class=\"dataframe\">\n",
              "  <thead>\n",
              "    <tr style=\"text-align: right;\">\n",
              "      <th></th>\n",
              "      <th>L4_SRC_PORT</th>\n",
              "      <th>L4_DST_PORT</th>\n",
              "      <th>PROTOCOL</th>\n",
              "      <th>L7_PROTO</th>\n",
              "      <th>IN_BYTES</th>\n",
              "      <th>OUT_BYTES</th>\n",
              "      <th>IN_PKTS</th>\n",
              "      <th>TCP_FLAGS</th>\n",
              "      <th>FLOW_DURATION_MILLISECONDS</th>\n",
              "      <th>out-in_bytes</th>\n",
              "    </tr>\n",
              "  </thead>\n",
              "  <tbody>\n",
              "    <tr>\n",
              "      <th>0</th>\n",
              "      <td>33163</td>\n",
              "      <td>40116</td>\n",
              "      <td>17</td>\n",
              "      <td>0.0</td>\n",
              "      <td>-0.022698</td>\n",
              "      <td>-0.008871</td>\n",
              "      <td>-0.046450</td>\n",
              "      <td>0</td>\n",
              "      <td>0.0</td>\n",
              "      <td>0.003162</td>\n",
              "    </tr>\n",
              "    <tr>\n",
              "      <th>1</th>\n",
              "      <td>36228</td>\n",
              "      <td>20872</td>\n",
              "      <td>17</td>\n",
              "      <td>0.0</td>\n",
              "      <td>-0.022698</td>\n",
              "      <td>-0.008871</td>\n",
              "      <td>-0.046450</td>\n",
              "      <td>0</td>\n",
              "      <td>0.0</td>\n",
              "      <td>0.003162</td>\n",
              "    </tr>\n",
              "    <tr>\n",
              "      <th>2</th>\n",
              "      <td>56742</td>\n",
              "      <td>80</td>\n",
              "      <td>6</td>\n",
              "      <td>7.0</td>\n",
              "      <td>-0.022637</td>\n",
              "      <td>-0.008871</td>\n",
              "      <td>-0.046450</td>\n",
              "      <td>20</td>\n",
              "      <td>0.0</td>\n",
              "      <td>0.003132</td>\n",
              "    </tr>\n",
              "    <tr>\n",
              "      <th>3</th>\n",
              "      <td>40726</td>\n",
              "      <td>20164</td>\n",
              "      <td>17</td>\n",
              "      <td>0.0</td>\n",
              "      <td>-0.022698</td>\n",
              "      <td>-0.008871</td>\n",
              "      <td>-0.046450</td>\n",
              "      <td>0</td>\n",
              "      <td>0.0</td>\n",
              "      <td>0.003162</td>\n",
              "    </tr>\n",
              "    <tr>\n",
              "      <th>4</th>\n",
              "      <td>41364</td>\n",
              "      <td>80</td>\n",
              "      <td>6</td>\n",
              "      <td>7.0</td>\n",
              "      <td>-0.020852</td>\n",
              "      <td>-0.007814</td>\n",
              "      <td>-0.022563</td>\n",
              "      <td>31</td>\n",
              "      <td>0.0</td>\n",
              "      <td>0.003211</td>\n",
              "    </tr>\n",
              "  </tbody>\n",
              "</table>\n",
              "</div>\n",
              "    <div class=\"colab-df-buttons\">\n",
              "\n",
              "  <div class=\"colab-df-container\">\n",
              "    <button class=\"colab-df-convert\" onclick=\"convertToInteractive('df-308f93fd-d97c-4b35-9da1-9f9498f1e9c9')\"\n",
              "            title=\"Convert this dataframe to an interactive table.\"\n",
              "            style=\"display:none;\">\n",
              "\n",
              "  <svg xmlns=\"http://www.w3.org/2000/svg\" height=\"24px\" viewBox=\"0 -960 960 960\">\n",
              "    <path d=\"M120-120v-720h720v720H120Zm60-500h600v-160H180v160Zm220 220h160v-160H400v160Zm0 220h160v-160H400v160ZM180-400h160v-160H180v160Zm440 0h160v-160H620v160ZM180-180h160v-160H180v160Zm440 0h160v-160H620v160Z\"/>\n",
              "  </svg>\n",
              "    </button>\n",
              "\n",
              "  <style>\n",
              "    .colab-df-container {\n",
              "      display:flex;\n",
              "      gap: 12px;\n",
              "    }\n",
              "\n",
              "    .colab-df-convert {\n",
              "      background-color: #E8F0FE;\n",
              "      border: none;\n",
              "      border-radius: 50%;\n",
              "      cursor: pointer;\n",
              "      display: none;\n",
              "      fill: #1967D2;\n",
              "      height: 32px;\n",
              "      padding: 0 0 0 0;\n",
              "      width: 32px;\n",
              "    }\n",
              "\n",
              "    .colab-df-convert:hover {\n",
              "      background-color: #E2EBFA;\n",
              "      box-shadow: 0px 1px 2px rgba(60, 64, 67, 0.3), 0px 1px 3px 1px rgba(60, 64, 67, 0.15);\n",
              "      fill: #174EA6;\n",
              "    }\n",
              "\n",
              "    .colab-df-buttons div {\n",
              "      margin-bottom: 4px;\n",
              "    }\n",
              "\n",
              "    [theme=dark] .colab-df-convert {\n",
              "      background-color: #3B4455;\n",
              "      fill: #D2E3FC;\n",
              "    }\n",
              "\n",
              "    [theme=dark] .colab-df-convert:hover {\n",
              "      background-color: #434B5C;\n",
              "      box-shadow: 0px 1px 3px 1px rgba(0, 0, 0, 0.15);\n",
              "      filter: drop-shadow(0px 1px 2px rgba(0, 0, 0, 0.3));\n",
              "      fill: #FFFFFF;\n",
              "    }\n",
              "  </style>\n",
              "\n",
              "    <script>\n",
              "      const buttonEl =\n",
              "        document.querySelector('#df-308f93fd-d97c-4b35-9da1-9f9498f1e9c9 button.colab-df-convert');\n",
              "      buttonEl.style.display =\n",
              "        google.colab.kernel.accessAllowed ? 'block' : 'none';\n",
              "\n",
              "      async function convertToInteractive(key) {\n",
              "        const element = document.querySelector('#df-308f93fd-d97c-4b35-9da1-9f9498f1e9c9');\n",
              "        const dataTable =\n",
              "          await google.colab.kernel.invokeFunction('convertToInteractive',\n",
              "                                                    [key], {});\n",
              "        if (!dataTable) return;\n",
              "\n",
              "        const docLinkHtml = 'Like what you see? Visit the ' +\n",
              "          '<a target=\"_blank\" href=https://colab.research.google.com/notebooks/data_table.ipynb>data table notebook</a>'\n",
              "          + ' to learn more about interactive tables.';\n",
              "        element.innerHTML = '';\n",
              "        dataTable['output_type'] = 'display_data';\n",
              "        await google.colab.output.renderOutput(dataTable, element);\n",
              "        const docLink = document.createElement('div');\n",
              "        docLink.innerHTML = docLinkHtml;\n",
              "        element.appendChild(docLink);\n",
              "      }\n",
              "    </script>\n",
              "  </div>\n",
              "\n",
              "\n",
              "<div id=\"df-32fe6c40-a1d2-49f4-bb4e-a7038f8d2637\">\n",
              "  <button class=\"colab-df-quickchart\" onclick=\"quickchart('df-32fe6c40-a1d2-49f4-bb4e-a7038f8d2637')\"\n",
              "            title=\"Suggest charts.\"\n",
              "            style=\"display:none;\">\n",
              "\n",
              "<svg xmlns=\"http://www.w3.org/2000/svg\" height=\"24px\"viewBox=\"0 0 24 24\"\n",
              "     width=\"24px\">\n",
              "    <g>\n",
              "        <path d=\"M19 3H5c-1.1 0-2 .9-2 2v14c0 1.1.9 2 2 2h14c1.1 0 2-.9 2-2V5c0-1.1-.9-2-2-2zM9 17H7v-7h2v7zm4 0h-2V7h2v10zm4 0h-2v-4h2v4z\"/>\n",
              "    </g>\n",
              "</svg>\n",
              "  </button>\n",
              "\n",
              "<style>\n",
              "  .colab-df-quickchart {\n",
              "      --bg-color: #E8F0FE;\n",
              "      --fill-color: #1967D2;\n",
              "      --hover-bg-color: #E2EBFA;\n",
              "      --hover-fill-color: #174EA6;\n",
              "      --disabled-fill-color: #AAA;\n",
              "      --disabled-bg-color: #DDD;\n",
              "  }\n",
              "\n",
              "  [theme=dark] .colab-df-quickchart {\n",
              "      --bg-color: #3B4455;\n",
              "      --fill-color: #D2E3FC;\n",
              "      --hover-bg-color: #434B5C;\n",
              "      --hover-fill-color: #FFFFFF;\n",
              "      --disabled-bg-color: #3B4455;\n",
              "      --disabled-fill-color: #666;\n",
              "  }\n",
              "\n",
              "  .colab-df-quickchart {\n",
              "    background-color: var(--bg-color);\n",
              "    border: none;\n",
              "    border-radius: 50%;\n",
              "    cursor: pointer;\n",
              "    display: none;\n",
              "    fill: var(--fill-color);\n",
              "    height: 32px;\n",
              "    padding: 0;\n",
              "    width: 32px;\n",
              "  }\n",
              "\n",
              "  .colab-df-quickchart:hover {\n",
              "    background-color: var(--hover-bg-color);\n",
              "    box-shadow: 0 1px 2px rgba(60, 64, 67, 0.3), 0 1px 3px 1px rgba(60, 64, 67, 0.15);\n",
              "    fill: var(--button-hover-fill-color);\n",
              "  }\n",
              "\n",
              "  .colab-df-quickchart-complete:disabled,\n",
              "  .colab-df-quickchart-complete:disabled:hover {\n",
              "    background-color: var(--disabled-bg-color);\n",
              "    fill: var(--disabled-fill-color);\n",
              "    box-shadow: none;\n",
              "  }\n",
              "\n",
              "  .colab-df-spinner {\n",
              "    border: 2px solid var(--fill-color);\n",
              "    border-color: transparent;\n",
              "    border-bottom-color: var(--fill-color);\n",
              "    animation:\n",
              "      spin 1s steps(1) infinite;\n",
              "  }\n",
              "\n",
              "  @keyframes spin {\n",
              "    0% {\n",
              "      border-color: transparent;\n",
              "      border-bottom-color: var(--fill-color);\n",
              "      border-left-color: var(--fill-color);\n",
              "    }\n",
              "    20% {\n",
              "      border-color: transparent;\n",
              "      border-left-color: var(--fill-color);\n",
              "      border-top-color: var(--fill-color);\n",
              "    }\n",
              "    30% {\n",
              "      border-color: transparent;\n",
              "      border-left-color: var(--fill-color);\n",
              "      border-top-color: var(--fill-color);\n",
              "      border-right-color: var(--fill-color);\n",
              "    }\n",
              "    40% {\n",
              "      border-color: transparent;\n",
              "      border-right-color: var(--fill-color);\n",
              "      border-top-color: var(--fill-color);\n",
              "    }\n",
              "    60% {\n",
              "      border-color: transparent;\n",
              "      border-right-color: var(--fill-color);\n",
              "    }\n",
              "    80% {\n",
              "      border-color: transparent;\n",
              "      border-right-color: var(--fill-color);\n",
              "      border-bottom-color: var(--fill-color);\n",
              "    }\n",
              "    90% {\n",
              "      border-color: transparent;\n",
              "      border-bottom-color: var(--fill-color);\n",
              "    }\n",
              "  }\n",
              "</style>\n",
              "\n",
              "  <script>\n",
              "    async function quickchart(key) {\n",
              "      const quickchartButtonEl =\n",
              "        document.querySelector('#' + key + ' button');\n",
              "      quickchartButtonEl.disabled = true;  // To prevent multiple clicks.\n",
              "      quickchartButtonEl.classList.add('colab-df-spinner');\n",
              "      try {\n",
              "        const charts = await google.colab.kernel.invokeFunction(\n",
              "            'suggestCharts', [key], {});\n",
              "      } catch (error) {\n",
              "        console.error('Error during call to suggestCharts:', error);\n",
              "      }\n",
              "      quickchartButtonEl.classList.remove('colab-df-spinner');\n",
              "      quickchartButtonEl.classList.add('colab-df-quickchart-complete');\n",
              "    }\n",
              "    (() => {\n",
              "      let quickchartButtonEl =\n",
              "        document.querySelector('#df-32fe6c40-a1d2-49f4-bb4e-a7038f8d2637 button');\n",
              "      quickchartButtonEl.style.display =\n",
              "        google.colab.kernel.accessAllowed ? 'block' : 'none';\n",
              "    })();\n",
              "  </script>\n",
              "</div>\n",
              "    </div>\n",
              "  </div>\n"
            ]
          },
          "metadata": {},
          "execution_count": 44
        }
      ],
      "source": [
        "df2.head()"
      ]
    },
    {
      "cell_type": "code",
      "execution_count": null,
      "id": "GIrr0v0onVOe",
      "metadata": {
        "colab": {
          "base_uri": "https://localhost:8080/"
        },
        "id": "GIrr0v0onVOe",
        "outputId": "158abe82-6fdc-4bd5-f80d-b3f0c5977640"
      },
      "outputs": [
        {
          "output_type": "execute_result",
          "data": {
            "text/plain": [
              "(480080, 10)"
            ]
          },
          "metadata": {},
          "execution_count": 45
        }
      ],
      "source": [
        "df2.shape"
      ]
    },
    {
      "cell_type": "code",
      "execution_count": null,
      "id": "QL1MmXEOnVLm",
      "metadata": {
        "id": "QL1MmXEOnVLm"
      },
      "outputs": [],
      "source": [
        "df2=df2.values\n",
        "df2 = df2.reshape(df2.shape[0], 10, 1)"
      ]
    },
    {
      "cell_type": "code",
      "source": [
        "df2.shape"
      ],
      "metadata": {
        "colab": {
          "base_uri": "https://localhost:8080/"
        },
        "id": "HSAr99r6JMi4",
        "outputId": "dbe7b185-dc70-4ab2-9ecb-d2108ce4c1af"
      },
      "id": "HSAr99r6JMi4",
      "execution_count": null,
      "outputs": [
        {
          "output_type": "execute_result",
          "data": {
            "text/plain": [
              "(480080, 10, 1)"
            ]
          },
          "metadata": {},
          "execution_count": 47
        }
      ]
    },
    {
      "cell_type": "code",
      "source": [
        "# Define the percentage for training data\n",
        "train_percentage = 0.8\n",
        "\n",
        "# Calculate the index to split the data\n",
        "split_index = int(df2.shape[0] * train_percentage)\n",
        "\n",
        "# Split the data into training and validation sets\n",
        "train_data = df2[:split_index]  # First 80% of data for training\n",
        "val_data = df2[split_index:]  # Remaining 20% for validation\n",
        "\n",
        "# If you also have target labels, you can split them accordingly\n",
        "train_labels = data['Label'].values[:split_index]\n",
        "val_labels = data['Label'].values[split_index:]\n",
        "\n",
        "# Print the shapes of the resulting sets\n",
        "print(\"X_train shape:\", train_data.shape)\n",
        "print(\"X_valid shape:\", val_data.shape)"
      ],
      "metadata": {
        "colab": {
          "base_uri": "https://localhost:8080/"
        },
        "id": "fGVJtNyTJPla",
        "outputId": "51cfab2d-d652-4da1-cf60-bbf1fff69771"
      },
      "id": "fGVJtNyTJPla",
      "execution_count": null,
      "outputs": [
        {
          "output_type": "stream",
          "name": "stdout",
          "text": [
            "X_train shape: (384064, 10, 1)\n",
            "X_valid shape: (96016, 10, 1)\n"
          ]
        }
      ]
    },
    {
      "cell_type": "code",
      "source": [
        "data['Label'].values[:384064]"
      ],
      "metadata": {
        "colab": {
          "base_uri": "https://localhost:8080/"
        },
        "id": "jqSXV7ICKFrS",
        "outputId": "ce1eb7ba-9d84-4731-970e-59b5c939a495"
      },
      "id": "jqSXV7ICKFrS",
      "execution_count": null,
      "outputs": [
        {
          "output_type": "execute_result",
          "data": {
            "text/plain": [
              "array([1, 1, 1, ..., 1, 1, 1])"
            ]
          },
          "metadata": {},
          "execution_count": 49
        }
      ]
    },
    {
      "cell_type": "code",
      "execution_count": null,
      "id": "HK_W6i-YnVI6",
      "metadata": {
        "id": "HK_W6i-YnVI6"
      },
      "outputs": [],
      "source": [
        "#from sklearn.model_selection import train_test_split\n",
        "\n",
        "# Split the data into a training set and a test set\n",
        "#train_data, val_data, train_labels, val_labels = train_test_split(df2, data['Label'].values, test_size=0.2, random_state=0,stratify=data.Label)"
      ]
    },
    {
      "cell_type": "markdown",
      "id": "fd707837",
      "metadata": {
        "id": "fd707837"
      },
      "source": [
        "## MODEL BUILDING : LABEL CLASSIFICATION"
      ]
    },
    {
      "cell_type": "code",
      "execution_count": null,
      "id": "7064e178",
      "metadata": {
        "colab": {
          "base_uri": "https://localhost:8080/"
        },
        "id": "7064e178",
        "outputId": "1554f958-b0dc-496e-9fc5-3080bc918364"
      },
      "outputs": [
        {
          "output_type": "stream",
          "name": "stdout",
          "text": [
            "Model: \"model\"\n",
            "_________________________________________________________________\n",
            " Layer (type)                Output Shape              Param #   \n",
            "=================================================================\n",
            " input_1 (InputLayer)        [(None, 10, 1)]           0         \n",
            "                                                                 \n",
            " bidirectional (Bidirection  (None, 10, 256)           133120    \n",
            " al)                                                             \n",
            "                                                                 \n",
            " bidirectional_1 (Bidirecti  (None, 512)               1050624   \n",
            " onal)                                                           \n",
            "                                                                 \n",
            " batch_normalization (Batch  (None, 512)               2048      \n",
            " Normalization)                                                  \n",
            "                                                                 \n",
            " dense (Dense)               (None, 128)               65664     \n",
            "                                                                 \n",
            " dropout (Dropout)           (None, 128)               0         \n",
            "                                                                 \n",
            " dense_1 (Dense)             (None, 64)                8256      \n",
            "                                                                 \n",
            " dense_2 (Dense)             (None, 64)                4160      \n",
            "                                                                 \n",
            " dropout_1 (Dropout)         (None, 64)                0         \n",
            "                                                                 \n",
            " dense_3 (Dense)             (None, 1)                 65        \n",
            "                                                                 \n",
            "=================================================================\n",
            "Total params: 1263937 (4.82 MB)\n",
            "Trainable params: 1262913 (4.82 MB)\n",
            "Non-trainable params: 1024 (4.00 KB)\n",
            "_________________________________________________________________\n",
            "None\n"
          ]
        }
      ],
      "source": [
        "from keras.models import Sequential\n",
        "from keras.layers import LSTM, Dense, Bidirectional,Dropout\n",
        "from sklearn.naive_bayes import GaussianNB\n",
        "from keras.layers import Input, Embedding, SpatialDropout1D, Bidirectional, LSTM, Dense, Dropout, BatchNormalization\n",
        "from keras.models import Model\n",
        "from keras.optimizers import Adam\n",
        "\n",
        "def create_bilstm_model(input_shape):\n",
        "    inputs = Input(shape=input_shape)\n",
        "\n",
        "    # LSTM layers\n",
        "    lstm_1 = Bidirectional(LSTM(128, return_sequences=True))(inputs)\n",
        "    lstm_2 = Bidirectional(LSTM(256))(lstm_1)\n",
        "\n",
        "    # Batch normalization\n",
        "    batch_norm_1 = BatchNormalization()(lstm_2)\n",
        "\n",
        "    # Dense layers with dropout\n",
        "    dense_1 = Dense(128, activation='tanh')(batch_norm_1)\n",
        "    dropout_1 = Dropout(0.5)(dense_1)\n",
        "\n",
        "    dense_2 = Dense(64, activation='relu')(dropout_1)\n",
        "    dense_3 = Dense(64, activation='tanh')(dense_2)\n",
        "    dropout_2 = Dropout(0.25)(dense_3)\n",
        "\n",
        "    # Output layer\n",
        "    output = Dense(1, activation='sigmoid')(dropout_2)\n",
        "\n",
        "    model = Model(inputs=inputs, outputs=output)\n",
        "\n",
        "    return model\n",
        "input_shape = (10, 1) #12\n",
        "model = create_bilstm_model(input_shape)\n",
        "print(model.summary())\n",
        "\n",
        "# Define the Naive Bayes classifier\n",
        "nb = GaussianNB()\n",
        "\n",
        "from tensorflow.keras.metrics import Recall, AUC\n",
        "from tensorflow.keras.callbacks import EarlyStopping, ReduceLROnPlateau\n",
        "\n",
        "early_stopping=EarlyStopping(monitor='val_loss',patience=5,restore_best_weights=True)\n",
        "#EarlyStopping: Stop training when a monitored metric has stopped improving.\n",
        "\n",
        "reduce_lr_on_plateau=ReduceLROnPlateau(monitor='val_loss',factor=0.1,patience=5)\n",
        "#ReduceLROnPlateau: Reduce learning rate when a metric has stopped improving.\n",
        "# Compile the BiLSTM model\n",
        "model.compile(loss='binary_crossentropy', optimizer='adam', metrics=['accuracy',Recall(),AUC()])"
      ]
    },
    {
      "cell_type": "code",
      "execution_count": null,
      "id": "89330c6b",
      "metadata": {
        "colab": {
          "base_uri": "https://localhost:8080/"
        },
        "id": "89330c6b",
        "outputId": "d2cc9773-969d-454b-df7c-3503466fda7f"
      },
      "outputs": [
        {
          "output_type": "stream",
          "name": "stdout",
          "text": [
            "Epoch 1/40\n",
            "3001/3001 [==============================] - 57s 16ms/step - loss: 0.1997 - accuracy: 0.8811 - recall: 0.8784 - auc: 0.9686 - val_loss: 0.8532 - val_accuracy: 0.1349 - val_recall: 0.1266 - val_auc: 0.9750 - lr: 0.0010\n",
            "Epoch 2/40\n",
            "3001/3001 [==============================] - 42s 14ms/step - loss: 0.1669 - accuracy: 0.8913 - recall: 0.8885 - auc: 0.9733 - val_loss: 0.1000 - val_accuracy: 0.9420 - val_recall: 0.9417 - val_auc: 0.9837 - lr: 0.0010\n",
            "Epoch 3/40\n",
            "3001/3001 [==============================] - 42s 14ms/step - loss: 0.1559 - accuracy: 0.9005 - recall: 0.8979 - auc: 0.9753 - val_loss: 0.0701 - val_accuracy: 0.9708 - val_recall: 0.9707 - val_auc: 0.9800 - lr: 0.0010\n",
            "Epoch 4/40\n",
            "3001/3001 [==============================] - 43s 14ms/step - loss: 0.1602 - accuracy: 0.8971 - recall: 0.8944 - auc: 0.9739 - val_loss: 0.0633 - val_accuracy: 0.9739 - val_recall: 0.9737 - val_auc: 0.9824 - lr: 0.0010\n",
            "Epoch 5/40\n",
            "3001/3001 [==============================] - 49s 16ms/step - loss: 0.1597 - accuracy: 0.8960 - recall: 0.8933 - auc: 0.9739 - val_loss: 0.1526 - val_accuracy: 0.9554 - val_recall: 0.9553 - val_auc: 0.9737 - lr: 0.0010\n",
            "Epoch 6/40\n",
            "3001/3001 [==============================] - 46s 15ms/step - loss: 0.1493 - accuracy: 0.9028 - recall: 0.9002 - auc: 0.9752 - val_loss: 0.0633 - val_accuracy: 0.9737 - val_recall: 0.9736 - val_auc: 0.9832 - lr: 0.0010\n",
            "Epoch 7/40\n",
            "3001/3001 [==============================] - 45s 15ms/step - loss: 0.1497 - accuracy: 0.9023 - recall: 0.8997 - auc: 0.9751 - val_loss: 0.0719 - val_accuracy: 0.9735 - val_recall: 0.9733 - val_auc: 0.9818 - lr: 0.0010\n",
            "Epoch 8/40\n",
            "3001/3001 [==============================] - 45s 15ms/step - loss: 0.1506 - accuracy: 0.9025 - recall: 0.9000 - auc: 0.9755 - val_loss: 0.0557 - val_accuracy: 0.9737 - val_recall: 0.9735 - val_auc: 0.9844 - lr: 0.0010\n",
            "Epoch 9/40\n",
            "3001/3001 [==============================] - 46s 15ms/step - loss: 0.1489 - accuracy: 0.9027 - recall: 0.9002 - auc: 0.9755 - val_loss: 0.0519 - val_accuracy: 0.9735 - val_recall: 0.9733 - val_auc: 0.9836 - lr: 0.0010\n",
            "Epoch 10/40\n",
            "3001/3001 [==============================] - 45s 15ms/step - loss: 0.1479 - accuracy: 0.9026 - recall: 0.9000 - auc: 0.9759 - val_loss: 0.0616 - val_accuracy: 0.9714 - val_recall: 0.9713 - val_auc: 0.9757 - lr: 0.0010\n",
            "Epoch 11/40\n",
            "3001/3001 [==============================] - 45s 15ms/step - loss: 0.1509 - accuracy: 0.9022 - recall: 0.8996 - auc: 0.9758 - val_loss: 0.0656 - val_accuracy: 0.9735 - val_recall: 0.9733 - val_auc: 0.9823 - lr: 0.0010\n",
            "Epoch 12/40\n",
            "3001/3001 [==============================] - 42s 14ms/step - loss: 0.1506 - accuracy: 0.9023 - recall: 0.8998 - auc: 0.9754 - val_loss: 0.0815 - val_accuracy: 0.9735 - val_recall: 0.9733 - val_auc: 0.9818 - lr: 0.0010\n",
            "Epoch 13/40\n",
            "3001/3001 [==============================] - 43s 14ms/step - loss: 0.1472 - accuracy: 0.9029 - recall: 0.9003 - auc: 0.9768 - val_loss: 0.0844 - val_accuracy: 0.9698 - val_recall: 0.9696 - val_auc: 0.9789 - lr: 0.0010\n",
            "Epoch 14/40\n",
            "3001/3001 [==============================] - 43s 14ms/step - loss: 0.1483 - accuracy: 0.9025 - recall: 0.9000 - auc: 0.9761 - val_loss: 0.0735 - val_accuracy: 0.9734 - val_recall: 0.9732 - val_auc: 0.9822 - lr: 0.0010\n"
          ]
        },
        {
          "output_type": "execute_result",
          "data": {
            "text/plain": [
              "<keras.src.callbacks.History at 0x7851d9c2ce20>"
            ]
          },
          "metadata": {},
          "execution_count": 160
        }
      ],
      "source": [
        "from sklearn.utils.class_weight import compute_class_weight\n",
        "import numpy as np\n",
        "\n",
        "# Assuming X_train, y_train are the training data and labels\n",
        "class_weights = compute_class_weight(y=data['Label'],classes=np.unique(data['Label']),class_weight='balanced')\n",
        "class_weights_dict = dict(enumerate(class_weights))\n",
        "class_weight=class_weights_dict\n",
        "\n",
        "# Train the BiLSTM model\n",
        "model.fit(train_data, train_labels, epochs=40, batch_size=128, validation_data=[val_data,val_labels],class_weight=class_weights_dict,\n",
        "         callbacks=[early_stopping,reduce_lr_on_plateau])"
      ]
    },
    {
      "cell_type": "code",
      "execution_count": null,
      "id": "KkFmiBPCoHR1",
      "metadata": {
        "id": "KkFmiBPCoHR1"
      },
      "outputs": [],
      "source": [
        "\n",
        "pickle.dump(model, open('/content/drive/MyDrive/LSTM/bilstm.pkl','wb'))"
      ]
    },
    {
      "cell_type": "code",
      "execution_count": null,
      "id": "mxGO4rxJpMpr",
      "metadata": {
        "id": "mxGO4rxJpMpr"
      },
      "outputs": [],
      "source": [
        "model= pickle.load(open(r'/content/drive/MyDrive/LSTM/bilstm.pkl',\"rb\"))"
      ]
    },
    {
      "cell_type": "code",
      "source": [
        "test_data=pd.read_csv(r'/content/drive/MyDrive/LSTM/X_test.csv')\n",
        "test_data = test_data.sort_values(by='FLOW_DURATION_MILLISECONDS', ascending=True)\n",
        "test_data = test_data.reset_index(drop=True)\n",
        "test_data"
      ],
      "metadata": {
        "colab": {
          "base_uri": "https://localhost:8080/",
          "height": 461
        },
        "id": "H-N4HXgtPoTv",
        "outputId": "669add1a-4555-437a-e372-72eaf5f3df9b"
      },
      "id": "H-N4HXgtPoTv",
      "execution_count": null,
      "outputs": [
        {
          "output_type": "execute_result",
          "data": {
            "text/plain": [
              "        Unnamed: 0    IPV4_SRC_ADDR  L4_SRC_PORT  IPV4_DST_ADDR  L4_DST_PORT  \\\n",
              "0           542447  192.168.100.149        53774  192.168.100.3           80   \n",
              "1           589566  192.168.100.147        56252  192.168.100.3           80   \n",
              "2           487643  192.168.100.149        33163  192.168.100.3        19500   \n",
              "3           579534  192.168.100.147        52750  192.168.100.3           80   \n",
              "4           486705  192.168.100.149        33163  192.168.100.3          112   \n",
              "...            ...              ...          ...            ...          ...   \n",
              "120015      182460  192.168.100.147        41052  192.168.100.3         2043   \n",
              "120016      413127  192.168.100.147        38498  192.168.100.6         6881   \n",
              "120017       97995  192.168.100.150        55197  192.168.100.6         2106   \n",
              "120018       90893  192.168.100.147        63583  192.168.100.3         2004   \n",
              "120019      508336  192.168.100.147        38890  192.168.100.3         5989   \n",
              "\n",
              "        PROTOCOL  L7_PROTO  IN_BYTES  OUT_BYTES  IN_PKTS  OUT_PKTS  TCP_FLAGS  \\\n",
              "0              6       7.0       799        770        7         5         31   \n",
              "1              6       7.0       823        770        7         5         31   \n",
              "2             17       0.0        28          0        1         0          0   \n",
              "3              6       7.0       801        770        7         5         31   \n",
              "4             17       0.0        28          0        1         0          0   \n",
              "...          ...       ...       ...        ...      ...       ...        ...   \n",
              "120015         6       0.0        44         40        1         1         22   \n",
              "120016         6       0.0        44         40        1         1         22   \n",
              "120017         6       0.0        44         40        1         1         22   \n",
              "120018         6       0.0        44         40        1         1         22   \n",
              "120019         6       0.0        60         40        1         1         22   \n",
              "\n",
              "        FLOW_DURATION_MILLISECONDS  Label          Attack  \n",
              "0                                0      1  Reconnaissance  \n",
              "1                                0      1             DoS  \n",
              "2                                0      1  Reconnaissance  \n",
              "3                                0      1  Reconnaissance  \n",
              "4                                0      1  Reconnaissance  \n",
              "...                            ...    ...             ...  \n",
              "120015                     4294967      1  Reconnaissance  \n",
              "120016                     4294967      1  Reconnaissance  \n",
              "120017                     4294967      1  Reconnaissance  \n",
              "120018                     4294967      1  Reconnaissance  \n",
              "120019                     4294967      1  Reconnaissance  \n",
              "\n",
              "[120020 rows x 15 columns]"
            ],
            "text/html": [
              "\n",
              "  <div id=\"df-ecd0e39d-4cff-4289-91b1-b8918c50929f\" class=\"colab-df-container\">\n",
              "    <div>\n",
              "<style scoped>\n",
              "    .dataframe tbody tr th:only-of-type {\n",
              "        vertical-align: middle;\n",
              "    }\n",
              "\n",
              "    .dataframe tbody tr th {\n",
              "        vertical-align: top;\n",
              "    }\n",
              "\n",
              "    .dataframe thead th {\n",
              "        text-align: right;\n",
              "    }\n",
              "</style>\n",
              "<table border=\"1\" class=\"dataframe\">\n",
              "  <thead>\n",
              "    <tr style=\"text-align: right;\">\n",
              "      <th></th>\n",
              "      <th>Unnamed: 0</th>\n",
              "      <th>IPV4_SRC_ADDR</th>\n",
              "      <th>L4_SRC_PORT</th>\n",
              "      <th>IPV4_DST_ADDR</th>\n",
              "      <th>L4_DST_PORT</th>\n",
              "      <th>PROTOCOL</th>\n",
              "      <th>L7_PROTO</th>\n",
              "      <th>IN_BYTES</th>\n",
              "      <th>OUT_BYTES</th>\n",
              "      <th>IN_PKTS</th>\n",
              "      <th>OUT_PKTS</th>\n",
              "      <th>TCP_FLAGS</th>\n",
              "      <th>FLOW_DURATION_MILLISECONDS</th>\n",
              "      <th>Label</th>\n",
              "      <th>Attack</th>\n",
              "    </tr>\n",
              "  </thead>\n",
              "  <tbody>\n",
              "    <tr>\n",
              "      <th>0</th>\n",
              "      <td>542447</td>\n",
              "      <td>192.168.100.149</td>\n",
              "      <td>53774</td>\n",
              "      <td>192.168.100.3</td>\n",
              "      <td>80</td>\n",
              "      <td>6</td>\n",
              "      <td>7.0</td>\n",
              "      <td>799</td>\n",
              "      <td>770</td>\n",
              "      <td>7</td>\n",
              "      <td>5</td>\n",
              "      <td>31</td>\n",
              "      <td>0</td>\n",
              "      <td>1</td>\n",
              "      <td>Reconnaissance</td>\n",
              "    </tr>\n",
              "    <tr>\n",
              "      <th>1</th>\n",
              "      <td>589566</td>\n",
              "      <td>192.168.100.147</td>\n",
              "      <td>56252</td>\n",
              "      <td>192.168.100.3</td>\n",
              "      <td>80</td>\n",
              "      <td>6</td>\n",
              "      <td>7.0</td>\n",
              "      <td>823</td>\n",
              "      <td>770</td>\n",
              "      <td>7</td>\n",
              "      <td>5</td>\n",
              "      <td>31</td>\n",
              "      <td>0</td>\n",
              "      <td>1</td>\n",
              "      <td>DoS</td>\n",
              "    </tr>\n",
              "    <tr>\n",
              "      <th>2</th>\n",
              "      <td>487643</td>\n",
              "      <td>192.168.100.149</td>\n",
              "      <td>33163</td>\n",
              "      <td>192.168.100.3</td>\n",
              "      <td>19500</td>\n",
              "      <td>17</td>\n",
              "      <td>0.0</td>\n",
              "      <td>28</td>\n",
              "      <td>0</td>\n",
              "      <td>1</td>\n",
              "      <td>0</td>\n",
              "      <td>0</td>\n",
              "      <td>0</td>\n",
              "      <td>1</td>\n",
              "      <td>Reconnaissance</td>\n",
              "    </tr>\n",
              "    <tr>\n",
              "      <th>3</th>\n",
              "      <td>579534</td>\n",
              "      <td>192.168.100.147</td>\n",
              "      <td>52750</td>\n",
              "      <td>192.168.100.3</td>\n",
              "      <td>80</td>\n",
              "      <td>6</td>\n",
              "      <td>7.0</td>\n",
              "      <td>801</td>\n",
              "      <td>770</td>\n",
              "      <td>7</td>\n",
              "      <td>5</td>\n",
              "      <td>31</td>\n",
              "      <td>0</td>\n",
              "      <td>1</td>\n",
              "      <td>Reconnaissance</td>\n",
              "    </tr>\n",
              "    <tr>\n",
              "      <th>4</th>\n",
              "      <td>486705</td>\n",
              "      <td>192.168.100.149</td>\n",
              "      <td>33163</td>\n",
              "      <td>192.168.100.3</td>\n",
              "      <td>112</td>\n",
              "      <td>17</td>\n",
              "      <td>0.0</td>\n",
              "      <td>28</td>\n",
              "      <td>0</td>\n",
              "      <td>1</td>\n",
              "      <td>0</td>\n",
              "      <td>0</td>\n",
              "      <td>0</td>\n",
              "      <td>1</td>\n",
              "      <td>Reconnaissance</td>\n",
              "    </tr>\n",
              "    <tr>\n",
              "      <th>...</th>\n",
              "      <td>...</td>\n",
              "      <td>...</td>\n",
              "      <td>...</td>\n",
              "      <td>...</td>\n",
              "      <td>...</td>\n",
              "      <td>...</td>\n",
              "      <td>...</td>\n",
              "      <td>...</td>\n",
              "      <td>...</td>\n",
              "      <td>...</td>\n",
              "      <td>...</td>\n",
              "      <td>...</td>\n",
              "      <td>...</td>\n",
              "      <td>...</td>\n",
              "      <td>...</td>\n",
              "    </tr>\n",
              "    <tr>\n",
              "      <th>120015</th>\n",
              "      <td>182460</td>\n",
              "      <td>192.168.100.147</td>\n",
              "      <td>41052</td>\n",
              "      <td>192.168.100.3</td>\n",
              "      <td>2043</td>\n",
              "      <td>6</td>\n",
              "      <td>0.0</td>\n",
              "      <td>44</td>\n",
              "      <td>40</td>\n",
              "      <td>1</td>\n",
              "      <td>1</td>\n",
              "      <td>22</td>\n",
              "      <td>4294967</td>\n",
              "      <td>1</td>\n",
              "      <td>Reconnaissance</td>\n",
              "    </tr>\n",
              "    <tr>\n",
              "      <th>120016</th>\n",
              "      <td>413127</td>\n",
              "      <td>192.168.100.147</td>\n",
              "      <td>38498</td>\n",
              "      <td>192.168.100.6</td>\n",
              "      <td>6881</td>\n",
              "      <td>6</td>\n",
              "      <td>0.0</td>\n",
              "      <td>44</td>\n",
              "      <td>40</td>\n",
              "      <td>1</td>\n",
              "      <td>1</td>\n",
              "      <td>22</td>\n",
              "      <td>4294967</td>\n",
              "      <td>1</td>\n",
              "      <td>Reconnaissance</td>\n",
              "    </tr>\n",
              "    <tr>\n",
              "      <th>120017</th>\n",
              "      <td>97995</td>\n",
              "      <td>192.168.100.150</td>\n",
              "      <td>55197</td>\n",
              "      <td>192.168.100.6</td>\n",
              "      <td>2106</td>\n",
              "      <td>6</td>\n",
              "      <td>0.0</td>\n",
              "      <td>44</td>\n",
              "      <td>40</td>\n",
              "      <td>1</td>\n",
              "      <td>1</td>\n",
              "      <td>22</td>\n",
              "      <td>4294967</td>\n",
              "      <td>1</td>\n",
              "      <td>Reconnaissance</td>\n",
              "    </tr>\n",
              "    <tr>\n",
              "      <th>120018</th>\n",
              "      <td>90893</td>\n",
              "      <td>192.168.100.147</td>\n",
              "      <td>63583</td>\n",
              "      <td>192.168.100.3</td>\n",
              "      <td>2004</td>\n",
              "      <td>6</td>\n",
              "      <td>0.0</td>\n",
              "      <td>44</td>\n",
              "      <td>40</td>\n",
              "      <td>1</td>\n",
              "      <td>1</td>\n",
              "      <td>22</td>\n",
              "      <td>4294967</td>\n",
              "      <td>1</td>\n",
              "      <td>Reconnaissance</td>\n",
              "    </tr>\n",
              "    <tr>\n",
              "      <th>120019</th>\n",
              "      <td>508336</td>\n",
              "      <td>192.168.100.147</td>\n",
              "      <td>38890</td>\n",
              "      <td>192.168.100.3</td>\n",
              "      <td>5989</td>\n",
              "      <td>6</td>\n",
              "      <td>0.0</td>\n",
              "      <td>60</td>\n",
              "      <td>40</td>\n",
              "      <td>1</td>\n",
              "      <td>1</td>\n",
              "      <td>22</td>\n",
              "      <td>4294967</td>\n",
              "      <td>1</td>\n",
              "      <td>Reconnaissance</td>\n",
              "    </tr>\n",
              "  </tbody>\n",
              "</table>\n",
              "<p>120020 rows × 15 columns</p>\n",
              "</div>\n",
              "    <div class=\"colab-df-buttons\">\n",
              "\n",
              "  <div class=\"colab-df-container\">\n",
              "    <button class=\"colab-df-convert\" onclick=\"convertToInteractive('df-ecd0e39d-4cff-4289-91b1-b8918c50929f')\"\n",
              "            title=\"Convert this dataframe to an interactive table.\"\n",
              "            style=\"display:none;\">\n",
              "\n",
              "  <svg xmlns=\"http://www.w3.org/2000/svg\" height=\"24px\" viewBox=\"0 -960 960 960\">\n",
              "    <path d=\"M120-120v-720h720v720H120Zm60-500h600v-160H180v160Zm220 220h160v-160H400v160Zm0 220h160v-160H400v160ZM180-400h160v-160H180v160Zm440 0h160v-160H620v160ZM180-180h160v-160H180v160Zm440 0h160v-160H620v160Z\"/>\n",
              "  </svg>\n",
              "    </button>\n",
              "\n",
              "  <style>\n",
              "    .colab-df-container {\n",
              "      display:flex;\n",
              "      gap: 12px;\n",
              "    }\n",
              "\n",
              "    .colab-df-convert {\n",
              "      background-color: #E8F0FE;\n",
              "      border: none;\n",
              "      border-radius: 50%;\n",
              "      cursor: pointer;\n",
              "      display: none;\n",
              "      fill: #1967D2;\n",
              "      height: 32px;\n",
              "      padding: 0 0 0 0;\n",
              "      width: 32px;\n",
              "    }\n",
              "\n",
              "    .colab-df-convert:hover {\n",
              "      background-color: #E2EBFA;\n",
              "      box-shadow: 0px 1px 2px rgba(60, 64, 67, 0.3), 0px 1px 3px 1px rgba(60, 64, 67, 0.15);\n",
              "      fill: #174EA6;\n",
              "    }\n",
              "\n",
              "    .colab-df-buttons div {\n",
              "      margin-bottom: 4px;\n",
              "    }\n",
              "\n",
              "    [theme=dark] .colab-df-convert {\n",
              "      background-color: #3B4455;\n",
              "      fill: #D2E3FC;\n",
              "    }\n",
              "\n",
              "    [theme=dark] .colab-df-convert:hover {\n",
              "      background-color: #434B5C;\n",
              "      box-shadow: 0px 1px 3px 1px rgba(0, 0, 0, 0.15);\n",
              "      filter: drop-shadow(0px 1px 2px rgba(0, 0, 0, 0.3));\n",
              "      fill: #FFFFFF;\n",
              "    }\n",
              "  </style>\n",
              "\n",
              "    <script>\n",
              "      const buttonEl =\n",
              "        document.querySelector('#df-ecd0e39d-4cff-4289-91b1-b8918c50929f button.colab-df-convert');\n",
              "      buttonEl.style.display =\n",
              "        google.colab.kernel.accessAllowed ? 'block' : 'none';\n",
              "\n",
              "      async function convertToInteractive(key) {\n",
              "        const element = document.querySelector('#df-ecd0e39d-4cff-4289-91b1-b8918c50929f');\n",
              "        const dataTable =\n",
              "          await google.colab.kernel.invokeFunction('convertToInteractive',\n",
              "                                                    [key], {});\n",
              "        if (!dataTable) return;\n",
              "\n",
              "        const docLinkHtml = 'Like what you see? Visit the ' +\n",
              "          '<a target=\"_blank\" href=https://colab.research.google.com/notebooks/data_table.ipynb>data table notebook</a>'\n",
              "          + ' to learn more about interactive tables.';\n",
              "        element.innerHTML = '';\n",
              "        dataTable['output_type'] = 'display_data';\n",
              "        await google.colab.output.renderOutput(dataTable, element);\n",
              "        const docLink = document.createElement('div');\n",
              "        docLink.innerHTML = docLinkHtml;\n",
              "        element.appendChild(docLink);\n",
              "      }\n",
              "    </script>\n",
              "  </div>\n",
              "\n",
              "\n",
              "<div id=\"df-b7c60df6-50db-4e03-b501-4e2a96445ee1\">\n",
              "  <button class=\"colab-df-quickchart\" onclick=\"quickchart('df-b7c60df6-50db-4e03-b501-4e2a96445ee1')\"\n",
              "            title=\"Suggest charts.\"\n",
              "            style=\"display:none;\">\n",
              "\n",
              "<svg xmlns=\"http://www.w3.org/2000/svg\" height=\"24px\"viewBox=\"0 0 24 24\"\n",
              "     width=\"24px\">\n",
              "    <g>\n",
              "        <path d=\"M19 3H5c-1.1 0-2 .9-2 2v14c0 1.1.9 2 2 2h14c1.1 0 2-.9 2-2V5c0-1.1-.9-2-2-2zM9 17H7v-7h2v7zm4 0h-2V7h2v10zm4 0h-2v-4h2v4z\"/>\n",
              "    </g>\n",
              "</svg>\n",
              "  </button>\n",
              "\n",
              "<style>\n",
              "  .colab-df-quickchart {\n",
              "      --bg-color: #E8F0FE;\n",
              "      --fill-color: #1967D2;\n",
              "      --hover-bg-color: #E2EBFA;\n",
              "      --hover-fill-color: #174EA6;\n",
              "      --disabled-fill-color: #AAA;\n",
              "      --disabled-bg-color: #DDD;\n",
              "  }\n",
              "\n",
              "  [theme=dark] .colab-df-quickchart {\n",
              "      --bg-color: #3B4455;\n",
              "      --fill-color: #D2E3FC;\n",
              "      --hover-bg-color: #434B5C;\n",
              "      --hover-fill-color: #FFFFFF;\n",
              "      --disabled-bg-color: #3B4455;\n",
              "      --disabled-fill-color: #666;\n",
              "  }\n",
              "\n",
              "  .colab-df-quickchart {\n",
              "    background-color: var(--bg-color);\n",
              "    border: none;\n",
              "    border-radius: 50%;\n",
              "    cursor: pointer;\n",
              "    display: none;\n",
              "    fill: var(--fill-color);\n",
              "    height: 32px;\n",
              "    padding: 0;\n",
              "    width: 32px;\n",
              "  }\n",
              "\n",
              "  .colab-df-quickchart:hover {\n",
              "    background-color: var(--hover-bg-color);\n",
              "    box-shadow: 0 1px 2px rgba(60, 64, 67, 0.3), 0 1px 3px 1px rgba(60, 64, 67, 0.15);\n",
              "    fill: var(--button-hover-fill-color);\n",
              "  }\n",
              "\n",
              "  .colab-df-quickchart-complete:disabled,\n",
              "  .colab-df-quickchart-complete:disabled:hover {\n",
              "    background-color: var(--disabled-bg-color);\n",
              "    fill: var(--disabled-fill-color);\n",
              "    box-shadow: none;\n",
              "  }\n",
              "\n",
              "  .colab-df-spinner {\n",
              "    border: 2px solid var(--fill-color);\n",
              "    border-color: transparent;\n",
              "    border-bottom-color: var(--fill-color);\n",
              "    animation:\n",
              "      spin 1s steps(1) infinite;\n",
              "  }\n",
              "\n",
              "  @keyframes spin {\n",
              "    0% {\n",
              "      border-color: transparent;\n",
              "      border-bottom-color: var(--fill-color);\n",
              "      border-left-color: var(--fill-color);\n",
              "    }\n",
              "    20% {\n",
              "      border-color: transparent;\n",
              "      border-left-color: var(--fill-color);\n",
              "      border-top-color: var(--fill-color);\n",
              "    }\n",
              "    30% {\n",
              "      border-color: transparent;\n",
              "      border-left-color: var(--fill-color);\n",
              "      border-top-color: var(--fill-color);\n",
              "      border-right-color: var(--fill-color);\n",
              "    }\n",
              "    40% {\n",
              "      border-color: transparent;\n",
              "      border-right-color: var(--fill-color);\n",
              "      border-top-color: var(--fill-color);\n",
              "    }\n",
              "    60% {\n",
              "      border-color: transparent;\n",
              "      border-right-color: var(--fill-color);\n",
              "    }\n",
              "    80% {\n",
              "      border-color: transparent;\n",
              "      border-right-color: var(--fill-color);\n",
              "      border-bottom-color: var(--fill-color);\n",
              "    }\n",
              "    90% {\n",
              "      border-color: transparent;\n",
              "      border-bottom-color: var(--fill-color);\n",
              "    }\n",
              "  }\n",
              "</style>\n",
              "\n",
              "  <script>\n",
              "    async function quickchart(key) {\n",
              "      const quickchartButtonEl =\n",
              "        document.querySelector('#' + key + ' button');\n",
              "      quickchartButtonEl.disabled = true;  // To prevent multiple clicks.\n",
              "      quickchartButtonEl.classList.add('colab-df-spinner');\n",
              "      try {\n",
              "        const charts = await google.colab.kernel.invokeFunction(\n",
              "            'suggestCharts', [key], {});\n",
              "      } catch (error) {\n",
              "        console.error('Error during call to suggestCharts:', error);\n",
              "      }\n",
              "      quickchartButtonEl.classList.remove('colab-df-spinner');\n",
              "      quickchartButtonEl.classList.add('colab-df-quickchart-complete');\n",
              "    }\n",
              "    (() => {\n",
              "      let quickchartButtonEl =\n",
              "        document.querySelector('#df-b7c60df6-50db-4e03-b501-4e2a96445ee1 button');\n",
              "      quickchartButtonEl.style.display =\n",
              "        google.colab.kernel.accessAllowed ? 'block' : 'none';\n",
              "    })();\n",
              "  </script>\n",
              "</div>\n",
              "    </div>\n",
              "  </div>\n"
            ]
          },
          "metadata": {},
          "execution_count": 51
        }
      ]
    },
    {
      "cell_type": "code",
      "execution_count": null,
      "id": "9f0f28cd",
      "metadata": {
        "id": "9f0f28cd"
      },
      "outputs": [],
      "source": [
        "td=test_data.copy()\n",
        "test_data.drop(columns=['IPV4_SRC_ADDR','IPV4_DST_ADDR','Unnamed: 0'],inplace=True)\n",
        "test_data['out-in_pkts']=test_data.OUT_PKTS-test_data.IN_PKTS\n",
        "test_data['out-in_bytes']=test_data.OUT_BYTES-test_data.IN_BYTES\n",
        "df3 = test_data.drop('Attack', axis=1)\n",
        "test_data.drop(columns=['OUT_PKTS','out-in_pkts'],axis=1,inplace=True)\n",
        "\n",
        "column_to_encode = \"Attack\"\n",
        "# One-hot encode the column\n",
        "one_hot = pd.get_dummies(test_data[column_to_encode])\n",
        "# Drop the original column\n",
        "df3 = test_data.drop(column_to_encode, axis=1)\n",
        "# Concatenate the one-hot encoded column back to the dataframe\n",
        "df3 = pd.concat([df3, one_hot], axis=1)\n",
        "\n",
        "column_to_encode = \"Attack\"\n",
        "# One-hot encode the column\n",
        "one_hot = pd.get_dummies(test_data[column_to_encode])\n",
        "# Drop the original column\n",
        "test_data = test_data.drop(column_to_encode, axis=1)\n",
        "\n",
        "# Concatenate the one-hot encoded column back to the dataframe\n",
        "test_data = pd.concat([test_data, one_hot], axis=1)\n",
        "\n",
        "test_data.drop('Theft',axis=1,inplace=True)\n",
        "test_data.drop(columns=['Benign','DDoS','DoS','Reconnaissance'],axis=1,inplace=True)\n",
        "\n",
        "df3=test_data.drop('Label',axis=1)\n",
        "df3.head()\n",
        "\n",
        "df3['FLOW_DURATION_MILLISECONDS']*=0.001\n",
        "\n",
        "column = df3[[\"IN_PKTS\", \"IN_BYTES\", \"OUT_BYTES\", \"out-in_bytes\"]] #\"out-in_pkts\"\n",
        "# Normalize the column\n",
        "normalized_column = (column - column.mean()) / column.std()\n",
        "\n",
        "# Replace the original column with the normalized column\n",
        "df3[[\"IN_PKTS\", \"IN_BYTES\", \"OUT_BYTES\", \"out-in_bytes\"]] = normalized_column #\"out-in_pkts\"\n",
        "\n",
        "df3=df3.values\n",
        "df3 = df3.reshape(df3.shape[0], 10, 1)\n",
        "\n",
        "test_data=df3"
      ]
    },
    {
      "cell_type": "code",
      "source": [
        "data_2d = df2.reshape(480080, 10)"
      ],
      "metadata": {
        "id": "OhhLhxLDZyS7"
      },
      "id": "OhhLhxLDZyS7",
      "execution_count": null,
      "outputs": []
    },
    {
      "cell_type": "code",
      "source": [
        "test_data.shape"
      ],
      "metadata": {
        "colab": {
          "base_uri": "https://localhost:8080/"
        },
        "id": "9P_b40ZzhCCT",
        "outputId": "23186113-3b03-4cc2-a6c5-0f68263cd3d4"
      },
      "id": "9P_b40ZzhCCT",
      "execution_count": null,
      "outputs": [
        {
          "output_type": "execute_result",
          "data": {
            "text/plain": [
              "(120020, 10, 1)"
            ]
          },
          "metadata": {},
          "execution_count": 54
        }
      ]
    },
    {
      "cell_type": "code",
      "source": [
        "data2d_test=test_data.reshape(120020, 10)"
      ],
      "metadata": {
        "id": "1nt0uWNdg71q"
      },
      "id": "1nt0uWNdg71q",
      "execution_count": null,
      "outputs": []
    },
    {
      "cell_type": "code",
      "source": [
        "data_2d.shape"
      ],
      "metadata": {
        "colab": {
          "base_uri": "https://localhost:8080/"
        },
        "id": "_MBbqhK_be2R",
        "outputId": "541a16d8-2891-4ba6-fb80-42c291a9102c"
      },
      "id": "_MBbqhK_be2R",
      "execution_count": null,
      "outputs": [
        {
          "output_type": "execute_result",
          "data": {
            "text/plain": [
              "(480080, 10)"
            ]
          },
          "metadata": {},
          "execution_count": 56
        }
      ]
    },
    {
      "cell_type": "code",
      "source": [
        "bilstm_output = model.predict(test_data)"
      ],
      "metadata": {
        "colab": {
          "base_uri": "https://localhost:8080/"
        },
        "id": "3uxK_uNYaXbZ",
        "outputId": "c5808557-a978-4885-8569-199862ae035a"
      },
      "id": "3uxK_uNYaXbZ",
      "execution_count": null,
      "outputs": [
        {
          "output_type": "stream",
          "name": "stdout",
          "text": [
            "3751/3751 [==============================] - 176s 46ms/step\n"
          ]
        }
      ]
    },
    {
      "cell_type": "code",
      "source": [
        "bilstm_output.shape"
      ],
      "metadata": {
        "colab": {
          "base_uri": "https://localhost:8080/"
        },
        "id": "m5p6eaKwadjT",
        "outputId": "029bebaf-2df1-4175-d4eb-894e4963f56c"
      },
      "id": "m5p6eaKwadjT",
      "execution_count": null,
      "outputs": [
        {
          "output_type": "execute_result",
          "data": {
            "text/plain": [
              "(120020, 1)"
            ]
          },
          "metadata": {},
          "execution_count": 58
        }
      ]
    },
    {
      "cell_type": "code",
      "source": [
        "updated_array = np.where(bilstm_output <= 0.5, 0, 1).reshape(-1)\n",
        "\n",
        "# Print the updated array\n",
        "print(updated_array)\n",
        "\n",
        "updated_array.shape"
      ],
      "metadata": {
        "colab": {
          "base_uri": "https://localhost:8080/"
        },
        "id": "ysDf29r9j6un",
        "outputId": "b334ff02-fbfd-4db0-8242-72e421924038"
      },
      "id": "ysDf29r9j6un",
      "execution_count": null,
      "outputs": [
        {
          "output_type": "stream",
          "name": "stdout",
          "text": [
            "[1 1 0 ... 1 1 1]\n"
          ]
        },
        {
          "output_type": "execute_result",
          "data": {
            "text/plain": [
              "(120020,)"
            ]
          },
          "metadata": {},
          "execution_count": 59
        }
      ]
    },
    {
      "cell_type": "code",
      "source": [
        "data_2d.shape,data['Label'].shape"
      ],
      "metadata": {
        "colab": {
          "base_uri": "https://localhost:8080/"
        },
        "id": "O2W9lGBETVtp",
        "outputId": "e79eb8a2-3696-48bb-c55a-4b4767a2bc7f"
      },
      "id": "O2W9lGBETVtp",
      "execution_count": null,
      "outputs": [
        {
          "output_type": "execute_result",
          "data": {
            "text/plain": [
              "((480080, 10), (480080,))"
            ]
          },
          "metadata": {},
          "execution_count": 60
        }
      ]
    },
    {
      "cell_type": "code",
      "execution_count": null,
      "id": "WyNnCTeHHx1k",
      "metadata": {
        "colab": {
          "base_uri": "https://localhost:8080/"
        },
        "id": "WyNnCTeHHx1k",
        "outputId": "57fe9f51-2c3a-4258-edac-d2bbeb075c67"
      },
      "outputs": [
        {
          "output_type": "stream",
          "name": "stdout",
          "text": [
            "Accuracy of Random Forest: 0.9756290618230294\n"
          ]
        }
      ],
      "source": [
        "from sklearn.ensemble import RandomForestClassifier\n",
        "\n",
        "# Create a Random Forest classifier using the BiLSTM outputs as features\n",
        "rf = RandomForestClassifier(n_estimators=100, random_state=42)\n",
        "rf.fit(data_2d,data['Label'].values)\n",
        "\n",
        "rf_predictions = rf.predict(data2d_test)\n",
        "accuracy_rf = np.mean(rf_predictions == td['Label'])\n",
        "print(\"Accuracy of Random Forest:\", accuracy_rf)"
      ]
    },
    {
      "cell_type": "code",
      "source": [
        "rf_predictions.shape"
      ],
      "metadata": {
        "colab": {
          "base_uri": "https://localhost:8080/"
        },
        "id": "GCG9TvE4l_z0",
        "outputId": "9f1acfcf-ac70-4708-ab12-cdfe81b9dd4f"
      },
      "id": "GCG9TvE4l_z0",
      "execution_count": null,
      "outputs": [
        {
          "output_type": "execute_result",
          "data": {
            "text/plain": [
              "(120020,)"
            ]
          },
          "metadata": {},
          "execution_count": 75
        }
      ]
    },
    {
      "cell_type": "code",
      "execution_count": null,
      "id": "LXBXXt3oJFZB",
      "metadata": {
        "colab": {
          "base_uri": "https://localhost:8080/"
        },
        "id": "LXBXXt3oJFZB",
        "outputId": "29c8b7ec-43f1-4d89-e68e-ea659824c484"
      },
      "outputs": [
        {
          "output_type": "stream",
          "name": "stdout",
          "text": [
            "Classification Report for Random Forest:\n",
            "              precision    recall  f1-score   support\n",
            "\n",
            "           0       0.47      0.63      0.54      2716\n",
            "           1       0.99      0.98      0.99    117304\n",
            "\n",
            "    accuracy                           0.98    120020\n",
            "   macro avg       0.73      0.81      0.76    120020\n",
            "weighted avg       0.98      0.98      0.98    120020\n",
            "\n"
          ]
        }
      ],
      "source": [
        "from sklearn.metrics import classification_report\n",
        "\n",
        "# For Random Forest\n",
        "print(\"Classification Report for Random Forest:\")\n",
        "print(classification_report(td['Label'], rf_predictions))"
      ]
    },
    {
      "cell_type": "code",
      "execution_count": null,
      "id": "Pij0wIY2JsnW",
      "metadata": {
        "colab": {
          "base_uri": "https://localhost:8080/"
        },
        "id": "Pij0wIY2JsnW",
        "outputId": "4a58e7e0-25e2-4d91-f9d8-bf7285f6dbc0"
      },
      "outputs": [
        {
          "output_type": "stream",
          "name": "stdout",
          "text": [
            "Confusion Matrix for Random Forest:\n",
            "[[  1717    999]\n",
            " [  1926 115378]]\n"
          ]
        }
      ],
      "source": [
        "from sklearn.metrics import confusion_matrix\n",
        "\n",
        "# For Random Forest\n",
        "confusion_rf = confusion_matrix(td['Label'], rf_predictions)\n",
        "print(\"Confusion Matrix for Random Forest:\")\n",
        "print(confusion_rf)"
      ]
    },
    {
      "cell_type": "code",
      "source": [
        "from sklearn.neighbors import KNeighborsClassifier\n",
        "from sklearn.naive_bayes import MultinomialNB, GaussianNB\n",
        "from sklearn.ensemble import RandomForestClassifier, AdaBoostClassifier, GradientBoostingClassifier\n",
        "from sklearn.tree import DecisionTreeClassifier\n",
        "from sklearn.linear_model import LogisticRegression\n",
        "from sklearn.svm import SVC\n",
        "from xgboost import XGBClassifier"
      ],
      "metadata": {
        "id": "SGTv6RTusdIU"
      },
      "id": "SGTv6RTusdIU",
      "execution_count": null,
      "outputs": []
    },
    {
      "cell_type": "code",
      "source": [
        "# Define the models\n",
        "knn_classifier = KNeighborsClassifier()\n",
        "gaussian_nb_classifier = GaussianNB()\n",
        "random_forest_classifier = RandomForestClassifier()\n",
        "decision_tree_classifier = DecisionTreeClassifier()\n",
        "logistic_regression_classifier = LogisticRegression()\n",
        "ada_boost_classifier = AdaBoostClassifier()\n",
        "gradient_boosting_classifier = GradientBoostingClassifier()\n",
        "xgb_classifier = XGBClassifier()"
      ],
      "metadata": {
        "id": "F6wgWfxpm8iO"
      },
      "id": "F6wgWfxpm8iO",
      "execution_count": null,
      "outputs": []
    },
    {
      "cell_type": "code",
      "source": [
        "from sklearn.metrics import classification_report, confusion_matrix\n",
        "# Define a dictionary to store results\n",
        "results = {}\n",
        "\n",
        "# Iterate through each classifier\n",
        "classifiers = {\n",
        "    'KNeighborsClassifier': knn_classifier,\n",
        "    'GaussianNB': gaussian_nb_classifier,\n",
        "    'RandomForestClassifier': random_forest_classifier,\n",
        "    'DecisionTreeClassifier': decision_tree_classifier,\n",
        "    'LogisticRegression': logistic_regression_classifier,\n",
        "    'AdaBoostClassifier': ada_boost_classifier,\n",
        "    'GradientBoostingClassifier': gradient_boosting_classifier,\n",
        "    'XGBClassifier': xgb_classifier,\n",
        "}\n",
        "\n",
        "for classifier_name, classifier in classifiers.items():\n",
        "    # Train the classifier\n",
        "    classifier.fit(data_2d, data['Label'].values)\n",
        "\n",
        "    # Make predictions\n",
        "    predictions = classifier.predict(data2d_test)\n",
        "\n",
        "    # Calculate accuracy\n",
        "    accuracy = np.mean(predictions == td['Label'])\n",
        "\n",
        "    # Print the accuracy\n",
        "    print(f\"Accuracy of {classifier_name}: {accuracy}\")\n",
        "\n",
        "    # Calculate and print the classification report\n",
        "    classification_rep = classification_report(td['Label'], predictions)\n",
        "    print(f\"Classification Report for {classifier_name}:\\n{classification_rep}\")\n",
        "\n",
        "    # Calculate and print the confusion matrix\n",
        "    confusion_mat = confusion_matrix(td['Label'], predictions)\n",
        "    print(f\"Confusion Matrix for {classifier_name}:\\n{confusion_mat}\")\n",
        "    print(\"\\n\")\n",
        "\n",
        "    # Store the results in the dictionary\n",
        "    results[classifier_name] = {\n",
        "        'Accuracy': accuracy,\n",
        "        'Classification Report': classification_rep,\n",
        "        'Confusion Matrix': confusion_mat\n",
        "    }"
      ],
      "metadata": {
        "colab": {
          "base_uri": "https://localhost:8080/"
        },
        "id": "oJD0bKnitP-p",
        "outputId": "3cf6e669-6312-43fb-ebcb-bc91af541c5e"
      },
      "id": "oJD0bKnitP-p",
      "execution_count": null,
      "outputs": [
        {
          "metadata": {
            "tags": null
          },
          "name": "stdout",
          "output_type": "stream",
          "text": [
            "Accuracy of KNeighborsClassifier: 0.9906182302949509\n",
            "Classification Report for KNeighborsClassifier:\n",
            "              precision    recall  f1-score   support\n",
            "\n",
            "           0       0.85      0.72      0.78      2716\n",
            "           1       0.99      1.00      1.00    117304\n",
            "\n",
            "    accuracy                           0.99    120020\n",
            "   macro avg       0.92      0.86      0.89    120020\n",
            "weighted avg       0.99      0.99      0.99    120020\n",
            "\n",
            "Confusion Matrix for KNeighborsClassifier:\n",
            "[[  1947    769]\n",
            " [   357 116947]]\n",
            "\n",
            "\n",
            "Accuracy of GaussianNB: 0.933661056490585\n",
            "Classification Report for GaussianNB:\n",
            "              precision    recall  f1-score   support\n",
            "\n",
            "           0       0.23      0.79      0.35      2716\n",
            "           1       0.99      0.94      0.97    117304\n",
            "\n",
            "    accuracy                           0.93    120020\n",
            "   macro avg       0.61      0.86      0.66    120020\n",
            "weighted avg       0.98      0.93      0.95    120020\n",
            "\n",
            "Confusion Matrix for GaussianNB:\n",
            "[[  2147    569]\n",
            " [  7393 109911]]\n",
            "\n",
            "\n",
            "Accuracy of RandomForestClassifier: 0.9818863522746208\n",
            "Classification Report for RandomForestClassifier:\n",
            "              precision    recall  f1-score   support\n",
            "\n",
            "           0       0.60      0.62      0.61      2716\n",
            "           1       0.99      0.99      0.99    117304\n",
            "\n",
            "    accuracy                           0.98    120020\n",
            "   macro avg       0.79      0.81      0.80    120020\n",
            "weighted avg       0.98      0.98      0.98    120020\n",
            "\n",
            "Confusion Matrix for RandomForestClassifier:\n",
            "[[  1690   1026]\n",
            " [  1148 116156]]\n",
            "\n",
            "\n",
            "Accuracy of DecisionTreeClassifier: 0.36401433094484253\n",
            "Classification Report for DecisionTreeClassifier:\n",
            "              precision    recall  f1-score   support\n",
            "\n",
            "           0       0.02      0.47      0.03      2716\n",
            "           1       0.97      0.36      0.53    117304\n",
            "\n",
            "    accuracy                           0.36    120020\n",
            "   macro avg       0.49      0.42      0.28    120020\n",
            "weighted avg       0.95      0.36      0.52    120020\n",
            "\n",
            "Confusion Matrix for DecisionTreeClassifier:\n",
            "[[ 1286  1430]\n",
            " [74901 42403]]\n",
            "\n",
            "\n",
            "Accuracy of LogisticRegression: 0.9756790534910849\n",
            "Classification Report for LogisticRegression:\n",
            "              precision    recall  f1-score   support\n",
            "\n",
            "           0       0.43      0.21      0.28      2716\n",
            "           1       0.98      0.99      0.99    117304\n",
            "\n",
            "    accuracy                           0.98    120020\n",
            "   macro avg       0.70      0.60      0.64    120020\n",
            "weighted avg       0.97      0.98      0.97    120020\n",
            "\n",
            "Confusion Matrix for LogisticRegression:\n",
            "[[   579   2137]\n",
            " [   782 116522]]\n",
            "\n",
            "\n",
            "Accuracy of AdaBoostClassifier: 0.9557573737710382\n",
            "Classification Report for AdaBoostClassifier:\n",
            "              precision    recall  f1-score   support\n",
            "\n",
            "           0       0.30      0.71      0.42      2716\n",
            "           1       0.99      0.96      0.98    117304\n",
            "\n",
            "    accuracy                           0.96    120020\n",
            "   macro avg       0.65      0.83      0.70    120020\n",
            "weighted avg       0.98      0.96      0.96    120020\n",
            "\n",
            "Confusion Matrix for AdaBoostClassifier:\n",
            "[[  1920    796]\n",
            " [  4514 112790]]\n",
            "\n",
            "\n",
            "Accuracy of GradientBoostingClassifier: 0.9849275120813198\n",
            "Classification Report for GradientBoostingClassifier:\n",
            "              precision    recall  f1-score   support\n",
            "\n",
            "           0       0.84      0.41      0.55      2716\n",
            "           1       0.99      1.00      0.99    117304\n",
            "\n",
            "    accuracy                           0.98    120020\n",
            "   macro avg       0.91      0.71      0.77    120020\n",
            "weighted avg       0.98      0.98      0.98    120020\n",
            "\n",
            "Confusion Matrix for GradientBoostingClassifier:\n",
            "[[  1121   1595]\n",
            " [   214 117090]]\n",
            "\n",
            "\n",
            "Accuracy of XGBClassifier: 0.9797533744375937\n",
            "Classification Report for XGBClassifier:\n",
            "              precision    recall  f1-score   support\n",
            "\n",
            "           0       0.55      0.54      0.55      2716\n",
            "           1       0.99      0.99      0.99    117304\n",
            "\n",
            "    accuracy                           0.98    120020\n",
            "   macro avg       0.77      0.76      0.77    120020\n",
            "weighted avg       0.98      0.98      0.98    120020\n",
            "\n",
            "Confusion Matrix for XGBClassifier:\n",
            "[[  1465   1251]\n",
            " [  1179 116125]]\n",
            "\n",
            "\n"
          ]
        }
      ]
    },
    {
      "cell_type": "markdown",
      "source": [
        "# ENSEMBLE"
      ],
      "metadata": {
        "id": "EEy06xc--Jt7"
      },
      "id": "EEy06xc--Jt7"
    },
    {
      "cell_type": "code",
      "source": [
        "predictions1 = knn_classifier.predict(data2d_test)\n",
        "predictions2 = random_forest_classifier.predict(data2d_test)"
      ],
      "metadata": {
        "id": "RFlH2QTA3ZSy"
      },
      "id": "RFlH2QTA3ZSy",
      "execution_count": null,
      "outputs": []
    },
    {
      "cell_type": "markdown",
      "source": [
        "2116 600\n",
        "1745 115596\n",
        "\n",
        "p55 r0.78"
      ],
      "metadata": {
        "id": "Oz0bvdyzKwg0"
      },
      "id": "Oz0bvdyzKwg0"
    },
    {
      "cell_type": "code",
      "source": [
        "# Add the arrays element-wise\n",
        "sum_array = 0.89*predictions1 + 0.71*predictions2 + 1*updated_array\n",
        "\n",
        "# Calculate the average\n",
        "avg = sum_array/1.16"
      ],
      "metadata": {
        "id": "lhWkUvggmg6g"
      },
      "id": "lhWkUvggmg6g",
      "execution_count": null,
      "outputs": []
    },
    {
      "cell_type": "code",
      "source": [
        "result = np.where(avg <= 0.5, 0, 1)\n",
        "# Print the updated array\n",
        "print(result)\n",
        "\n",
        "result.shape"
      ],
      "metadata": {
        "colab": {
          "base_uri": "https://localhost:8080/"
        },
        "id": "b_yj2Go57er0",
        "outputId": "e9c14265-a674-465c-e991-9d4b8ee092a7"
      },
      "id": "b_yj2Go57er0",
      "execution_count": null,
      "outputs": [
        {
          "output_type": "stream",
          "name": "stdout",
          "text": [
            "[1 1 1 ... 1 1 1]\n"
          ]
        },
        {
          "output_type": "execute_result",
          "data": {
            "text/plain": [
              "(120020,)"
            ]
          },
          "metadata": {},
          "execution_count": 141
        }
      ]
    },
    {
      "cell_type": "code",
      "source": [
        "classification_rep = classification_report(td['Label'], result)\n",
        "print(f\"Classification Report for \\n{classification_rep}\")\n",
        "\n",
        "    # Calculate and print the confusion matrix\n",
        "confusion_mat = confusion_matrix(td['Label'], result)\n",
        "print(f\"Confusion Matrix :\\n{confusion_mat}\")\n",
        "print(\"\\n\")"
      ],
      "metadata": {
        "colab": {
          "base_uri": "https://localhost:8080/"
        },
        "id": "VQSNOFFK6l3Y",
        "outputId": "662f8316-537b-41ff-dce2-29526e404783"
      },
      "id": "VQSNOFFK6l3Y",
      "execution_count": null,
      "outputs": [
        {
          "output_type": "stream",
          "name": "stdout",
          "text": [
            "Classification Report for \n",
            "              precision    recall  f1-score   support\n",
            "\n",
            "           0       0.95      0.56      0.70      2716\n",
            "           1       0.99      1.00      0.99    117304\n",
            "\n",
            "    accuracy                           0.99    120020\n",
            "   macro avg       0.97      0.78      0.85    120020\n",
            "weighted avg       0.99      0.99      0.99    120020\n",
            "\n",
            "Confusion Matrix :\n",
            "[[  1520   1196]\n",
            " [    80 117224]]\n",
            "\n",
            "\n"
          ]
        }
      ]
    },
    {
      "cell_type": "markdown",
      "source": [
        "BILSTM CLASSIFICATION REPORT"
      ],
      "metadata": {
        "id": "lb9h26199bIR"
      },
      "id": "lb9h26199bIR"
    },
    {
      "cell_type": "code",
      "source": [
        "classification_rep = classification_report(td['Label'], updated_array)\n",
        "print(f\"Classification Report for \\n{classification_rep}\")\n",
        "\n",
        "    # Calculate and print the confusion matrix\n",
        "confusion_mat = confusion_matrix(td['Label'], updated_array)\n",
        "print(f\"Confusion Matrix :\\n{confusion_mat}\")\n",
        "print(\"\\n\")"
      ],
      "metadata": {
        "colab": {
          "base_uri": "https://localhost:8080/"
        },
        "id": "DQvL2zBbWT_I",
        "outputId": "66afe4eb-80c1-4d20-bbe2-7ce817e84148"
      },
      "id": "DQvL2zBbWT_I",
      "execution_count": null,
      "outputs": [
        {
          "output_type": "stream",
          "name": "stdout",
          "text": [
            "Classification Report for \n",
            "              precision    recall  f1-score   support\n",
            "\n",
            "           0       0.21      1.00      0.35      2716\n",
            "           1       1.00      0.91      0.96    117304\n",
            "\n",
            "    accuracy                           0.92    120020\n",
            "   macro avg       0.61      0.96      0.65    120020\n",
            "weighted avg       0.98      0.92      0.94    120020\n",
            "\n",
            "Confusion Matrix :\n",
            "[[  2710      6]\n",
            " [  9971 107333]]\n",
            "\n",
            "\n"
          ]
        }
      ]
    },
    {
      "cell_type": "markdown",
      "id": "FOsRzn3Bq4Xk",
      "metadata": {
        "id": "FOsRzn3Bq4Xk"
      },
      "source": [
        "#ATTACK CLASSIFICATION"
      ]
    },
    {
      "cell_type": "code",
      "execution_count": null,
      "id": "8e9L_gAmq8Dt",
      "metadata": {
        "id": "8e9L_gAmq8Dt"
      },
      "outputs": [],
      "source": [
        "X_train = pd.read_csv('/content/drive/MyDrive/LSTM_project/FINAL FINAL/new_train_data.csv')\n",
        "X_test = pd.read_csv('/content/drive/MyDrive/LSTM_project/FINAL FINAL/new_test_data.csv')"
      ]
    },
    {
      "cell_type": "code",
      "source": [
        "X_test.head()"
      ],
      "metadata": {
        "colab": {
          "base_uri": "https://localhost:8080/",
          "height": 243
        },
        "id": "drTV0iYfmKoN",
        "outputId": "b0430763-04c2-4b82-baad-37559b67001e"
      },
      "id": "drTV0iYfmKoN",
      "execution_count": null,
      "outputs": [
        {
          "output_type": "execute_result",
          "data": {
            "text/plain": [
              "   Unnamed: 0    IPV4_SRC_ADDR  L4_SRC_PORT  IPV4_DST_ADDR  L4_DST_PORT  \\\n",
              "0      542447  192.168.100.149        53774  192.168.100.3           80   \n",
              "1      589566  192.168.100.147        56252  192.168.100.3           80   \n",
              "2      487643  192.168.100.149        33163  192.168.100.3        19500   \n",
              "3      579534  192.168.100.147        52750  192.168.100.3           80   \n",
              "4      486705  192.168.100.149        33163  192.168.100.3          112   \n",
              "\n",
              "   PROTOCOL  L7_PROTO  IN_BYTES  OUT_BYTES  IN_PKTS  OUT_PKTS  TCP_FLAGS  \\\n",
              "0         6       7.0       799        770        7         5         31   \n",
              "1         6       7.0       823        770        7         5         31   \n",
              "2        17       0.0        28          0        1         0          0   \n",
              "3         6       7.0       801        770        7         5         31   \n",
              "4        17       0.0        28          0        1         0          0   \n",
              "\n",
              "   FLOW_DURATION_MILLISECONDS          Attack  predictions  \n",
              "0                           0  Reconnaissance            1  \n",
              "1                           0             DoS            1  \n",
              "2                           0  Reconnaissance            1  \n",
              "3                           0  Reconnaissance            1  \n",
              "4                           0  Reconnaissance            1  "
            ],
            "text/html": [
              "\n",
              "  <div id=\"df-019e26a4-c05a-4f9a-8ca6-1673c9fd5a52\" class=\"colab-df-container\">\n",
              "    <div>\n",
              "<style scoped>\n",
              "    .dataframe tbody tr th:only-of-type {\n",
              "        vertical-align: middle;\n",
              "    }\n",
              "\n",
              "    .dataframe tbody tr th {\n",
              "        vertical-align: top;\n",
              "    }\n",
              "\n",
              "    .dataframe thead th {\n",
              "        text-align: right;\n",
              "    }\n",
              "</style>\n",
              "<table border=\"1\" class=\"dataframe\">\n",
              "  <thead>\n",
              "    <tr style=\"text-align: right;\">\n",
              "      <th></th>\n",
              "      <th>Unnamed: 0</th>\n",
              "      <th>IPV4_SRC_ADDR</th>\n",
              "      <th>L4_SRC_PORT</th>\n",
              "      <th>IPV4_DST_ADDR</th>\n",
              "      <th>L4_DST_PORT</th>\n",
              "      <th>PROTOCOL</th>\n",
              "      <th>L7_PROTO</th>\n",
              "      <th>IN_BYTES</th>\n",
              "      <th>OUT_BYTES</th>\n",
              "      <th>IN_PKTS</th>\n",
              "      <th>OUT_PKTS</th>\n",
              "      <th>TCP_FLAGS</th>\n",
              "      <th>FLOW_DURATION_MILLISECONDS</th>\n",
              "      <th>Attack</th>\n",
              "      <th>predictions</th>\n",
              "    </tr>\n",
              "  </thead>\n",
              "  <tbody>\n",
              "    <tr>\n",
              "      <th>0</th>\n",
              "      <td>542447</td>\n",
              "      <td>192.168.100.149</td>\n",
              "      <td>53774</td>\n",
              "      <td>192.168.100.3</td>\n",
              "      <td>80</td>\n",
              "      <td>6</td>\n",
              "      <td>7.0</td>\n",
              "      <td>799</td>\n",
              "      <td>770</td>\n",
              "      <td>7</td>\n",
              "      <td>5</td>\n",
              "      <td>31</td>\n",
              "      <td>0</td>\n",
              "      <td>Reconnaissance</td>\n",
              "      <td>1</td>\n",
              "    </tr>\n",
              "    <tr>\n",
              "      <th>1</th>\n",
              "      <td>589566</td>\n",
              "      <td>192.168.100.147</td>\n",
              "      <td>56252</td>\n",
              "      <td>192.168.100.3</td>\n",
              "      <td>80</td>\n",
              "      <td>6</td>\n",
              "      <td>7.0</td>\n",
              "      <td>823</td>\n",
              "      <td>770</td>\n",
              "      <td>7</td>\n",
              "      <td>5</td>\n",
              "      <td>31</td>\n",
              "      <td>0</td>\n",
              "      <td>DoS</td>\n",
              "      <td>1</td>\n",
              "    </tr>\n",
              "    <tr>\n",
              "      <th>2</th>\n",
              "      <td>487643</td>\n",
              "      <td>192.168.100.149</td>\n",
              "      <td>33163</td>\n",
              "      <td>192.168.100.3</td>\n",
              "      <td>19500</td>\n",
              "      <td>17</td>\n",
              "      <td>0.0</td>\n",
              "      <td>28</td>\n",
              "      <td>0</td>\n",
              "      <td>1</td>\n",
              "      <td>0</td>\n",
              "      <td>0</td>\n",
              "      <td>0</td>\n",
              "      <td>Reconnaissance</td>\n",
              "      <td>1</td>\n",
              "    </tr>\n",
              "    <tr>\n",
              "      <th>3</th>\n",
              "      <td>579534</td>\n",
              "      <td>192.168.100.147</td>\n",
              "      <td>52750</td>\n",
              "      <td>192.168.100.3</td>\n",
              "      <td>80</td>\n",
              "      <td>6</td>\n",
              "      <td>7.0</td>\n",
              "      <td>801</td>\n",
              "      <td>770</td>\n",
              "      <td>7</td>\n",
              "      <td>5</td>\n",
              "      <td>31</td>\n",
              "      <td>0</td>\n",
              "      <td>Reconnaissance</td>\n",
              "      <td>1</td>\n",
              "    </tr>\n",
              "    <tr>\n",
              "      <th>4</th>\n",
              "      <td>486705</td>\n",
              "      <td>192.168.100.149</td>\n",
              "      <td>33163</td>\n",
              "      <td>192.168.100.3</td>\n",
              "      <td>112</td>\n",
              "      <td>17</td>\n",
              "      <td>0.0</td>\n",
              "      <td>28</td>\n",
              "      <td>0</td>\n",
              "      <td>1</td>\n",
              "      <td>0</td>\n",
              "      <td>0</td>\n",
              "      <td>0</td>\n",
              "      <td>Reconnaissance</td>\n",
              "      <td>1</td>\n",
              "    </tr>\n",
              "  </tbody>\n",
              "</table>\n",
              "</div>\n",
              "    <div class=\"colab-df-buttons\">\n",
              "\n",
              "  <div class=\"colab-df-container\">\n",
              "    <button class=\"colab-df-convert\" onclick=\"convertToInteractive('df-019e26a4-c05a-4f9a-8ca6-1673c9fd5a52')\"\n",
              "            title=\"Convert this dataframe to an interactive table.\"\n",
              "            style=\"display:none;\">\n",
              "\n",
              "  <svg xmlns=\"http://www.w3.org/2000/svg\" height=\"24px\" viewBox=\"0 -960 960 960\">\n",
              "    <path d=\"M120-120v-720h720v720H120Zm60-500h600v-160H180v160Zm220 220h160v-160H400v160Zm0 220h160v-160H400v160ZM180-400h160v-160H180v160Zm440 0h160v-160H620v160ZM180-180h160v-160H180v160Zm440 0h160v-160H620v160Z\"/>\n",
              "  </svg>\n",
              "    </button>\n",
              "\n",
              "  <style>\n",
              "    .colab-df-container {\n",
              "      display:flex;\n",
              "      gap: 12px;\n",
              "    }\n",
              "\n",
              "    .colab-df-convert {\n",
              "      background-color: #E8F0FE;\n",
              "      border: none;\n",
              "      border-radius: 50%;\n",
              "      cursor: pointer;\n",
              "      display: none;\n",
              "      fill: #1967D2;\n",
              "      height: 32px;\n",
              "      padding: 0 0 0 0;\n",
              "      width: 32px;\n",
              "    }\n",
              "\n",
              "    .colab-df-convert:hover {\n",
              "      background-color: #E2EBFA;\n",
              "      box-shadow: 0px 1px 2px rgba(60, 64, 67, 0.3), 0px 1px 3px 1px rgba(60, 64, 67, 0.15);\n",
              "      fill: #174EA6;\n",
              "    }\n",
              "\n",
              "    .colab-df-buttons div {\n",
              "      margin-bottom: 4px;\n",
              "    }\n",
              "\n",
              "    [theme=dark] .colab-df-convert {\n",
              "      background-color: #3B4455;\n",
              "      fill: #D2E3FC;\n",
              "    }\n",
              "\n",
              "    [theme=dark] .colab-df-convert:hover {\n",
              "      background-color: #434B5C;\n",
              "      box-shadow: 0px 1px 3px 1px rgba(0, 0, 0, 0.15);\n",
              "      filter: drop-shadow(0px 1px 2px rgba(0, 0, 0, 0.3));\n",
              "      fill: #FFFFFF;\n",
              "    }\n",
              "  </style>\n",
              "\n",
              "    <script>\n",
              "      const buttonEl =\n",
              "        document.querySelector('#df-019e26a4-c05a-4f9a-8ca6-1673c9fd5a52 button.colab-df-convert');\n",
              "      buttonEl.style.display =\n",
              "        google.colab.kernel.accessAllowed ? 'block' : 'none';\n",
              "\n",
              "      async function convertToInteractive(key) {\n",
              "        const element = document.querySelector('#df-019e26a4-c05a-4f9a-8ca6-1673c9fd5a52');\n",
              "        const dataTable =\n",
              "          await google.colab.kernel.invokeFunction('convertToInteractive',\n",
              "                                                    [key], {});\n",
              "        if (!dataTable) return;\n",
              "\n",
              "        const docLinkHtml = 'Like what you see? Visit the ' +\n",
              "          '<a target=\"_blank\" href=https://colab.research.google.com/notebooks/data_table.ipynb>data table notebook</a>'\n",
              "          + ' to learn more about interactive tables.';\n",
              "        element.innerHTML = '';\n",
              "        dataTable['output_type'] = 'display_data';\n",
              "        await google.colab.output.renderOutput(dataTable, element);\n",
              "        const docLink = document.createElement('div');\n",
              "        docLink.innerHTML = docLinkHtml;\n",
              "        element.appendChild(docLink);\n",
              "      }\n",
              "    </script>\n",
              "  </div>\n",
              "\n",
              "\n",
              "<div id=\"df-cc9bf865-3041-45e8-8c1b-d75014cfd5ad\">\n",
              "  <button class=\"colab-df-quickchart\" onclick=\"quickchart('df-cc9bf865-3041-45e8-8c1b-d75014cfd5ad')\"\n",
              "            title=\"Suggest charts.\"\n",
              "            style=\"display:none;\">\n",
              "\n",
              "<svg xmlns=\"http://www.w3.org/2000/svg\" height=\"24px\"viewBox=\"0 0 24 24\"\n",
              "     width=\"24px\">\n",
              "    <g>\n",
              "        <path d=\"M19 3H5c-1.1 0-2 .9-2 2v14c0 1.1.9 2 2 2h14c1.1 0 2-.9 2-2V5c0-1.1-.9-2-2-2zM9 17H7v-7h2v7zm4 0h-2V7h2v10zm4 0h-2v-4h2v4z\"/>\n",
              "    </g>\n",
              "</svg>\n",
              "  </button>\n",
              "\n",
              "<style>\n",
              "  .colab-df-quickchart {\n",
              "      --bg-color: #E8F0FE;\n",
              "      --fill-color: #1967D2;\n",
              "      --hover-bg-color: #E2EBFA;\n",
              "      --hover-fill-color: #174EA6;\n",
              "      --disabled-fill-color: #AAA;\n",
              "      --disabled-bg-color: #DDD;\n",
              "  }\n",
              "\n",
              "  [theme=dark] .colab-df-quickchart {\n",
              "      --bg-color: #3B4455;\n",
              "      --fill-color: #D2E3FC;\n",
              "      --hover-bg-color: #434B5C;\n",
              "      --hover-fill-color: #FFFFFF;\n",
              "      --disabled-bg-color: #3B4455;\n",
              "      --disabled-fill-color: #666;\n",
              "  }\n",
              "\n",
              "  .colab-df-quickchart {\n",
              "    background-color: var(--bg-color);\n",
              "    border: none;\n",
              "    border-radius: 50%;\n",
              "    cursor: pointer;\n",
              "    display: none;\n",
              "    fill: var(--fill-color);\n",
              "    height: 32px;\n",
              "    padding: 0;\n",
              "    width: 32px;\n",
              "  }\n",
              "\n",
              "  .colab-df-quickchart:hover {\n",
              "    background-color: var(--hover-bg-color);\n",
              "    box-shadow: 0 1px 2px rgba(60, 64, 67, 0.3), 0 1px 3px 1px rgba(60, 64, 67, 0.15);\n",
              "    fill: var(--button-hover-fill-color);\n",
              "  }\n",
              "\n",
              "  .colab-df-quickchart-complete:disabled,\n",
              "  .colab-df-quickchart-complete:disabled:hover {\n",
              "    background-color: var(--disabled-bg-color);\n",
              "    fill: var(--disabled-fill-color);\n",
              "    box-shadow: none;\n",
              "  }\n",
              "\n",
              "  .colab-df-spinner {\n",
              "    border: 2px solid var(--fill-color);\n",
              "    border-color: transparent;\n",
              "    border-bottom-color: var(--fill-color);\n",
              "    animation:\n",
              "      spin 1s steps(1) infinite;\n",
              "  }\n",
              "\n",
              "  @keyframes spin {\n",
              "    0% {\n",
              "      border-color: transparent;\n",
              "      border-bottom-color: var(--fill-color);\n",
              "      border-left-color: var(--fill-color);\n",
              "    }\n",
              "    20% {\n",
              "      border-color: transparent;\n",
              "      border-left-color: var(--fill-color);\n",
              "      border-top-color: var(--fill-color);\n",
              "    }\n",
              "    30% {\n",
              "      border-color: transparent;\n",
              "      border-left-color: var(--fill-color);\n",
              "      border-top-color: var(--fill-color);\n",
              "      border-right-color: var(--fill-color);\n",
              "    }\n",
              "    40% {\n",
              "      border-color: transparent;\n",
              "      border-right-color: var(--fill-color);\n",
              "      border-top-color: var(--fill-color);\n",
              "    }\n",
              "    60% {\n",
              "      border-color: transparent;\n",
              "      border-right-color: var(--fill-color);\n",
              "    }\n",
              "    80% {\n",
              "      border-color: transparent;\n",
              "      border-right-color: var(--fill-color);\n",
              "      border-bottom-color: var(--fill-color);\n",
              "    }\n",
              "    90% {\n",
              "      border-color: transparent;\n",
              "      border-bottom-color: var(--fill-color);\n",
              "    }\n",
              "  }\n",
              "</style>\n",
              "\n",
              "  <script>\n",
              "    async function quickchart(key) {\n",
              "      const quickchartButtonEl =\n",
              "        document.querySelector('#' + key + ' button');\n",
              "      quickchartButtonEl.disabled = true;  // To prevent multiple clicks.\n",
              "      quickchartButtonEl.classList.add('colab-df-spinner');\n",
              "      try {\n",
              "        const charts = await google.colab.kernel.invokeFunction(\n",
              "            'suggestCharts', [key], {});\n",
              "      } catch (error) {\n",
              "        console.error('Error during call to suggestCharts:', error);\n",
              "      }\n",
              "      quickchartButtonEl.classList.remove('colab-df-spinner');\n",
              "      quickchartButtonEl.classList.add('colab-df-quickchart-complete');\n",
              "    }\n",
              "    (() => {\n",
              "      let quickchartButtonEl =\n",
              "        document.querySelector('#df-cc9bf865-3041-45e8-8c1b-d75014cfd5ad button');\n",
              "      quickchartButtonEl.style.display =\n",
              "        google.colab.kernel.accessAllowed ? 'block' : 'none';\n",
              "    })();\n",
              "  </script>\n",
              "</div>\n",
              "    </div>\n",
              "  </div>\n"
            ]
          },
          "metadata": {},
          "execution_count": 4
        }
      ]
    },
    {
      "cell_type": "code",
      "source": [
        "print(X_train.shape,X_test.shape)"
      ],
      "metadata": {
        "colab": {
          "base_uri": "https://localhost:8080/"
        },
        "id": "_BILIwdumizc",
        "outputId": "bdf2a0e1-2fa1-43a5-cdb5-4ab45c934990"
      },
      "id": "_BILIwdumizc",
      "execution_count": null,
      "outputs": [
        {
          "output_type": "stream",
          "name": "stdout",
          "text": [
            "(480080, 15) (120020, 15)\n"
          ]
        }
      ]
    },
    {
      "cell_type": "code",
      "execution_count": null,
      "id": "fe2qgTaN7G8_",
      "metadata": {
        "id": "fe2qgTaN7G8_"
      },
      "outputs": [],
      "source": [
        "df_train = X_train[X_train['Label']==1]\n",
        "df_test = X_test[X_test['predictions']==1]"
      ]
    },
    {
      "cell_type": "code",
      "execution_count": null,
      "id": "Om0eCd6KH6bE",
      "metadata": {
        "colab": {
          "base_uri": "https://localhost:8080/"
        },
        "id": "Om0eCd6KH6bE",
        "outputId": "dfdf4796-5346-402c-f74a-bfb494bf9863"
      },
      "outputs": [
        {
          "output_type": "stream",
          "name": "stdout",
          "text": [
            "(468937, 15) (118404, 15)\n"
          ]
        }
      ],
      "source": [
        "print(df_train.shape,df_test.shape)"
      ]
    },
    {
      "cell_type": "code",
      "execution_count": null,
      "id": "o5703AYx7KRF",
      "metadata": {
        "colab": {
          "base_uri": "https://localhost:8080/"
        },
        "id": "o5703AYx7KRF",
        "outputId": "66eb4834-7061-4829-de2b-cc15821fc76f"
      },
      "outputs": [
        {
          "output_type": "execute_result",
          "data": {
            "text/plain": [
              "Index(['Unnamed: 0', 'IPV4_SRC_ADDR', 'L4_SRC_PORT', 'IPV4_DST_ADDR',\n",
              "       'L4_DST_PORT', 'PROTOCOL', 'L7_PROTO', 'IN_BYTES', 'OUT_BYTES',\n",
              "       'IN_PKTS', 'OUT_PKTS', 'TCP_FLAGS', 'FLOW_DURATION_MILLISECONDS',\n",
              "       'Label', 'Attack'],\n",
              "      dtype='object')"
            ]
          },
          "metadata": {},
          "execution_count": 8
        }
      ],
      "source": [
        "df_train.columns"
      ]
    },
    {
      "cell_type": "code",
      "source": [
        "df_test.columns"
      ],
      "metadata": {
        "colab": {
          "base_uri": "https://localhost:8080/"
        },
        "id": "kc6vAwMWm1Yf",
        "outputId": "c1f17136-4c10-47aa-bc31-ca21bbdb15ca"
      },
      "id": "kc6vAwMWm1Yf",
      "execution_count": null,
      "outputs": [
        {
          "output_type": "execute_result",
          "data": {
            "text/plain": [
              "Index(['Unnamed: 0', 'IPV4_SRC_ADDR', 'L4_SRC_PORT', 'IPV4_DST_ADDR',\n",
              "       'L4_DST_PORT', 'PROTOCOL', 'L7_PROTO', 'IN_BYTES', 'OUT_BYTES',\n",
              "       'IN_PKTS', 'OUT_PKTS', 'TCP_FLAGS', 'FLOW_DURATION_MILLISECONDS',\n",
              "       'Attack', 'predictions'],\n",
              "      dtype='object')"
            ]
          },
          "metadata": {},
          "execution_count": 9
        }
      ]
    },
    {
      "cell_type": "code",
      "execution_count": null,
      "id": "fIg16vVT7MoJ",
      "metadata": {
        "colab": {
          "base_uri": "https://localhost:8080/"
        },
        "id": "fIg16vVT7MoJ",
        "outputId": "8510812d-4229-45e7-a017-75f4133d8005"
      },
      "outputs": [
        {
          "output_type": "stream",
          "name": "stderr",
          "text": [
            "<ipython-input-10-9c87aee3db2f>:1: SettingWithCopyWarning: \n",
            "A value is trying to be set on a copy of a slice from a DataFrame\n",
            "\n",
            "See the caveats in the documentation: https://pandas.pydata.org/pandas-docs/stable/user_guide/indexing.html#returning-a-view-versus-a-copy\n",
            "  df_train.drop(columns=['Unnamed: 0','IPV4_SRC_ADDR','IPV4_DST_ADDR','Label'],inplace=True)\n",
            "<ipython-input-10-9c87aee3db2f>:2: SettingWithCopyWarning: \n",
            "A value is trying to be set on a copy of a slice from a DataFrame\n",
            "\n",
            "See the caveats in the documentation: https://pandas.pydata.org/pandas-docs/stable/user_guide/indexing.html#returning-a-view-versus-a-copy\n",
            "  df_test.drop(columns=['Unnamed: 0','IPV4_SRC_ADDR','IPV4_DST_ADDR','predictions'],inplace=True)\n"
          ]
        }
      ],
      "source": [
        "df_train.drop(columns=['Unnamed: 0','IPV4_SRC_ADDR','IPV4_DST_ADDR','Label'],inplace=True)\n",
        "df_test.drop(columns=['Unnamed: 0','IPV4_SRC_ADDR','IPV4_DST_ADDR','predictions'],inplace=True)"
      ]
    },
    {
      "cell_type": "code",
      "execution_count": null,
      "id": "waY2fYZFHOH2",
      "metadata": {
        "colab": {
          "base_uri": "https://localhost:8080/"
        },
        "id": "waY2fYZFHOH2",
        "outputId": "3e75aea6-cacc-49ed-c4bb-677062bced8f"
      },
      "outputs": [
        {
          "output_type": "execute_result",
          "data": {
            "text/plain": [
              "Index(['L4_SRC_PORT', 'L4_DST_PORT', 'PROTOCOL', 'L7_PROTO', 'IN_BYTES',\n",
              "       'OUT_BYTES', 'IN_PKTS', 'OUT_PKTS', 'TCP_FLAGS',\n",
              "       'FLOW_DURATION_MILLISECONDS', 'Attack'],\n",
              "      dtype='object')"
            ]
          },
          "metadata": {},
          "execution_count": 11
        }
      ],
      "source": [
        "df_train.columns"
      ]
    },
    {
      "cell_type": "code",
      "source": [
        "df_test.columns"
      ],
      "metadata": {
        "colab": {
          "base_uri": "https://localhost:8080/"
        },
        "id": "LGBY4cubm8XA",
        "outputId": "2f36adb3-3164-42ee-e236-7f6b9f30ca79"
      },
      "id": "LGBY4cubm8XA",
      "execution_count": null,
      "outputs": [
        {
          "output_type": "execute_result",
          "data": {
            "text/plain": [
              "Index(['L4_SRC_PORT', 'L4_DST_PORT', 'PROTOCOL', 'L7_PROTO', 'IN_BYTES',\n",
              "       'OUT_BYTES', 'IN_PKTS', 'OUT_PKTS', 'TCP_FLAGS',\n",
              "       'FLOW_DURATION_MILLISECONDS', 'Attack'],\n",
              "      dtype='object')"
            ]
          },
          "metadata": {},
          "execution_count": 12
        }
      ]
    },
    {
      "cell_type": "code",
      "execution_count": null,
      "id": "-vHamnL176ui",
      "metadata": {
        "colab": {
          "base_uri": "https://localhost:8080/"
        },
        "id": "-vHamnL176ui",
        "outputId": "afb509c7-8439-454c-c378-c7bf18e11b68"
      },
      "outputs": [
        {
          "output_type": "stream",
          "name": "stderr",
          "text": [
            "<ipython-input-13-b06b0a2d21d3>:1: SettingWithCopyWarning: \n",
            "A value is trying to be set on a copy of a slice from a DataFrame.\n",
            "Try using .loc[row_indexer,col_indexer] = value instead\n",
            "\n",
            "See the caveats in the documentation: https://pandas.pydata.org/pandas-docs/stable/user_guide/indexing.html#returning-a-view-versus-a-copy\n",
            "  df_train['out-in_pkts']=df_train.OUT_PKTS-df_train.IN_PKTS\n",
            "<ipython-input-13-b06b0a2d21d3>:2: SettingWithCopyWarning: \n",
            "A value is trying to be set on a copy of a slice from a DataFrame.\n",
            "Try using .loc[row_indexer,col_indexer] = value instead\n",
            "\n",
            "See the caveats in the documentation: https://pandas.pydata.org/pandas-docs/stable/user_guide/indexing.html#returning-a-view-versus-a-copy\n",
            "  df_train['out-in_bytes']=df_train.OUT_BYTES-df_train.IN_BYTES\n",
            "<ipython-input-13-b06b0a2d21d3>:4: SettingWithCopyWarning: \n",
            "A value is trying to be set on a copy of a slice from a DataFrame.\n",
            "Try using .loc[row_indexer,col_indexer] = value instead\n",
            "\n",
            "See the caveats in the documentation: https://pandas.pydata.org/pandas-docs/stable/user_guide/indexing.html#returning-a-view-versus-a-copy\n",
            "  df_test['out-in_pkts']=df_test.OUT_PKTS-df_test.IN_PKTS\n",
            "<ipython-input-13-b06b0a2d21d3>:5: SettingWithCopyWarning: \n",
            "A value is trying to be set on a copy of a slice from a DataFrame.\n",
            "Try using .loc[row_indexer,col_indexer] = value instead\n",
            "\n",
            "See the caveats in the documentation: https://pandas.pydata.org/pandas-docs/stable/user_guide/indexing.html#returning-a-view-versus-a-copy\n",
            "  df_test['out-in_bytes']=df_test.OUT_BYTES-df_test.IN_BYTES\n"
          ]
        }
      ],
      "source": [
        "df_train['out-in_pkts']=df_train.OUT_PKTS-df_train.IN_PKTS\n",
        "df_train['out-in_bytes']=df_train.OUT_BYTES-df_train.IN_BYTES\n",
        "\n",
        "df_test['out-in_pkts']=df_test.OUT_PKTS-df_test.IN_PKTS\n",
        "df_test['out-in_bytes']=df_test.OUT_BYTES-df_test.IN_BYTES"
      ]
    },
    {
      "cell_type": "code",
      "execution_count": null,
      "id": "i3JVB5G9IdjO",
      "metadata": {
        "colab": {
          "base_uri": "https://localhost:8080/"
        },
        "id": "i3JVB5G9IdjO",
        "outputId": "c47828d8-6ba8-4fdc-b4fa-adab07b50d20"
      },
      "outputs": [
        {
          "output_type": "stream",
          "name": "stderr",
          "text": [
            "<ipython-input-14-31f6babf3813>:1: SettingWithCopyWarning: \n",
            "A value is trying to be set on a copy of a slice from a DataFrame\n",
            "\n",
            "See the caveats in the documentation: https://pandas.pydata.org/pandas-docs/stable/user_guide/indexing.html#returning-a-view-versus-a-copy\n",
            "  df_train.drop(columns=['OUT_PKTS','out-in_pkts'],axis=1,inplace=True)\n",
            "<ipython-input-14-31f6babf3813>:2: SettingWithCopyWarning: \n",
            "A value is trying to be set on a copy of a slice from a DataFrame\n",
            "\n",
            "See the caveats in the documentation: https://pandas.pydata.org/pandas-docs/stable/user_guide/indexing.html#returning-a-view-versus-a-copy\n",
            "  df_test.drop(columns=['OUT_PKTS','out-in_pkts'],axis=1,inplace=True)\n"
          ]
        }
      ],
      "source": [
        "df_train.drop(columns=['OUT_PKTS','out-in_pkts'],axis=1,inplace=True)\n",
        "df_test.drop(columns=['OUT_PKTS','out-in_pkts'],axis=1,inplace=True)"
      ]
    },
    {
      "cell_type": "code",
      "execution_count": null,
      "id": "duosoZdlI_q6",
      "metadata": {
        "colab": {
          "base_uri": "https://localhost:8080/"
        },
        "id": "duosoZdlI_q6",
        "outputId": "885741fd-eab7-4bbf-cd5c-05d63d998922"
      },
      "outputs": [
        {
          "output_type": "execute_result",
          "data": {
            "text/plain": [
              "Index(['L4_SRC_PORT', 'L4_DST_PORT', 'PROTOCOL', 'L7_PROTO', 'IN_BYTES',\n",
              "       'OUT_BYTES', 'IN_PKTS', 'TCP_FLAGS', 'FLOW_DURATION_MILLISECONDS',\n",
              "       'Attack', 'out-in_bytes'],\n",
              "      dtype='object')"
            ]
          },
          "metadata": {},
          "execution_count": 15
        }
      ],
      "source": [
        "df_train.columns"
      ]
    },
    {
      "cell_type": "code",
      "execution_count": null,
      "id": "2Iwr_DU9JDal",
      "metadata": {
        "colab": {
          "base_uri": "https://localhost:8080/"
        },
        "id": "2Iwr_DU9JDal",
        "outputId": "386e7f82-ceac-4918-f0e9-f54ece6ade05"
      },
      "outputs": [
        {
          "output_type": "execute_result",
          "data": {
            "text/plain": [
              "array(['Reconnaissance', 'DDoS', 'DoS', 'Theft'], dtype=object)"
            ]
          },
          "metadata": {},
          "execution_count": 16
        }
      ],
      "source": [
        "df_train['Attack'].unique()"
      ]
    },
    {
      "cell_type": "code",
      "source": [
        "df_test['Attack'].unique()"
      ],
      "metadata": {
        "colab": {
          "base_uri": "https://localhost:8080/"
        },
        "id": "RGc0r5G1nKZF",
        "outputId": "483a3b9d-edd9-4882-d4b8-1462e17f2664"
      },
      "id": "RGc0r5G1nKZF",
      "execution_count": null,
      "outputs": [
        {
          "output_type": "execute_result",
          "data": {
            "text/plain": [
              "array(['Reconnaissance', 'DoS', 'DDoS', 'Benign', 'Theft'], dtype=object)"
            ]
          },
          "metadata": {},
          "execution_count": 17
        }
      ]
    },
    {
      "cell_type": "code",
      "source": [
        "df_test = df_test.drop(df_test[df_test['Attack'] == 'Benign'].index)\n",
        "print(df_test.shape)"
      ],
      "metadata": {
        "colab": {
          "base_uri": "https://localhost:8080/"
        },
        "id": "gqTvAV2loLf7",
        "outputId": "fa750750-98b7-4dad-c974-5503ccd4724c"
      },
      "id": "gqTvAV2loLf7",
      "execution_count": null,
      "outputs": [
        {
          "output_type": "stream",
          "name": "stdout",
          "text": [
            "(117207, 11)\n"
          ]
        }
      ]
    },
    {
      "cell_type": "code",
      "source": [
        "df_test['Attack'].value_counts()"
      ],
      "metadata": {
        "colab": {
          "base_uri": "https://localhost:8080/"
        },
        "id": "1XTYZ0irnUzW",
        "outputId": "f0050126-ea01-4116-82a5-52649d9ba82c"
      },
      "id": "1XTYZ0irnUzW",
      "execution_count": null,
      "outputs": [
        {
          "output_type": "execute_result",
          "data": {
            "text/plain": [
              "Reconnaissance    94071\n",
              "DoS               11405\n",
              "DDoS              11356\n",
              "Theft               375\n",
              "Name: Attack, dtype: int64"
            ]
          },
          "metadata": {},
          "execution_count": 19
        }
      ]
    },
    {
      "cell_type": "code",
      "execution_count": null,
      "id": "37Tu7obdKHz3",
      "metadata": {
        "colab": {
          "base_uri": "https://localhost:8080/"
        },
        "id": "37Tu7obdKHz3",
        "outputId": "540b36b7-4c67-4216-de0b-8553ce76c8cf"
      },
      "outputs": [
        {
          "output_type": "stream",
          "name": "stderr",
          "text": [
            "<ipython-input-20-0f0ad43e6b0a>:7: SettingWithCopyWarning: \n",
            "A value is trying to be set on a copy of a slice from a DataFrame.\n",
            "Try using .loc[row_indexer,col_indexer] = value instead\n",
            "\n",
            "See the caveats in the documentation: https://pandas.pydata.org/pandas-docs/stable/user_guide/indexing.html#returning-a-view-versus-a-copy\n",
            "  df_train['Attack_type'] = le.transform(df_train['Attack'])\n"
          ]
        }
      ],
      "source": [
        "# Label Encoding the target\n",
        "\n",
        "from sklearn.preprocessing import LabelEncoder\n",
        "\n",
        "le=LabelEncoder()\n",
        "le.fit(df_train['Attack'])\n",
        "df_train['Attack_type'] = le.transform(df_train['Attack'])\n",
        "df_test['Attack_type'] = le.transform(df_test['Attack'])"
      ]
    },
    {
      "cell_type": "code",
      "execution_count": null,
      "id": "KcW1Zw0DNHRv",
      "metadata": {
        "colab": {
          "base_uri": "https://localhost:8080/"
        },
        "id": "KcW1Zw0DNHRv",
        "outputId": "3dd38a6f-a449-494c-cae3-3330c1402c9a"
      },
      "outputs": [
        {
          "output_type": "execute_result",
          "data": {
            "text/plain": [
              "array(['DDoS', 'DoS', 'Reconnaissance', 'Theft'], dtype=object)"
            ]
          },
          "metadata": {},
          "execution_count": 21
        }
      ],
      "source": [
        "le.classes_"
      ]
    },
    {
      "cell_type": "code",
      "execution_count": null,
      "id": "G7sEOHFyNFYT",
      "metadata": {
        "id": "G7sEOHFyNFYT"
      },
      "outputs": [],
      "source": [
        "df_train = df_train.drop('Attack',axis=1)\n",
        "df_test = df_test.drop('Attack',axis=1)"
      ]
    },
    {
      "cell_type": "code",
      "execution_count": null,
      "id": "2_GX8pi5Ni8Z",
      "metadata": {
        "colab": {
          "base_uri": "https://localhost:8080/"
        },
        "id": "2_GX8pi5Ni8Z",
        "outputId": "db758a22-3467-461b-ee39-2833ec56d18d"
      },
      "outputs": [
        {
          "output_type": "execute_result",
          "data": {
            "text/plain": [
              "Index(['L4_SRC_PORT', 'L4_DST_PORT', 'PROTOCOL', 'L7_PROTO', 'IN_BYTES',\n",
              "       'OUT_BYTES', 'IN_PKTS', 'TCP_FLAGS', 'FLOW_DURATION_MILLISECONDS',\n",
              "       'out-in_bytes', 'Attack_type'],\n",
              "      dtype='object')"
            ]
          },
          "metadata": {},
          "execution_count": 23
        }
      ],
      "source": [
        "df_train.columns"
      ]
    },
    {
      "cell_type": "code",
      "execution_count": null,
      "id": "NfecJVVPNk4A",
      "metadata": {
        "colab": {
          "base_uri": "https://localhost:8080/"
        },
        "id": "NfecJVVPNk4A",
        "outputId": "5b29d850-18cc-442b-9bcd-fe21fc255214"
      },
      "outputs": [
        {
          "output_type": "stream",
          "name": "stdout",
          "text": [
            "(468937, 11) (117207, 11)\n"
          ]
        }
      ],
      "source": [
        "print(df_train.shape,df_test.shape)"
      ]
    },
    {
      "cell_type": "markdown",
      "id": "pxf15-r-RoS9",
      "metadata": {
        "id": "pxf15-r-RoS9"
      },
      "source": [
        "### FEATURE SELECTION"
      ]
    },
    {
      "cell_type": "code",
      "execution_count": null,
      "id": "PjDvnam6RqaS",
      "metadata": {
        "colab": {
          "base_uri": "https://localhost:8080/"
        },
        "id": "PjDvnam6RqaS",
        "outputId": "900de929-2405-41c4-ba0b-b0395bedd8ed"
      },
      "outputs": [
        {
          "output_type": "stream",
          "name": "stdout",
          "text": [
            "(468937, 10) (468937,)\n",
            "(117207, 10) (117207,)\n"
          ]
        }
      ],
      "source": [
        "X_train_m2= df_train.drop('Attack_type',axis=1)\n",
        "y_train_m2= df_train['Attack_type']\n",
        "print(X_train_m2.shape,y_train_m2.shape)\n",
        "\n",
        "X_test_m2=df_test.drop('Attack_type',axis=1)\n",
        "y_test_m2=df_test['Attack_type']\n",
        "print(X_test_m2.shape,y_test_m2.shape)"
      ]
    },
    {
      "cell_type": "code",
      "execution_count": null,
      "id": "kOzkoagSRwdg",
      "metadata": {
        "colab": {
          "base_uri": "https://localhost:8080/"
        },
        "id": "kOzkoagSRwdg",
        "outputId": "63c336e3-3f94-42f2-f5be-fd6b0b415f3c"
      },
      "outputs": [
        {
          "output_type": "stream",
          "name": "stdout",
          "text": [
            "<class 'pandas.core.frame.DataFrame'>\n",
            "Int64Index: 468937 entries, 0 to 480079\n",
            "Data columns (total 10 columns):\n",
            " #   Column                      Non-Null Count   Dtype  \n",
            "---  ------                      --------------   -----  \n",
            " 0   L4_SRC_PORT                 468937 non-null  int64  \n",
            " 1   L4_DST_PORT                 468937 non-null  int64  \n",
            " 2   PROTOCOL                    468937 non-null  int64  \n",
            " 3   L7_PROTO                    468937 non-null  float64\n",
            " 4   IN_BYTES                    468937 non-null  int64  \n",
            " 5   OUT_BYTES                   468937 non-null  int64  \n",
            " 6   IN_PKTS                     468937 non-null  int64  \n",
            " 7   TCP_FLAGS                   468937 non-null  int64  \n",
            " 8   FLOW_DURATION_MILLISECONDS  468937 non-null  int64  \n",
            " 9   out-in_bytes                468937 non-null  int64  \n",
            "dtypes: float64(1), int64(9)\n",
            "memory usage: 39.4 MB\n"
          ]
        }
      ],
      "source": [
        "X_train_m2.info()"
      ]
    },
    {
      "cell_type": "code",
      "execution_count": null,
      "id": "H2HiKjASSwCK",
      "metadata": {
        "colab": {
          "base_uri": "https://localhost:8080/"
        },
        "id": "H2HiKjASSwCK",
        "outputId": "9ffbc0f5-61c3-42a7-9789-82bc9ce60ab6"
      },
      "outputs": [
        {
          "output_type": "stream",
          "name": "stdout",
          "text": [
            "<class 'pandas.core.frame.DataFrame'>\n",
            "Int64Index: 117207 entries, 0 to 120019\n",
            "Data columns (total 10 columns):\n",
            " #   Column                      Non-Null Count   Dtype  \n",
            "---  ------                      --------------   -----  \n",
            " 0   L4_SRC_PORT                 117207 non-null  int64  \n",
            " 1   L4_DST_PORT                 117207 non-null  int64  \n",
            " 2   PROTOCOL                    117207 non-null  int64  \n",
            " 3   L7_PROTO                    117207 non-null  float64\n",
            " 4   IN_BYTES                    117207 non-null  int64  \n",
            " 5   OUT_BYTES                   117207 non-null  int64  \n",
            " 6   IN_PKTS                     117207 non-null  int64  \n",
            " 7   TCP_FLAGS                   117207 non-null  int64  \n",
            " 8   FLOW_DURATION_MILLISECONDS  117207 non-null  int64  \n",
            " 9   out-in_bytes                117207 non-null  int64  \n",
            "dtypes: float64(1), int64(9)\n",
            "memory usage: 9.8 MB\n"
          ]
        }
      ],
      "source": [
        "X_test_m2.info()"
      ]
    },
    {
      "cell_type": "code",
      "execution_count": null,
      "id": "TTPBy2g6aRXP",
      "metadata": {
        "id": "TTPBy2g6aRXP"
      },
      "outputs": [],
      "source": [
        "X_train_m2['FLOW_DURATION_MILLISECONDS']*=0.001\n",
        "X_test_m2['FLOW_DURATION_MILLISECONDS']*=0.001"
      ]
    },
    {
      "cell_type": "code",
      "execution_count": null,
      "id": "KxO8RQ5YofdZ",
      "metadata": {
        "colab": {
          "base_uri": "https://localhost:8080/"
        },
        "id": "KxO8RQ5YofdZ",
        "outputId": "85fc65ab-6562-4627-9cfc-c7a766ab3149"
      },
      "outputs": [
        {
          "output_type": "stream",
          "name": "stdout",
          "text": [
            "(468937, 10) (117207, 10)\n"
          ]
        }
      ],
      "source": [
        "print(X_train_m2.shape,X_test_m2.shape)"
      ]
    },
    {
      "cell_type": "code",
      "execution_count": null,
      "id": "eDOGig9TEbuk",
      "metadata": {
        "colab": {
          "base_uri": "https://localhost:8080/",
          "height": 206
        },
        "id": "eDOGig9TEbuk",
        "outputId": "c50c6e20-c192-45b3-96d0-be7723a8ca1e"
      },
      "outputs": [
        {
          "output_type": "execute_result",
          "data": {
            "text/plain": [
              "   L4_SRC_PORT  L4_DST_PORT  PROTOCOL  L7_PROTO  IN_BYTES  OUT_BYTES  IN_PKTS  \\\n",
              "0        33163        40116        17       0.0        28          0        1   \n",
              "1        36228        20872        17       0.0        28          0        1   \n",
              "2        56742           80         6       7.0        52          0        1   \n",
              "3        40726        20164        17       0.0        28          0        1   \n",
              "4        41364           80         6       7.0       759        770        7   \n",
              "\n",
              "   TCP_FLAGS  FLOW_DURATION_MILLISECONDS  out-in_bytes  \n",
              "0          0                         0.0           -28  \n",
              "1          0                         0.0           -28  \n",
              "2         20                         0.0           -52  \n",
              "3          0                         0.0           -28  \n",
              "4         31                         0.0            11  "
            ],
            "text/html": [
              "\n",
              "  <div id=\"df-68a68adc-03ee-4511-9b55-7c2c06e8331d\" class=\"colab-df-container\">\n",
              "    <div>\n",
              "<style scoped>\n",
              "    .dataframe tbody tr th:only-of-type {\n",
              "        vertical-align: middle;\n",
              "    }\n",
              "\n",
              "    .dataframe tbody tr th {\n",
              "        vertical-align: top;\n",
              "    }\n",
              "\n",
              "    .dataframe thead th {\n",
              "        text-align: right;\n",
              "    }\n",
              "</style>\n",
              "<table border=\"1\" class=\"dataframe\">\n",
              "  <thead>\n",
              "    <tr style=\"text-align: right;\">\n",
              "      <th></th>\n",
              "      <th>L4_SRC_PORT</th>\n",
              "      <th>L4_DST_PORT</th>\n",
              "      <th>PROTOCOL</th>\n",
              "      <th>L7_PROTO</th>\n",
              "      <th>IN_BYTES</th>\n",
              "      <th>OUT_BYTES</th>\n",
              "      <th>IN_PKTS</th>\n",
              "      <th>TCP_FLAGS</th>\n",
              "      <th>FLOW_DURATION_MILLISECONDS</th>\n",
              "      <th>out-in_bytes</th>\n",
              "    </tr>\n",
              "  </thead>\n",
              "  <tbody>\n",
              "    <tr>\n",
              "      <th>0</th>\n",
              "      <td>33163</td>\n",
              "      <td>40116</td>\n",
              "      <td>17</td>\n",
              "      <td>0.0</td>\n",
              "      <td>28</td>\n",
              "      <td>0</td>\n",
              "      <td>1</td>\n",
              "      <td>0</td>\n",
              "      <td>0.0</td>\n",
              "      <td>-28</td>\n",
              "    </tr>\n",
              "    <tr>\n",
              "      <th>1</th>\n",
              "      <td>36228</td>\n",
              "      <td>20872</td>\n",
              "      <td>17</td>\n",
              "      <td>0.0</td>\n",
              "      <td>28</td>\n",
              "      <td>0</td>\n",
              "      <td>1</td>\n",
              "      <td>0</td>\n",
              "      <td>0.0</td>\n",
              "      <td>-28</td>\n",
              "    </tr>\n",
              "    <tr>\n",
              "      <th>2</th>\n",
              "      <td>56742</td>\n",
              "      <td>80</td>\n",
              "      <td>6</td>\n",
              "      <td>7.0</td>\n",
              "      <td>52</td>\n",
              "      <td>0</td>\n",
              "      <td>1</td>\n",
              "      <td>20</td>\n",
              "      <td>0.0</td>\n",
              "      <td>-52</td>\n",
              "    </tr>\n",
              "    <tr>\n",
              "      <th>3</th>\n",
              "      <td>40726</td>\n",
              "      <td>20164</td>\n",
              "      <td>17</td>\n",
              "      <td>0.0</td>\n",
              "      <td>28</td>\n",
              "      <td>0</td>\n",
              "      <td>1</td>\n",
              "      <td>0</td>\n",
              "      <td>0.0</td>\n",
              "      <td>-28</td>\n",
              "    </tr>\n",
              "    <tr>\n",
              "      <th>4</th>\n",
              "      <td>41364</td>\n",
              "      <td>80</td>\n",
              "      <td>6</td>\n",
              "      <td>7.0</td>\n",
              "      <td>759</td>\n",
              "      <td>770</td>\n",
              "      <td>7</td>\n",
              "      <td>31</td>\n",
              "      <td>0.0</td>\n",
              "      <td>11</td>\n",
              "    </tr>\n",
              "  </tbody>\n",
              "</table>\n",
              "</div>\n",
              "    <div class=\"colab-df-buttons\">\n",
              "\n",
              "  <div class=\"colab-df-container\">\n",
              "    <button class=\"colab-df-convert\" onclick=\"convertToInteractive('df-68a68adc-03ee-4511-9b55-7c2c06e8331d')\"\n",
              "            title=\"Convert this dataframe to an interactive table.\"\n",
              "            style=\"display:none;\">\n",
              "\n",
              "  <svg xmlns=\"http://www.w3.org/2000/svg\" height=\"24px\" viewBox=\"0 -960 960 960\">\n",
              "    <path d=\"M120-120v-720h720v720H120Zm60-500h600v-160H180v160Zm220 220h160v-160H400v160Zm0 220h160v-160H400v160ZM180-400h160v-160H180v160Zm440 0h160v-160H620v160ZM180-180h160v-160H180v160Zm440 0h160v-160H620v160Z\"/>\n",
              "  </svg>\n",
              "    </button>\n",
              "\n",
              "  <style>\n",
              "    .colab-df-container {\n",
              "      display:flex;\n",
              "      gap: 12px;\n",
              "    }\n",
              "\n",
              "    .colab-df-convert {\n",
              "      background-color: #E8F0FE;\n",
              "      border: none;\n",
              "      border-radius: 50%;\n",
              "      cursor: pointer;\n",
              "      display: none;\n",
              "      fill: #1967D2;\n",
              "      height: 32px;\n",
              "      padding: 0 0 0 0;\n",
              "      width: 32px;\n",
              "    }\n",
              "\n",
              "    .colab-df-convert:hover {\n",
              "      background-color: #E2EBFA;\n",
              "      box-shadow: 0px 1px 2px rgba(60, 64, 67, 0.3), 0px 1px 3px 1px rgba(60, 64, 67, 0.15);\n",
              "      fill: #174EA6;\n",
              "    }\n",
              "\n",
              "    .colab-df-buttons div {\n",
              "      margin-bottom: 4px;\n",
              "    }\n",
              "\n",
              "    [theme=dark] .colab-df-convert {\n",
              "      background-color: #3B4455;\n",
              "      fill: #D2E3FC;\n",
              "    }\n",
              "\n",
              "    [theme=dark] .colab-df-convert:hover {\n",
              "      background-color: #434B5C;\n",
              "      box-shadow: 0px 1px 3px 1px rgba(0, 0, 0, 0.15);\n",
              "      filter: drop-shadow(0px 1px 2px rgba(0, 0, 0, 0.3));\n",
              "      fill: #FFFFFF;\n",
              "    }\n",
              "  </style>\n",
              "\n",
              "    <script>\n",
              "      const buttonEl =\n",
              "        document.querySelector('#df-68a68adc-03ee-4511-9b55-7c2c06e8331d button.colab-df-convert');\n",
              "      buttonEl.style.display =\n",
              "        google.colab.kernel.accessAllowed ? 'block' : 'none';\n",
              "\n",
              "      async function convertToInteractive(key) {\n",
              "        const element = document.querySelector('#df-68a68adc-03ee-4511-9b55-7c2c06e8331d');\n",
              "        const dataTable =\n",
              "          await google.colab.kernel.invokeFunction('convertToInteractive',\n",
              "                                                    [key], {});\n",
              "        if (!dataTable) return;\n",
              "\n",
              "        const docLinkHtml = 'Like what you see? Visit the ' +\n",
              "          '<a target=\"_blank\" href=https://colab.research.google.com/notebooks/data_table.ipynb>data table notebook</a>'\n",
              "          + ' to learn more about interactive tables.';\n",
              "        element.innerHTML = '';\n",
              "        dataTable['output_type'] = 'display_data';\n",
              "        await google.colab.output.renderOutput(dataTable, element);\n",
              "        const docLink = document.createElement('div');\n",
              "        docLink.innerHTML = docLinkHtml;\n",
              "        element.appendChild(docLink);\n",
              "      }\n",
              "    </script>\n",
              "  </div>\n",
              "\n",
              "\n",
              "<div id=\"df-10ca1aa0-4da7-4bfa-b3cb-7541f2e5c52b\">\n",
              "  <button class=\"colab-df-quickchart\" onclick=\"quickchart('df-10ca1aa0-4da7-4bfa-b3cb-7541f2e5c52b')\"\n",
              "            title=\"Suggest charts.\"\n",
              "            style=\"display:none;\">\n",
              "\n",
              "<svg xmlns=\"http://www.w3.org/2000/svg\" height=\"24px\"viewBox=\"0 0 24 24\"\n",
              "     width=\"24px\">\n",
              "    <g>\n",
              "        <path d=\"M19 3H5c-1.1 0-2 .9-2 2v14c0 1.1.9 2 2 2h14c1.1 0 2-.9 2-2V5c0-1.1-.9-2-2-2zM9 17H7v-7h2v7zm4 0h-2V7h2v10zm4 0h-2v-4h2v4z\"/>\n",
              "    </g>\n",
              "</svg>\n",
              "  </button>\n",
              "\n",
              "<style>\n",
              "  .colab-df-quickchart {\n",
              "      --bg-color: #E8F0FE;\n",
              "      --fill-color: #1967D2;\n",
              "      --hover-bg-color: #E2EBFA;\n",
              "      --hover-fill-color: #174EA6;\n",
              "      --disabled-fill-color: #AAA;\n",
              "      --disabled-bg-color: #DDD;\n",
              "  }\n",
              "\n",
              "  [theme=dark] .colab-df-quickchart {\n",
              "      --bg-color: #3B4455;\n",
              "      --fill-color: #D2E3FC;\n",
              "      --hover-bg-color: #434B5C;\n",
              "      --hover-fill-color: #FFFFFF;\n",
              "      --disabled-bg-color: #3B4455;\n",
              "      --disabled-fill-color: #666;\n",
              "  }\n",
              "\n",
              "  .colab-df-quickchart {\n",
              "    background-color: var(--bg-color);\n",
              "    border: none;\n",
              "    border-radius: 50%;\n",
              "    cursor: pointer;\n",
              "    display: none;\n",
              "    fill: var(--fill-color);\n",
              "    height: 32px;\n",
              "    padding: 0;\n",
              "    width: 32px;\n",
              "  }\n",
              "\n",
              "  .colab-df-quickchart:hover {\n",
              "    background-color: var(--hover-bg-color);\n",
              "    box-shadow: 0 1px 2px rgba(60, 64, 67, 0.3), 0 1px 3px 1px rgba(60, 64, 67, 0.15);\n",
              "    fill: var(--button-hover-fill-color);\n",
              "  }\n",
              "\n",
              "  .colab-df-quickchart-complete:disabled,\n",
              "  .colab-df-quickchart-complete:disabled:hover {\n",
              "    background-color: var(--disabled-bg-color);\n",
              "    fill: var(--disabled-fill-color);\n",
              "    box-shadow: none;\n",
              "  }\n",
              "\n",
              "  .colab-df-spinner {\n",
              "    border: 2px solid var(--fill-color);\n",
              "    border-color: transparent;\n",
              "    border-bottom-color: var(--fill-color);\n",
              "    animation:\n",
              "      spin 1s steps(1) infinite;\n",
              "  }\n",
              "\n",
              "  @keyframes spin {\n",
              "    0% {\n",
              "      border-color: transparent;\n",
              "      border-bottom-color: var(--fill-color);\n",
              "      border-left-color: var(--fill-color);\n",
              "    }\n",
              "    20% {\n",
              "      border-color: transparent;\n",
              "      border-left-color: var(--fill-color);\n",
              "      border-top-color: var(--fill-color);\n",
              "    }\n",
              "    30% {\n",
              "      border-color: transparent;\n",
              "      border-left-color: var(--fill-color);\n",
              "      border-top-color: var(--fill-color);\n",
              "      border-right-color: var(--fill-color);\n",
              "    }\n",
              "    40% {\n",
              "      border-color: transparent;\n",
              "      border-right-color: var(--fill-color);\n",
              "      border-top-color: var(--fill-color);\n",
              "    }\n",
              "    60% {\n",
              "      border-color: transparent;\n",
              "      border-right-color: var(--fill-color);\n",
              "    }\n",
              "    80% {\n",
              "      border-color: transparent;\n",
              "      border-right-color: var(--fill-color);\n",
              "      border-bottom-color: var(--fill-color);\n",
              "    }\n",
              "    90% {\n",
              "      border-color: transparent;\n",
              "      border-bottom-color: var(--fill-color);\n",
              "    }\n",
              "  }\n",
              "</style>\n",
              "\n",
              "  <script>\n",
              "    async function quickchart(key) {\n",
              "      const quickchartButtonEl =\n",
              "        document.querySelector('#' + key + ' button');\n",
              "      quickchartButtonEl.disabled = true;  // To prevent multiple clicks.\n",
              "      quickchartButtonEl.classList.add('colab-df-spinner');\n",
              "      try {\n",
              "        const charts = await google.colab.kernel.invokeFunction(\n",
              "            'suggestCharts', [key], {});\n",
              "      } catch (error) {\n",
              "        console.error('Error during call to suggestCharts:', error);\n",
              "      }\n",
              "      quickchartButtonEl.classList.remove('colab-df-spinner');\n",
              "      quickchartButtonEl.classList.add('colab-df-quickchart-complete');\n",
              "    }\n",
              "    (() => {\n",
              "      let quickchartButtonEl =\n",
              "        document.querySelector('#df-10ca1aa0-4da7-4bfa-b3cb-7541f2e5c52b button');\n",
              "      quickchartButtonEl.style.display =\n",
              "        google.colab.kernel.accessAllowed ? 'block' : 'none';\n",
              "    })();\n",
              "  </script>\n",
              "</div>\n",
              "    </div>\n",
              "  </div>\n"
            ]
          },
          "metadata": {},
          "execution_count": 30
        }
      ],
      "source": [
        "X_train_m2.head()"
      ]
    },
    {
      "cell_type": "code",
      "execution_count": null,
      "id": "BV87CCiclNNm",
      "metadata": {
        "colab": {
          "base_uri": "https://localhost:8080/"
        },
        "id": "BV87CCiclNNm",
        "outputId": "08c55353-ecab-4375-c2b0-eb0e6859cc84"
      },
      "outputs": [
        {
          "output_type": "stream",
          "name": "stdout",
          "text": [
            "(468937, 10) (117207, 10)\n"
          ]
        }
      ],
      "source": [
        "from sklearn.preprocessing import MinMaxScaler\n",
        "mms=MinMaxScaler(feature_range=(0,1))\n",
        "X_train_scaled_m2 = mms.fit_transform(X_train_m2)\n",
        "X_test_scaled_m2 = mms.transform(X_test_m2)\n",
        "print(X_train_scaled_m2.shape,X_test_scaled_m2.shape)"
      ]
    },
    {
      "cell_type": "code",
      "execution_count": null,
      "id": "XaaBi47suixT",
      "metadata": {
        "colab": {
          "base_uri": "https://localhost:8080/"
        },
        "id": "XaaBi47suixT",
        "outputId": "8c774854-a6c5-479f-eb76-f868eb798064"
      },
      "outputs": [
        {
          "output_type": "execute_result",
          "data": {
            "text/plain": [
              "2    376488\n",
              "0     45487\n",
              "1     45428\n",
              "3      1534\n",
              "Name: Attack_type, dtype: int64"
            ]
          },
          "metadata": {},
          "execution_count": 32
        }
      ],
      "source": [
        "y_train_m2.value_counts()"
      ]
    },
    {
      "cell_type": "code",
      "execution_count": null,
      "id": "paVo0F5eNRWn",
      "metadata": {
        "colab": {
          "base_uri": "https://localhost:8080/"
        },
        "id": "paVo0F5eNRWn",
        "outputId": "ff9072b0-42f6-4d39-f484-f4411aa546c1"
      },
      "outputs": [
        {
          "output_type": "execute_result",
          "data": {
            "text/plain": [
              "2    94071\n",
              "1    11405\n",
              "0    11356\n",
              "3      375\n",
              "Name: Attack_type, dtype: int64"
            ]
          },
          "metadata": {},
          "execution_count": 33
        }
      ],
      "source": [
        "y_test_m2.value_counts()"
      ]
    },
    {
      "cell_type": "markdown",
      "id": "lFPmT39A5oQ1",
      "metadata": {
        "id": "lFPmT39A5oQ1"
      },
      "source": [
        "# MODEL BUILDING"
      ]
    },
    {
      "cell_type": "markdown",
      "id": "0sd1tCLqA2wA",
      "metadata": {
        "id": "0sd1tCLqA2wA"
      },
      "source": [
        "## KNN CLASSIFIER"
      ]
    },
    {
      "cell_type": "code",
      "source": [
        "from sklearn.neighbors import KNeighborsClassifier\n",
        "from sklearn import metrics\n",
        "from sklearn.metrics import f1_score, make_scorer\n",
        "from sklearn.model_selection import GridSearchCV\n",
        "from sklearn.model_selection import RepeatedStratifiedKFold\n",
        "\n",
        "knn = KNeighborsClassifier()\n",
        "k_range = list(range(5,11))\n",
        "param_grid = {\n",
        "    'n_neighbors': k_range,\n",
        "    'metric':['euclidean'],#'manhatten','minkowski'\n",
        "    'algorithm' : ['auto', 'kd_tree',],# 'ball_tree','brute'\n",
        "    'weights' : ['uniform'],#'distance'\n",
        "}\n",
        "# defining parameter range\n",
        "\n",
        "cv_method = RepeatedStratifiedKFold(n_splits=5,  n_repeats=1)\n",
        "scorer = make_scorer(f1_score, average='macro')\n",
        "grid = GridSearchCV(knn, param_grid, cv=cv_method, scoring=scorer, return_train_score=False,verbose=10)\n",
        "# fitting the model for grid search\n",
        "grid_search_knn=grid.fit(X_train_scaled_m2,y_train_m2)"
      ],
      "metadata": {
        "colab": {
          "base_uri": "https://localhost:8080/"
        },
        "id": "RB_PDoNwFniB",
        "outputId": "8b5ff7b9-da30-4d4d-fe83-ea341c7663e3"
      },
      "id": "RB_PDoNwFniB",
      "execution_count": null,
      "outputs": [
        {
          "output_type": "stream",
          "name": "stdout",
          "text": [
            "Fitting 5 folds for each of 12 candidates, totalling 60 fits\n",
            "[CV 1/5; 1/12] START algorithm=auto, metric=euclidean, n_neighbors=5, weights=uniform\n",
            "[CV 1/5; 1/12] END algorithm=auto, metric=euclidean, n_neighbors=5, weights=uniform;, score=0.568 total time=  17.8s\n",
            "[CV 2/5; 1/12] START algorithm=auto, metric=euclidean, n_neighbors=5, weights=uniform\n",
            "[CV 2/5; 1/12] END algorithm=auto, metric=euclidean, n_neighbors=5, weights=uniform;, score=0.577 total time=  12.6s\n",
            "[CV 3/5; 1/12] START algorithm=auto, metric=euclidean, n_neighbors=5, weights=uniform\n",
            "[CV 3/5; 1/12] END algorithm=auto, metric=euclidean, n_neighbors=5, weights=uniform;, score=0.572 total time=  12.7s\n",
            "[CV 4/5; 1/12] START algorithm=auto, metric=euclidean, n_neighbors=5, weights=uniform\n",
            "[CV 4/5; 1/12] END algorithm=auto, metric=euclidean, n_neighbors=5, weights=uniform;, score=0.564 total time=  11.9s\n",
            "[CV 5/5; 1/12] START algorithm=auto, metric=euclidean, n_neighbors=5, weights=uniform\n",
            "[CV 5/5; 1/12] END algorithm=auto, metric=euclidean, n_neighbors=5, weights=uniform;, score=0.574 total time=  16.6s\n",
            "[CV 1/5; 2/12] START algorithm=auto, metric=euclidean, n_neighbors=6, weights=uniform\n",
            "[CV 1/5; 2/12] END algorithm=auto, metric=euclidean, n_neighbors=6, weights=uniform;, score=0.572 total time=  15.2s\n",
            "[CV 2/5; 2/12] START algorithm=auto, metric=euclidean, n_neighbors=6, weights=uniform\n",
            "[CV 2/5; 2/12] END algorithm=auto, metric=euclidean, n_neighbors=6, weights=uniform;, score=0.577 total time=  12.7s\n",
            "[CV 3/5; 2/12] START algorithm=auto, metric=euclidean, n_neighbors=6, weights=uniform\n",
            "[CV 3/5; 2/12] END algorithm=auto, metric=euclidean, n_neighbors=6, weights=uniform;, score=0.573 total time=  12.3s\n",
            "[CV 4/5; 2/12] START algorithm=auto, metric=euclidean, n_neighbors=6, weights=uniform\n",
            "[CV 4/5; 2/12] END algorithm=auto, metric=euclidean, n_neighbors=6, weights=uniform;, score=0.567 total time=  11.3s\n",
            "[CV 5/5; 2/12] START algorithm=auto, metric=euclidean, n_neighbors=6, weights=uniform\n",
            "[CV 5/5; 2/12] END algorithm=auto, metric=euclidean, n_neighbors=6, weights=uniform;, score=0.577 total time=  12.6s\n",
            "[CV 1/5; 3/12] START algorithm=auto, metric=euclidean, n_neighbors=7, weights=uniform\n",
            "[CV 1/5; 3/12] END algorithm=auto, metric=euclidean, n_neighbors=7, weights=uniform;, score=0.570 total time=  12.5s\n",
            "[CV 2/5; 3/12] START algorithm=auto, metric=euclidean, n_neighbors=7, weights=uniform\n",
            "[CV 2/5; 3/12] END algorithm=auto, metric=euclidean, n_neighbors=7, weights=uniform;, score=0.573 total time=  13.1s\n",
            "[CV 3/5; 3/12] START algorithm=auto, metric=euclidean, n_neighbors=7, weights=uniform\n",
            "[CV 3/5; 3/12] END algorithm=auto, metric=euclidean, n_neighbors=7, weights=uniform;, score=0.567 total time=  12.6s\n",
            "[CV 4/5; 3/12] START algorithm=auto, metric=euclidean, n_neighbors=7, weights=uniform\n",
            "[CV 4/5; 3/12] END algorithm=auto, metric=euclidean, n_neighbors=7, weights=uniform;, score=0.561 total time=  12.3s\n",
            "[CV 5/5; 3/12] START algorithm=auto, metric=euclidean, n_neighbors=7, weights=uniform\n",
            "[CV 5/5; 3/12] END algorithm=auto, metric=euclidean, n_neighbors=7, weights=uniform;, score=0.576 total time=  13.4s\n",
            "[CV 1/5; 4/12] START algorithm=auto, metric=euclidean, n_neighbors=8, weights=uniform\n",
            "[CV 1/5; 4/12] END algorithm=auto, metric=euclidean, n_neighbors=8, weights=uniform;, score=0.583 total time=  13.3s\n",
            "[CV 2/5; 4/12] START algorithm=auto, metric=euclidean, n_neighbors=8, weights=uniform\n",
            "[CV 2/5; 4/12] END algorithm=auto, metric=euclidean, n_neighbors=8, weights=uniform;, score=0.589 total time=  13.2s\n",
            "[CV 3/5; 4/12] START algorithm=auto, metric=euclidean, n_neighbors=8, weights=uniform\n",
            "[CV 3/5; 4/12] END algorithm=auto, metric=euclidean, n_neighbors=8, weights=uniform;, score=0.580 total time=  12.8s\n",
            "[CV 4/5; 4/12] START algorithm=auto, metric=euclidean, n_neighbors=8, weights=uniform\n",
            "[CV 4/5; 4/12] END algorithm=auto, metric=euclidean, n_neighbors=8, weights=uniform;, score=0.579 total time=  12.2s\n",
            "[CV 5/5; 4/12] START algorithm=auto, metric=euclidean, n_neighbors=8, weights=uniform\n",
            "[CV 5/5; 4/12] END algorithm=auto, metric=euclidean, n_neighbors=8, weights=uniform;, score=0.587 total time=  13.5s\n",
            "[CV 1/5; 5/12] START algorithm=auto, metric=euclidean, n_neighbors=9, weights=uniform\n",
            "[CV 1/5; 5/12] END algorithm=auto, metric=euclidean, n_neighbors=9, weights=uniform;, score=0.581 total time=  13.3s\n",
            "[CV 2/5; 5/12] START algorithm=auto, metric=euclidean, n_neighbors=9, weights=uniform\n",
            "[CV 2/5; 5/12] END algorithm=auto, metric=euclidean, n_neighbors=9, weights=uniform;, score=0.583 total time=  13.1s\n",
            "[CV 3/5; 5/12] START algorithm=auto, metric=euclidean, n_neighbors=9, weights=uniform\n",
            "[CV 3/5; 5/12] END algorithm=auto, metric=euclidean, n_neighbors=9, weights=uniform;, score=0.578 total time=  12.8s\n",
            "[CV 4/5; 5/12] START algorithm=auto, metric=euclidean, n_neighbors=9, weights=uniform\n",
            "[CV 4/5; 5/12] END algorithm=auto, metric=euclidean, n_neighbors=9, weights=uniform;, score=0.577 total time=  11.9s\n",
            "[CV 5/5; 5/12] START algorithm=auto, metric=euclidean, n_neighbors=9, weights=uniform\n",
            "[CV 5/5; 5/12] END algorithm=auto, metric=euclidean, n_neighbors=9, weights=uniform;, score=0.581 total time=  13.0s\n",
            "[CV 1/5; 6/12] START algorithm=auto, metric=euclidean, n_neighbors=10, weights=uniform\n",
            "[CV 1/5; 6/12] END algorithm=auto, metric=euclidean, n_neighbors=10, weights=uniform;, score=0.580 total time=  13.0s\n",
            "[CV 2/5; 6/12] START algorithm=auto, metric=euclidean, n_neighbors=10, weights=uniform\n",
            "[CV 2/5; 6/12] END algorithm=auto, metric=euclidean, n_neighbors=10, weights=uniform;, score=0.585 total time=  12.7s\n",
            "[CV 3/5; 6/12] START algorithm=auto, metric=euclidean, n_neighbors=10, weights=uniform\n",
            "[CV 3/5; 6/12] END algorithm=auto, metric=euclidean, n_neighbors=10, weights=uniform;, score=0.579 total time=  12.7s\n",
            "[CV 4/5; 6/12] START algorithm=auto, metric=euclidean, n_neighbors=10, weights=uniform\n",
            "[CV 4/5; 6/12] END algorithm=auto, metric=euclidean, n_neighbors=10, weights=uniform;, score=0.576 total time=  11.2s\n",
            "[CV 5/5; 6/12] START algorithm=auto, metric=euclidean, n_neighbors=10, weights=uniform\n",
            "[CV 5/5; 6/12] END algorithm=auto, metric=euclidean, n_neighbors=10, weights=uniform;, score=0.585 total time=  13.3s\n",
            "[CV 1/5; 7/12] START algorithm=kd_tree, metric=euclidean, n_neighbors=5, weights=uniform\n",
            "[CV 1/5; 7/12] END algorithm=kd_tree, metric=euclidean, n_neighbors=5, weights=uniform;, score=0.568 total time=  12.8s\n",
            "[CV 2/5; 7/12] START algorithm=kd_tree, metric=euclidean, n_neighbors=5, weights=uniform\n",
            "[CV 2/5; 7/12] END algorithm=kd_tree, metric=euclidean, n_neighbors=5, weights=uniform;, score=0.577 total time=  12.9s\n",
            "[CV 3/5; 7/12] START algorithm=kd_tree, metric=euclidean, n_neighbors=5, weights=uniform\n",
            "[CV 3/5; 7/12] END algorithm=kd_tree, metric=euclidean, n_neighbors=5, weights=uniform;, score=0.572 total time=  12.7s\n",
            "[CV 4/5; 7/12] START algorithm=kd_tree, metric=euclidean, n_neighbors=5, weights=uniform\n",
            "[CV 4/5; 7/12] END algorithm=kd_tree, metric=euclidean, n_neighbors=5, weights=uniform;, score=0.564 total time=  11.9s\n",
            "[CV 5/5; 7/12] START algorithm=kd_tree, metric=euclidean, n_neighbors=5, weights=uniform\n",
            "[CV 5/5; 7/12] END algorithm=kd_tree, metric=euclidean, n_neighbors=5, weights=uniform;, score=0.574 total time=  13.5s\n",
            "[CV 1/5; 8/12] START algorithm=kd_tree, metric=euclidean, n_neighbors=6, weights=uniform\n",
            "[CV 1/5; 8/12] END algorithm=kd_tree, metric=euclidean, n_neighbors=6, weights=uniform;, score=0.572 total time=  12.9s\n",
            "[CV 2/5; 8/12] START algorithm=kd_tree, metric=euclidean, n_neighbors=6, weights=uniform\n",
            "[CV 2/5; 8/12] END algorithm=kd_tree, metric=euclidean, n_neighbors=6, weights=uniform;, score=0.577 total time=  12.7s\n",
            "[CV 3/5; 8/12] START algorithm=kd_tree, metric=euclidean, n_neighbors=6, weights=uniform\n",
            "[CV 3/5; 8/12] END algorithm=kd_tree, metric=euclidean, n_neighbors=6, weights=uniform;, score=0.573 total time=  12.4s\n",
            "[CV 4/5; 8/12] START algorithm=kd_tree, metric=euclidean, n_neighbors=6, weights=uniform\n",
            "[CV 4/5; 8/12] END algorithm=kd_tree, metric=euclidean, n_neighbors=6, weights=uniform;, score=0.567 total time=  11.7s\n",
            "[CV 5/5; 8/12] START algorithm=kd_tree, metric=euclidean, n_neighbors=6, weights=uniform\n",
            "[CV 5/5; 8/12] END algorithm=kd_tree, metric=euclidean, n_neighbors=6, weights=uniform;, score=0.577 total time=  12.9s\n",
            "[CV 1/5; 9/12] START algorithm=kd_tree, metric=euclidean, n_neighbors=7, weights=uniform\n",
            "[CV 1/5; 9/12] END algorithm=kd_tree, metric=euclidean, n_neighbors=7, weights=uniform;, score=0.570 total time=  13.0s\n",
            "[CV 2/5; 9/12] START algorithm=kd_tree, metric=euclidean, n_neighbors=7, weights=uniform\n",
            "[CV 2/5; 9/12] END algorithm=kd_tree, metric=euclidean, n_neighbors=7, weights=uniform;, score=0.573 total time=  12.2s\n",
            "[CV 3/5; 9/12] START algorithm=kd_tree, metric=euclidean, n_neighbors=7, weights=uniform\n",
            "[CV 3/5; 9/12] END algorithm=kd_tree, metric=euclidean, n_neighbors=7, weights=uniform;, score=0.567 total time=  12.0s\n",
            "[CV 4/5; 9/12] START algorithm=kd_tree, metric=euclidean, n_neighbors=7, weights=uniform\n",
            "[CV 4/5; 9/12] END algorithm=kd_tree, metric=euclidean, n_neighbors=7, weights=uniform;, score=0.561 total time=  11.7s\n",
            "[CV 5/5; 9/12] START algorithm=kd_tree, metric=euclidean, n_neighbors=7, weights=uniform\n",
            "[CV 5/5; 9/12] END algorithm=kd_tree, metric=euclidean, n_neighbors=7, weights=uniform;, score=0.576 total time=  13.3s\n",
            "[CV 1/5; 10/12] START algorithm=kd_tree, metric=euclidean, n_neighbors=8, weights=uniform\n",
            "[CV 1/5; 10/12] END algorithm=kd_tree, metric=euclidean, n_neighbors=8, weights=uniform;, score=0.583 total time=  13.1s\n",
            "[CV 2/5; 10/12] START algorithm=kd_tree, metric=euclidean, n_neighbors=8, weights=uniform\n",
            "[CV 2/5; 10/12] END algorithm=kd_tree, metric=euclidean, n_neighbors=8, weights=uniform;, score=0.589 total time=  12.9s\n",
            "[CV 3/5; 10/12] START algorithm=kd_tree, metric=euclidean, n_neighbors=8, weights=uniform\n",
            "[CV 3/5; 10/12] END algorithm=kd_tree, metric=euclidean, n_neighbors=8, weights=uniform;, score=0.580 total time=  12.8s\n",
            "[CV 4/5; 10/12] START algorithm=kd_tree, metric=euclidean, n_neighbors=8, weights=uniform\n",
            "[CV 4/5; 10/12] END algorithm=kd_tree, metric=euclidean, n_neighbors=8, weights=uniform;, score=0.579 total time=  12.1s\n",
            "[CV 5/5; 10/12] START algorithm=kd_tree, metric=euclidean, n_neighbors=8, weights=uniform\n",
            "[CV 5/5; 10/12] END algorithm=kd_tree, metric=euclidean, n_neighbors=8, weights=uniform;, score=0.587 total time=  13.2s\n",
            "[CV 1/5; 11/12] START algorithm=kd_tree, metric=euclidean, n_neighbors=9, weights=uniform\n",
            "[CV 1/5; 11/12] END algorithm=kd_tree, metric=euclidean, n_neighbors=9, weights=uniform;, score=0.581 total time=  13.3s\n",
            "[CV 2/5; 11/12] START algorithm=kd_tree, metric=euclidean, n_neighbors=9, weights=uniform\n",
            "[CV 2/5; 11/12] END algorithm=kd_tree, metric=euclidean, n_neighbors=9, weights=uniform;, score=0.583 total time=  13.1s\n",
            "[CV 3/5; 11/12] START algorithm=kd_tree, metric=euclidean, n_neighbors=9, weights=uniform\n",
            "[CV 3/5; 11/12] END algorithm=kd_tree, metric=euclidean, n_neighbors=9, weights=uniform;, score=0.578 total time=  13.1s\n",
            "[CV 4/5; 11/12] START algorithm=kd_tree, metric=euclidean, n_neighbors=9, weights=uniform\n",
            "[CV 4/5; 11/12] END algorithm=kd_tree, metric=euclidean, n_neighbors=9, weights=uniform;, score=0.577 total time=  11.9s\n",
            "[CV 5/5; 11/12] START algorithm=kd_tree, metric=euclidean, n_neighbors=9, weights=uniform\n",
            "[CV 5/5; 11/12] END algorithm=kd_tree, metric=euclidean, n_neighbors=9, weights=uniform;, score=0.581 total time=  13.0s\n",
            "[CV 1/5; 12/12] START algorithm=kd_tree, metric=euclidean, n_neighbors=10, weights=uniform\n",
            "[CV 1/5; 12/12] END algorithm=kd_tree, metric=euclidean, n_neighbors=10, weights=uniform;, score=0.580 total time=  12.7s\n",
            "[CV 2/5; 12/12] START algorithm=kd_tree, metric=euclidean, n_neighbors=10, weights=uniform\n",
            "[CV 2/5; 12/12] END algorithm=kd_tree, metric=euclidean, n_neighbors=10, weights=uniform;, score=0.585 total time=  12.7s\n",
            "[CV 3/5; 12/12] START algorithm=kd_tree, metric=euclidean, n_neighbors=10, weights=uniform\n",
            "[CV 3/5; 12/12] END algorithm=kd_tree, metric=euclidean, n_neighbors=10, weights=uniform;, score=0.579 total time=  12.4s\n",
            "[CV 4/5; 12/12] START algorithm=kd_tree, metric=euclidean, n_neighbors=10, weights=uniform\n",
            "[CV 4/5; 12/12] END algorithm=kd_tree, metric=euclidean, n_neighbors=10, weights=uniform;, score=0.576 total time=  11.3s\n",
            "[CV 5/5; 12/12] START algorithm=kd_tree, metric=euclidean, n_neighbors=10, weights=uniform\n",
            "[CV 5/5; 12/12] END algorithm=kd_tree, metric=euclidean, n_neighbors=10, weights=uniform;, score=0.585 total time=  13.5s\n"
          ]
        }
      ]
    },
    {
      "cell_type": "code",
      "source": [
        "print(grid_search_knn.best_params_)"
      ],
      "metadata": {
        "colab": {
          "base_uri": "https://localhost:8080/"
        },
        "id": "AdoH_HgAF6W3",
        "outputId": "64aee29e-b44c-41ca-cead-02cd227fe0ff"
      },
      "id": "AdoH_HgAF6W3",
      "execution_count": null,
      "outputs": [
        {
          "output_type": "stream",
          "name": "stdout",
          "text": [
            "{'algorithm': 'auto', 'metric': 'euclidean', 'n_neighbors': 8, 'weights': 'uniform'}\n"
          ]
        }
      ]
    },
    {
      "cell_type": "code",
      "execution_count": null,
      "id": "BgBPOzKGA5Y5",
      "metadata": {
        "id": "BgBPOzKGA5Y5"
      },
      "outputs": [],
      "source": [
        "from sklearn.neighbors import KNeighborsClassifier\n",
        "from sklearn import metrics\n",
        "knn = KNeighborsClassifier(algorithm = 'auto', metric = 'euclidean',n_neighbors = 100, weights = 'uniform')\n",
        "knn.fit(X_train_scaled_m2,y_train_m2)\n",
        "y_pred_knn_m2= knn.predict(X_test_scaled_m2)\n",
        "mean_acc = metrics.accuracy_score(y_test_m2, y_pred_knn_m2)"
      ]
    },
    {
      "cell_type": "code",
      "source": [
        "# Get the hyperparameters\n",
        "hyperparameters = knn.get_params()\n",
        "\n",
        "# Print the hyperparameters\n",
        "print(\"Hyperparameters:\")\n",
        "for param, value in hyperparameters.items():\n",
        "    print(f\"{param}: {value}\")"
      ],
      "metadata": {
        "colab": {
          "base_uri": "https://localhost:8080/"
        },
        "id": "rge5n8gRDeJG",
        "outputId": "7aa058e1-11cf-4ac7-b434-0242ba5ac2d9"
      },
      "id": "rge5n8gRDeJG",
      "execution_count": null,
      "outputs": [
        {
          "output_type": "stream",
          "name": "stdout",
          "text": [
            "Hyperparameters:\n",
            "algorithm: auto\n",
            "leaf_size: 30\n",
            "metric: euclidean\n",
            "metric_params: None\n",
            "n_jobs: None\n",
            "n_neighbors: 100\n",
            "p: 2\n",
            "weights: uniform\n"
          ]
        }
      ]
    },
    {
      "cell_type": "code",
      "source": [
        "from sklearn.metrics import classification_report\n",
        "print(classification_report(y_test_m2, y_pred_knn_m2)) #k = 100"
      ],
      "metadata": {
        "colab": {
          "base_uri": "https://localhost:8080/"
        },
        "id": "RmHaBP2XwHay",
        "outputId": "906fcc62-97c9-4de6-e572-a927142ac855"
      },
      "id": "RmHaBP2XwHay",
      "execution_count": null,
      "outputs": [
        {
          "output_type": "stream",
          "name": "stdout",
          "text": [
            "              precision    recall  f1-score   support\n",
            "\n",
            "           0       0.34      0.39      0.36     11356\n",
            "           1       0.32      0.28      0.30     11405\n",
            "           2       0.95      0.95      0.95     94071\n",
            "           3       0.82      0.72      0.76       375\n",
            "\n",
            "    accuracy                           0.83    117207\n",
            "   macro avg       0.61      0.59      0.59    117207\n",
            "weighted avg       0.83      0.83      0.83    117207\n",
            "\n"
          ]
        }
      ]
    },
    {
      "cell_type": "code",
      "source": [
        "# Confusion Matrix\n",
        "from sklearn.metrics import confusion_matrix\n",
        "print(\"Confusion Matrix:\\n\")\n",
        "print(confusion_matrix(y_test_m2,y_pred_knn_m2)) #k= 100"
      ],
      "metadata": {
        "colab": {
          "base_uri": "https://localhost:8080/"
        },
        "id": "0NmEBy2YwMo6",
        "outputId": "54c750b8-1a67-487b-e0df-764e003f6e11"
      },
      "id": "0NmEBy2YwMo6",
      "execution_count": null,
      "outputs": [
        {
          "output_type": "stream",
          "name": "stdout",
          "text": [
            "Confusion Matrix:\n",
            "\n",
            "[[ 4457  4746  2153     0]\n",
            " [ 5993  3239  2173     0]\n",
            " [ 2820  2243 88947    61]\n",
            " [   18    17    70   270]]\n"
          ]
        }
      ]
    },
    {
      "cell_type": "code",
      "source": [
        "from sklearn.metrics import classification_report\n",
        "print(classification_report(y_test_m2, y_pred_knn_m2)) #k = 200"
      ],
      "metadata": {
        "colab": {
          "base_uri": "https://localhost:8080/"
        },
        "id": "-TroXOAy1Zzh",
        "outputId": "5e764548-b9d8-4765-ba66-16877641e1a4"
      },
      "id": "-TroXOAy1Zzh",
      "execution_count": null,
      "outputs": [
        {
          "output_type": "stream",
          "name": "stdout",
          "text": [
            "              precision    recall  f1-score   support\n",
            "\n",
            "           0       0.35      0.40      0.37     11356\n",
            "           1       0.34      0.32      0.33     11405\n",
            "           2       0.95      0.95      0.95     94071\n",
            "           3       0.84      0.67      0.74       375\n",
            "\n",
            "    accuracy                           0.83    117207\n",
            "   macro avg       0.62      0.58      0.60    117207\n",
            "weighted avg       0.84      0.83      0.83    117207\n",
            "\n"
          ]
        }
      ]
    },
    {
      "cell_type": "code",
      "source": [
        "# Confusion Matrix\n",
        "from sklearn.metrics import confusion_matrix\n",
        "print(\"Confusion Matrix:\\n\")\n",
        "print(confusion_matrix(y_test_m2,y_pred_knn_m2)) #k= 200"
      ],
      "metadata": {
        "colab": {
          "base_uri": "https://localhost:8080/"
        },
        "id": "fnkFc9RS1Z69",
        "outputId": "60677539-dd85-4c0a-ce91-62b60b8b7b1b"
      },
      "id": "fnkFc9RS1Z69",
      "execution_count": null,
      "outputs": [
        {
          "output_type": "stream",
          "name": "stdout",
          "text": [
            "Confusion Matrix:\n",
            "\n",
            "[[ 4565  4654  2137     0]\n",
            " [ 5714  3595  2096     0]\n",
            " [ 2757  2180 89085    49]\n",
            " [   17    18    89   251]]\n"
          ]
        }
      ]
    },
    {
      "cell_type": "markdown",
      "source": [
        "## Other Classification Algorithms"
      ],
      "metadata": {
        "id": "EH_jFfERWYJn"
      },
      "id": "EH_jFfERWYJn"
    },
    {
      "cell_type": "code",
      "source": [
        "from sklearn.naive_bayes import GaussianNB\n",
        "from sklearn.ensemble import GradientBoostingClassifier\n",
        "from sklearn.discriminant_analysis import LinearDiscriminantAnalysis\n",
        "from sklearn.discriminant_analysis import QuadraticDiscriminantAnalysis\n",
        "from sklearn.neural_network import MLPClassifier"
      ],
      "metadata": {
        "id": "-7StNcNKhNlc"
      },
      "id": "-7StNcNKhNlc",
      "execution_count": null,
      "outputs": []
    },
    {
      "cell_type": "code",
      "source": [
        "# Define the models\n",
        "gradient_boosting_classifier = GradientBoostingClassifier()\n",
        "gaussian_nb_classifier = GaussianNB()\n",
        "mlp_classifier= MLPClassifier()\n",
        "lda_classifier = LinearDiscriminantAnalysis()\n",
        "qda_classfier = QuadraticDiscriminantAnalysis()"
      ],
      "metadata": {
        "id": "l3cpaVFMhNpG"
      },
      "id": "l3cpaVFMhNpG",
      "execution_count": null,
      "outputs": []
    },
    {
      "cell_type": "code",
      "source": [
        "from sklearn.metrics import classification_report, confusion_matrix\n",
        "# Define a dictionary to store results\n",
        "results = {}\n",
        "\n",
        "# Iterate through each classifier\n",
        "classifiers = {\n",
        "    'GradientBoostingClassifier': gradient_boosting_classifier,\n",
        "    'GaussianNB': gaussian_nb_classifier,\n",
        "    'MLPClassifier': mlp_classifier,\n",
        "    'LinearDiscriminantAnalysis': lda_classifier,\n",
        "    'QuadraticDiscriminantAnalysis': qda_classfier\n",
        "}\n",
        "\n",
        "for classifier_name, classifier in classifiers.items():\n",
        "    # Train the classifier\n",
        "    classifier.fit(X_train_scaled_m2,y_train_m2)\n",
        "\n",
        "    # Make predictions\n",
        "    predictions = classifier.predict(X_test_scaled_m2)\n",
        "\n",
        "    # Calculate accuracy\n",
        "    accuracy = metrics.accuracy_score(y_test_m2, predictions)\n",
        "\n",
        "    # Print the accuracy\n",
        "    print(f\"Accuracy of {classifier_name}: {accuracy}\")\n",
        "\n",
        "    # Calculate and print the classification report\n",
        "    classification_rep = classification_report(y_test_m2, predictions)\n",
        "    print(f\"Classification Report for {classifier_name}:\\n{classification_rep}\")\n",
        "\n",
        "    # Calculate and print the confusion matrix\n",
        "    confusion_mat = confusion_matrix(y_test_m2, predictions)\n",
        "    print(f\"Confusion Matrix for {classifier_name}:\\n{confusion_mat}\")\n",
        "    print(\"\\n\")\n",
        "\n",
        "    # Store the results in the dictionary\n",
        "    results[classifier_name] = {\n",
        "        'Accuracy': accuracy,\n",
        "        'Classification Report': classification_rep,\n",
        "        'Confusion Matrix': confusion_mat\n",
        "    }"
      ],
      "metadata": {
        "colab": {
          "base_uri": "https://localhost:8080/"
        },
        "id": "CIg37RX2evuV",
        "outputId": "8d636a55-0b21-419b-efa5-611c1a375d51"
      },
      "id": "CIg37RX2evuV",
      "execution_count": null,
      "outputs": [
        {
          "output_type": "stream",
          "name": "stdout",
          "text": [
            "Accuracy of GradientBoostingClassifier: 0.8440024913187779\n",
            "Classification Report for GradientBoostingClassifier:\n",
            "              precision    recall  f1-score   support\n",
            "\n",
            "           0       0.36      0.59      0.45     11356\n",
            "           1       0.40      0.34      0.37     11405\n",
            "           2       0.99      0.94      0.96     94071\n",
            "           3       0.99      0.82      0.90       375\n",
            "\n",
            "    accuracy                           0.84    117207\n",
            "   macro avg       0.69      0.67      0.67    117207\n",
            "weighted avg       0.87      0.84      0.85    117207\n",
            "\n",
            "Confusion Matrix for GradientBoostingClassifier:\n",
            "[[ 6663  4279   413     1]\n",
            " [ 7132  3852   421     0]\n",
            " [ 4559  1409 88102     1]\n",
            " [   10    24    35   306]]\n",
            "\n",
            "\n",
            "Accuracy of GaussianNB: 0.842901874461423\n",
            "Classification Report for GaussianNB:\n",
            "              precision    recall  f1-score   support\n",
            "\n",
            "           0       0.39      0.98      0.56     11356\n",
            "           1       0.33      0.00      0.00     11405\n",
            "           2       0.99      0.93      0.96     94071\n",
            "           3       0.12      0.09      0.10       375\n",
            "\n",
            "    accuracy                           0.84    117207\n",
            "   macro avg       0.46      0.50      0.40    117207\n",
            "weighted avg       0.87      0.84      0.83    117207\n",
            "\n",
            "Confusion Matrix for GaussianNB:\n",
            "[[11078     1   215    62]\n",
            " [11129     1   215    60]\n",
            " [ 6284     1 87683   103]\n",
            " [    0     0   343    32]]\n",
            "\n",
            "\n",
            "Accuracy of MLPClassifier: 0.845452916634672\n",
            "Classification Report for MLPClassifier:\n",
            "              precision    recall  f1-score   support\n",
            "\n",
            "           0       0.40      0.22      0.28     11356\n",
            "           1       0.41      0.54      0.47     11405\n",
            "           2       0.94      0.96      0.95     94071\n",
            "           3       0.71      0.22      0.34       375\n",
            "\n",
            "    accuracy                           0.85    117207\n",
            "   macro avg       0.62      0.49      0.51    117207\n",
            "weighted avg       0.84      0.85      0.84    117207\n",
            "\n",
            "Confusion Matrix for MLPClassifier:\n",
            "[[ 2474  6208  2674     0]\n",
            " [ 2518  6182  2705     0]\n",
            " [ 1187  2496 90353    35]\n",
            " [    0    60   231    84]]\n",
            "\n",
            "\n",
            "Accuracy of LinearDiscriminantAnalysis: 0.8118542407876662\n",
            "Classification Report for LinearDiscriminantAnalysis:\n",
            "              precision    recall  f1-score   support\n",
            "\n",
            "           0       0.36      0.45      0.40     11356\n",
            "           1       0.00      0.00      0.00     11405\n",
            "           2       0.88      0.96      0.91     94071\n",
            "           3       0.18      0.07      0.10       375\n",
            "\n",
            "    accuracy                           0.81    117207\n",
            "   macro avg       0.35      0.37      0.35    117207\n",
            "weighted avg       0.74      0.81      0.77    117207\n",
            "\n",
            "Confusion Matrix for LinearDiscriminantAnalysis:\n",
            "[[ 5165     0  6149    42]\n",
            " [ 5222     0  6143    40]\n",
            " [ 4068     2 89964    37]\n",
            " [    0     0   349    26]]\n",
            "\n",
            "\n"
          ]
        },
        {
          "output_type": "stream",
          "name": "stderr",
          "text": [
            "/usr/local/lib/python3.10/dist-packages/sklearn/discriminant_analysis.py:926: UserWarning: Variables are collinear\n",
            "  warnings.warn(\"Variables are collinear\")\n"
          ]
        },
        {
          "output_type": "stream",
          "name": "stdout",
          "text": [
            "Accuracy of QuadraticDiscriminantAnalysis: 0.84436083169094\n",
            "Classification Report for QuadraticDiscriminantAnalysis:\n",
            "              precision    recall  f1-score   support\n",
            "\n",
            "           0       0.39      0.27      0.32     11356\n",
            "           1       0.39      0.72      0.50     11405\n",
            "           2       1.00      0.93      0.96     94071\n",
            "           3       0.28      0.26      0.27       375\n",
            "\n",
            "    accuracy                           0.84    117207\n",
            "   macro avg       0.51      0.54      0.51    117207\n",
            "weighted avg       0.88      0.84      0.85    117207\n",
            "\n",
            "Confusion Matrix for QuadraticDiscriminantAnalysis:\n",
            "[[ 3049  8194    40    73]\n",
            " [ 3137  8156    41    71]\n",
            " [ 1701  4597 87664   109]\n",
            " [    7    31   241    96]]\n",
            "\n",
            "\n"
          ]
        }
      ]
    },
    {
      "cell_type": "markdown",
      "source": [
        "## GRADIENT BOOSTING CLASSIFIER"
      ],
      "metadata": {
        "id": "efqAvX5q29qt"
      },
      "id": "efqAvX5q29qt"
    },
    {
      "cell_type": "code",
      "source": [
        "from sklearn.ensemble import GradientBoostingClassifier\n",
        "gbc = GradientBoostingClassifier()\n",
        "gbc.fit(X_train_scaled_m2,y_train_m2)"
      ],
      "metadata": {
        "colab": {
          "base_uri": "https://localhost:8080/",
          "height": 74
        },
        "id": "yas8biUI28wO",
        "outputId": "2d40ef64-058b-49ee-f0cf-5a0a18572640"
      },
      "id": "yas8biUI28wO",
      "execution_count": null,
      "outputs": [
        {
          "output_type": "execute_result",
          "data": {
            "text/plain": [
              "GradientBoostingClassifier()"
            ],
            "text/html": [
              "<style>#sk-container-id-1 {color: black;background-color: white;}#sk-container-id-1 pre{padding: 0;}#sk-container-id-1 div.sk-toggleable {background-color: white;}#sk-container-id-1 label.sk-toggleable__label {cursor: pointer;display: block;width: 100%;margin-bottom: 0;padding: 0.3em;box-sizing: border-box;text-align: center;}#sk-container-id-1 label.sk-toggleable__label-arrow:before {content: \"▸\";float: left;margin-right: 0.25em;color: #696969;}#sk-container-id-1 label.sk-toggleable__label-arrow:hover:before {color: black;}#sk-container-id-1 div.sk-estimator:hover label.sk-toggleable__label-arrow:before {color: black;}#sk-container-id-1 div.sk-toggleable__content {max-height: 0;max-width: 0;overflow: hidden;text-align: left;background-color: #f0f8ff;}#sk-container-id-1 div.sk-toggleable__content pre {margin: 0.2em;color: black;border-radius: 0.25em;background-color: #f0f8ff;}#sk-container-id-1 input.sk-toggleable__control:checked~div.sk-toggleable__content {max-height: 200px;max-width: 100%;overflow: auto;}#sk-container-id-1 input.sk-toggleable__control:checked~label.sk-toggleable__label-arrow:before {content: \"▾\";}#sk-container-id-1 div.sk-estimator input.sk-toggleable__control:checked~label.sk-toggleable__label {background-color: #d4ebff;}#sk-container-id-1 div.sk-label input.sk-toggleable__control:checked~label.sk-toggleable__label {background-color: #d4ebff;}#sk-container-id-1 input.sk-hidden--visually {border: 0;clip: rect(1px 1px 1px 1px);clip: rect(1px, 1px, 1px, 1px);height: 1px;margin: -1px;overflow: hidden;padding: 0;position: absolute;width: 1px;}#sk-container-id-1 div.sk-estimator {font-family: monospace;background-color: #f0f8ff;border: 1px dotted black;border-radius: 0.25em;box-sizing: border-box;margin-bottom: 0.5em;}#sk-container-id-1 div.sk-estimator:hover {background-color: #d4ebff;}#sk-container-id-1 div.sk-parallel-item::after {content: \"\";width: 100%;border-bottom: 1px solid gray;flex-grow: 1;}#sk-container-id-1 div.sk-label:hover label.sk-toggleable__label {background-color: #d4ebff;}#sk-container-id-1 div.sk-serial::before {content: \"\";position: absolute;border-left: 1px solid gray;box-sizing: border-box;top: 0;bottom: 0;left: 50%;z-index: 0;}#sk-container-id-1 div.sk-serial {display: flex;flex-direction: column;align-items: center;background-color: white;padding-right: 0.2em;padding-left: 0.2em;position: relative;}#sk-container-id-1 div.sk-item {position: relative;z-index: 1;}#sk-container-id-1 div.sk-parallel {display: flex;align-items: stretch;justify-content: center;background-color: white;position: relative;}#sk-container-id-1 div.sk-item::before, #sk-container-id-1 div.sk-parallel-item::before {content: \"\";position: absolute;border-left: 1px solid gray;box-sizing: border-box;top: 0;bottom: 0;left: 50%;z-index: -1;}#sk-container-id-1 div.sk-parallel-item {display: flex;flex-direction: column;z-index: 1;position: relative;background-color: white;}#sk-container-id-1 div.sk-parallel-item:first-child::after {align-self: flex-end;width: 50%;}#sk-container-id-1 div.sk-parallel-item:last-child::after {align-self: flex-start;width: 50%;}#sk-container-id-1 div.sk-parallel-item:only-child::after {width: 0;}#sk-container-id-1 div.sk-dashed-wrapped {border: 1px dashed gray;margin: 0 0.4em 0.5em 0.4em;box-sizing: border-box;padding-bottom: 0.4em;background-color: white;}#sk-container-id-1 div.sk-label label {font-family: monospace;font-weight: bold;display: inline-block;line-height: 1.2em;}#sk-container-id-1 div.sk-label-container {text-align: center;}#sk-container-id-1 div.sk-container {/* jupyter's `normalize.less` sets `[hidden] { display: none; }` but bootstrap.min.css set `[hidden] { display: none !important; }` so we also need the `!important` here to be able to override the default hidden behavior on the sphinx rendered scikit-learn.org. See: https://github.com/scikit-learn/scikit-learn/issues/21755 */display: inline-block !important;position: relative;}#sk-container-id-1 div.sk-text-repr-fallback {display: none;}</style><div id=\"sk-container-id-1\" class=\"sk-top-container\"><div class=\"sk-text-repr-fallback\"><pre>GradientBoostingClassifier()</pre><b>In a Jupyter environment, please rerun this cell to show the HTML representation or trust the notebook. <br />On GitHub, the HTML representation is unable to render, please try loading this page with nbviewer.org.</b></div><div class=\"sk-container\" hidden><div class=\"sk-item\"><div class=\"sk-estimator sk-toggleable\"><input class=\"sk-toggleable__control sk-hidden--visually\" id=\"sk-estimator-id-1\" type=\"checkbox\" checked><label for=\"sk-estimator-id-1\" class=\"sk-toggleable__label sk-toggleable__label-arrow\">GradientBoostingClassifier</label><div class=\"sk-toggleable__content\"><pre>GradientBoostingClassifier()</pre></div></div></div></div></div>"
            ]
          },
          "metadata": {},
          "execution_count": 34
        }
      ]
    },
    {
      "cell_type": "code",
      "source": [
        "# Get the hyperparameters\n",
        "hyperparameters = gbc.get_params()\n",
        "\n",
        "# Print the hyperparameters\n",
        "print(\"Hyperparameters:\")\n",
        "for param, value in hyperparameters.items():\n",
        "    print(f\"{param}: {value}\")"
      ],
      "metadata": {
        "colab": {
          "base_uri": "https://localhost:8080/"
        },
        "id": "MoRXH187ERIC",
        "outputId": "43d69006-0644-44cd-8f76-c64c1b4386ef"
      },
      "id": "MoRXH187ERIC",
      "execution_count": null,
      "outputs": [
        {
          "output_type": "stream",
          "name": "stdout",
          "text": [
            "Hyperparameters:\n",
            "ccp_alpha: 0.0\n",
            "criterion: friedman_mse\n",
            "init: None\n",
            "learning_rate: 0.1\n",
            "loss: log_loss\n",
            "max_depth: 3\n",
            "max_features: None\n",
            "max_leaf_nodes: None\n",
            "min_impurity_decrease: 0.0\n",
            "min_samples_leaf: 1\n",
            "min_samples_split: 2\n",
            "min_weight_fraction_leaf: 0.0\n",
            "n_estimators: 100\n",
            "n_iter_no_change: None\n",
            "random_state: None\n",
            "subsample: 1.0\n",
            "tol: 0.0001\n",
            "validation_fraction: 0.1\n",
            "verbose: 0\n",
            "warm_start: False\n"
          ]
        }
      ]
    },
    {
      "cell_type": "code",
      "source": [
        "y_pred_gbc_m2 = gbc.predict(X_test_scaled_m2)"
      ],
      "metadata": {
        "id": "y4p6zkY928z9"
      },
      "id": "y4p6zkY928z9",
      "execution_count": null,
      "outputs": []
    },
    {
      "cell_type": "code",
      "source": [
        "# Calculate and print the classification report\n",
        "from sklearn.metrics import classification_report\n",
        "classification_rep = classification_report(y_test_m2, y_pred_gbc_m2)\n",
        "print(classification_rep)"
      ],
      "metadata": {
        "colab": {
          "base_uri": "https://localhost:8080/"
        },
        "id": "cQk2uisE3dmi",
        "outputId": "c7dc0c55-5b25-46d5-8829-bb2b1b908424"
      },
      "id": "cQk2uisE3dmi",
      "execution_count": null,
      "outputs": [
        {
          "output_type": "stream",
          "name": "stdout",
          "text": [
            "              precision    recall  f1-score   support\n",
            "\n",
            "           0       0.36      0.59      0.45     11356\n",
            "           1       0.40      0.34      0.37     11405\n",
            "           2       0.99      0.94      0.96     94071\n",
            "           3       0.99      0.82      0.90       375\n",
            "\n",
            "    accuracy                           0.84    117207\n",
            "   macro avg       0.69      0.67      0.67    117207\n",
            "weighted avg       0.87      0.84      0.85    117207\n",
            "\n"
          ]
        }
      ]
    },
    {
      "cell_type": "code",
      "source": [
        "# Calculate and print the confusion matrix\n",
        "from sklearn.metrics import confusion_matrix\n",
        "confusion_mat = confusion_matrix(y_test_m2, y_pred_gbc_m2)\n",
        "print(confusion_mat)"
      ],
      "metadata": {
        "colab": {
          "base_uri": "https://localhost:8080/"
        },
        "id": "OUeu1xHI29Hu",
        "outputId": "530eda89-3da6-48d9-9da9-e2b974def4b2"
      },
      "id": "OUeu1xHI29Hu",
      "execution_count": null,
      "outputs": [
        {
          "output_type": "stream",
          "name": "stdout",
          "text": [
            "[[ 6663  4279   413     1]\n",
            " [ 7132  3852   421     0]\n",
            " [ 4559  1409 88102     1]\n",
            " [   10    24    35   306]]\n"
          ]
        }
      ]
    },
    {
      "cell_type": "markdown",
      "source": [
        "## MLP CLASSIFIER"
      ],
      "metadata": {
        "id": "7z2tSfTv32Yq"
      },
      "id": "7z2tSfTv32Yq"
    },
    {
      "cell_type": "code",
      "source": [
        "from sklearn.neural_network import MLPClassifier\n",
        "mlp= MLPClassifier()\n",
        "mlp.fit(X_train_scaled_m2,y_train_m2)"
      ],
      "metadata": {
        "colab": {
          "base_uri": "https://localhost:8080/",
          "height": 74
        },
        "id": "GO6yW8DK36Sb",
        "outputId": "f8e97a2c-0a95-4458-dc5a-7a24ceb12642"
      },
      "id": "GO6yW8DK36Sb",
      "execution_count": null,
      "outputs": [
        {
          "output_type": "execute_result",
          "data": {
            "text/plain": [
              "MLPClassifier()"
            ],
            "text/html": [
              "<style>#sk-container-id-2 {color: black;background-color: white;}#sk-container-id-2 pre{padding: 0;}#sk-container-id-2 div.sk-toggleable {background-color: white;}#sk-container-id-2 label.sk-toggleable__label {cursor: pointer;display: block;width: 100%;margin-bottom: 0;padding: 0.3em;box-sizing: border-box;text-align: center;}#sk-container-id-2 label.sk-toggleable__label-arrow:before {content: \"▸\";float: left;margin-right: 0.25em;color: #696969;}#sk-container-id-2 label.sk-toggleable__label-arrow:hover:before {color: black;}#sk-container-id-2 div.sk-estimator:hover label.sk-toggleable__label-arrow:before {color: black;}#sk-container-id-2 div.sk-toggleable__content {max-height: 0;max-width: 0;overflow: hidden;text-align: left;background-color: #f0f8ff;}#sk-container-id-2 div.sk-toggleable__content pre {margin: 0.2em;color: black;border-radius: 0.25em;background-color: #f0f8ff;}#sk-container-id-2 input.sk-toggleable__control:checked~div.sk-toggleable__content {max-height: 200px;max-width: 100%;overflow: auto;}#sk-container-id-2 input.sk-toggleable__control:checked~label.sk-toggleable__label-arrow:before {content: \"▾\";}#sk-container-id-2 div.sk-estimator input.sk-toggleable__control:checked~label.sk-toggleable__label {background-color: #d4ebff;}#sk-container-id-2 div.sk-label input.sk-toggleable__control:checked~label.sk-toggleable__label {background-color: #d4ebff;}#sk-container-id-2 input.sk-hidden--visually {border: 0;clip: rect(1px 1px 1px 1px);clip: rect(1px, 1px, 1px, 1px);height: 1px;margin: -1px;overflow: hidden;padding: 0;position: absolute;width: 1px;}#sk-container-id-2 div.sk-estimator {font-family: monospace;background-color: #f0f8ff;border: 1px dotted black;border-radius: 0.25em;box-sizing: border-box;margin-bottom: 0.5em;}#sk-container-id-2 div.sk-estimator:hover {background-color: #d4ebff;}#sk-container-id-2 div.sk-parallel-item::after {content: \"\";width: 100%;border-bottom: 1px solid gray;flex-grow: 1;}#sk-container-id-2 div.sk-label:hover label.sk-toggleable__label {background-color: #d4ebff;}#sk-container-id-2 div.sk-serial::before {content: \"\";position: absolute;border-left: 1px solid gray;box-sizing: border-box;top: 0;bottom: 0;left: 50%;z-index: 0;}#sk-container-id-2 div.sk-serial {display: flex;flex-direction: column;align-items: center;background-color: white;padding-right: 0.2em;padding-left: 0.2em;position: relative;}#sk-container-id-2 div.sk-item {position: relative;z-index: 1;}#sk-container-id-2 div.sk-parallel {display: flex;align-items: stretch;justify-content: center;background-color: white;position: relative;}#sk-container-id-2 div.sk-item::before, #sk-container-id-2 div.sk-parallel-item::before {content: \"\";position: absolute;border-left: 1px solid gray;box-sizing: border-box;top: 0;bottom: 0;left: 50%;z-index: -1;}#sk-container-id-2 div.sk-parallel-item {display: flex;flex-direction: column;z-index: 1;position: relative;background-color: white;}#sk-container-id-2 div.sk-parallel-item:first-child::after {align-self: flex-end;width: 50%;}#sk-container-id-2 div.sk-parallel-item:last-child::after {align-self: flex-start;width: 50%;}#sk-container-id-2 div.sk-parallel-item:only-child::after {width: 0;}#sk-container-id-2 div.sk-dashed-wrapped {border: 1px dashed gray;margin: 0 0.4em 0.5em 0.4em;box-sizing: border-box;padding-bottom: 0.4em;background-color: white;}#sk-container-id-2 div.sk-label label {font-family: monospace;font-weight: bold;display: inline-block;line-height: 1.2em;}#sk-container-id-2 div.sk-label-container {text-align: center;}#sk-container-id-2 div.sk-container {/* jupyter's `normalize.less` sets `[hidden] { display: none; }` but bootstrap.min.css set `[hidden] { display: none !important; }` so we also need the `!important` here to be able to override the default hidden behavior on the sphinx rendered scikit-learn.org. See: https://github.com/scikit-learn/scikit-learn/issues/21755 */display: inline-block !important;position: relative;}#sk-container-id-2 div.sk-text-repr-fallback {display: none;}</style><div id=\"sk-container-id-2\" class=\"sk-top-container\"><div class=\"sk-text-repr-fallback\"><pre>MLPClassifier()</pre><b>In a Jupyter environment, please rerun this cell to show the HTML representation or trust the notebook. <br />On GitHub, the HTML representation is unable to render, please try loading this page with nbviewer.org.</b></div><div class=\"sk-container\" hidden><div class=\"sk-item\"><div class=\"sk-estimator sk-toggleable\"><input class=\"sk-toggleable__control sk-hidden--visually\" id=\"sk-estimator-id-2\" type=\"checkbox\" checked><label for=\"sk-estimator-id-2\" class=\"sk-toggleable__label sk-toggleable__label-arrow\">MLPClassifier</label><div class=\"sk-toggleable__content\"><pre>MLPClassifier()</pre></div></div></div></div></div>"
            ]
          },
          "metadata": {},
          "execution_count": 57
        }
      ]
    },
    {
      "cell_type": "code",
      "source": [
        "# Get the hyperparameters\n",
        "hyperparameters = mlp.get_params()\n",
        "\n",
        "# Print the hyperparameters\n",
        "print(\"Hyperparameters:\")\n",
        "for param, value in hyperparameters.items():\n",
        "    print(f\"{param}: {value}\")"
      ],
      "metadata": {
        "colab": {
          "base_uri": "https://localhost:8080/"
        },
        "id": "FDO8CpRzEVUR",
        "outputId": "f621adc2-f10e-4f1e-b403-7f72fb5b3069"
      },
      "id": "FDO8CpRzEVUR",
      "execution_count": null,
      "outputs": [
        {
          "output_type": "stream",
          "name": "stdout",
          "text": [
            "Hyperparameters:\n",
            "activation: relu\n",
            "alpha: 0.0001\n",
            "batch_size: auto\n",
            "beta_1: 0.9\n",
            "beta_2: 0.999\n",
            "early_stopping: False\n",
            "epsilon: 1e-08\n",
            "hidden_layer_sizes: (100,)\n",
            "learning_rate: constant\n",
            "learning_rate_init: 0.001\n",
            "max_fun: 15000\n",
            "max_iter: 200\n",
            "momentum: 0.9\n",
            "n_iter_no_change: 10\n",
            "nesterovs_momentum: True\n",
            "power_t: 0.5\n",
            "random_state: None\n",
            "shuffle: True\n",
            "solver: adam\n",
            "tol: 0.0001\n",
            "validation_fraction: 0.1\n",
            "verbose: False\n",
            "warm_start: False\n"
          ]
        }
      ]
    },
    {
      "cell_type": "code",
      "source": [
        "y_pred_mlp_m2 = mlp.predict(X_test_scaled_m2)"
      ],
      "metadata": {
        "id": "8cbnsVvY36Wr"
      },
      "id": "8cbnsVvY36Wr",
      "execution_count": null,
      "outputs": []
    },
    {
      "cell_type": "code",
      "source": [
        "classification_rep = classification_report(y_test_m2, y_pred_mlp_m2)\n",
        "print(classification_rep)"
      ],
      "metadata": {
        "colab": {
          "base_uri": "https://localhost:8080/"
        },
        "id": "8a5vstxY36aK",
        "outputId": "badc541f-640f-4a74-a469-7a521ca80a2b"
      },
      "id": "8a5vstxY36aK",
      "execution_count": null,
      "outputs": [
        {
          "output_type": "stream",
          "name": "stdout",
          "text": [
            "              precision    recall  f1-score   support\n",
            "\n",
            "           0       0.41      0.60      0.48     11356\n",
            "           1       0.37      0.34      0.35     11405\n",
            "           2       0.98      0.94      0.96     94071\n",
            "           3       0.78      0.21      0.33       375\n",
            "\n",
            "    accuracy                           0.85    117207\n",
            "   macro avg       0.63      0.52      0.53    117207\n",
            "weighted avg       0.87      0.85      0.85    117207\n",
            "\n"
          ]
        }
      ]
    },
    {
      "cell_type": "code",
      "source": [
        "confusion_mat = confusion_matrix(y_test_m2, y_pred_mlp_m2)\n",
        "print(confusion_mat)"
      ],
      "metadata": {
        "colab": {
          "base_uri": "https://localhost:8080/"
        },
        "id": "m9btzoCn36uB",
        "outputId": "e6eb04bd-cc34-4339-9f43-e13e6cfca926"
      },
      "id": "m9btzoCn36uB",
      "execution_count": null,
      "outputs": [
        {
          "output_type": "stream",
          "name": "stdout",
          "text": [
            "[[ 6808  3893   655     0]\n",
            " [ 6858  3870   677     0]\n",
            " [ 3081  2648 88319    23]\n",
            " [   46     9   240    80]]\n"
          ]
        }
      ]
    },
    {
      "cell_type": "markdown",
      "source": [
        "## QDA CLASSIFIER"
      ],
      "metadata": {
        "id": "VnI-wGr44aYc"
      },
      "id": "VnI-wGr44aYc"
    },
    {
      "cell_type": "code",
      "source": [
        "from sklearn.discriminant_analysis import QuadraticDiscriminantAnalysis\n",
        "qda = QuadraticDiscriminantAnalysis()\n",
        "qda.fit(X_train_scaled_m2,y_train_m2)"
      ],
      "metadata": {
        "colab": {
          "base_uri": "https://localhost:8080/",
          "height": 110
        },
        "id": "S6sJ07834l6e",
        "outputId": "6afbf0a8-9d72-4e98-9278-d262ae536626"
      },
      "id": "S6sJ07834l6e",
      "execution_count": null,
      "outputs": [
        {
          "output_type": "stream",
          "name": "stderr",
          "text": [
            "/usr/local/lib/python3.10/dist-packages/sklearn/discriminant_analysis.py:926: UserWarning: Variables are collinear\n",
            "  warnings.warn(\"Variables are collinear\")\n"
          ]
        },
        {
          "output_type": "execute_result",
          "data": {
            "text/plain": [
              "QuadraticDiscriminantAnalysis()"
            ],
            "text/html": [
              "<style>#sk-container-id-3 {color: black;background-color: white;}#sk-container-id-3 pre{padding: 0;}#sk-container-id-3 div.sk-toggleable {background-color: white;}#sk-container-id-3 label.sk-toggleable__label {cursor: pointer;display: block;width: 100%;margin-bottom: 0;padding: 0.3em;box-sizing: border-box;text-align: center;}#sk-container-id-3 label.sk-toggleable__label-arrow:before {content: \"▸\";float: left;margin-right: 0.25em;color: #696969;}#sk-container-id-3 label.sk-toggleable__label-arrow:hover:before {color: black;}#sk-container-id-3 div.sk-estimator:hover label.sk-toggleable__label-arrow:before {color: black;}#sk-container-id-3 div.sk-toggleable__content {max-height: 0;max-width: 0;overflow: hidden;text-align: left;background-color: #f0f8ff;}#sk-container-id-3 div.sk-toggleable__content pre {margin: 0.2em;color: black;border-radius: 0.25em;background-color: #f0f8ff;}#sk-container-id-3 input.sk-toggleable__control:checked~div.sk-toggleable__content {max-height: 200px;max-width: 100%;overflow: auto;}#sk-container-id-3 input.sk-toggleable__control:checked~label.sk-toggleable__label-arrow:before {content: \"▾\";}#sk-container-id-3 div.sk-estimator input.sk-toggleable__control:checked~label.sk-toggleable__label {background-color: #d4ebff;}#sk-container-id-3 div.sk-label input.sk-toggleable__control:checked~label.sk-toggleable__label {background-color: #d4ebff;}#sk-container-id-3 input.sk-hidden--visually {border: 0;clip: rect(1px 1px 1px 1px);clip: rect(1px, 1px, 1px, 1px);height: 1px;margin: -1px;overflow: hidden;padding: 0;position: absolute;width: 1px;}#sk-container-id-3 div.sk-estimator {font-family: monospace;background-color: #f0f8ff;border: 1px dotted black;border-radius: 0.25em;box-sizing: border-box;margin-bottom: 0.5em;}#sk-container-id-3 div.sk-estimator:hover {background-color: #d4ebff;}#sk-container-id-3 div.sk-parallel-item::after {content: \"\";width: 100%;border-bottom: 1px solid gray;flex-grow: 1;}#sk-container-id-3 div.sk-label:hover label.sk-toggleable__label {background-color: #d4ebff;}#sk-container-id-3 div.sk-serial::before {content: \"\";position: absolute;border-left: 1px solid gray;box-sizing: border-box;top: 0;bottom: 0;left: 50%;z-index: 0;}#sk-container-id-3 div.sk-serial {display: flex;flex-direction: column;align-items: center;background-color: white;padding-right: 0.2em;padding-left: 0.2em;position: relative;}#sk-container-id-3 div.sk-item {position: relative;z-index: 1;}#sk-container-id-3 div.sk-parallel {display: flex;align-items: stretch;justify-content: center;background-color: white;position: relative;}#sk-container-id-3 div.sk-item::before, #sk-container-id-3 div.sk-parallel-item::before {content: \"\";position: absolute;border-left: 1px solid gray;box-sizing: border-box;top: 0;bottom: 0;left: 50%;z-index: -1;}#sk-container-id-3 div.sk-parallel-item {display: flex;flex-direction: column;z-index: 1;position: relative;background-color: white;}#sk-container-id-3 div.sk-parallel-item:first-child::after {align-self: flex-end;width: 50%;}#sk-container-id-3 div.sk-parallel-item:last-child::after {align-self: flex-start;width: 50%;}#sk-container-id-3 div.sk-parallel-item:only-child::after {width: 0;}#sk-container-id-3 div.sk-dashed-wrapped {border: 1px dashed gray;margin: 0 0.4em 0.5em 0.4em;box-sizing: border-box;padding-bottom: 0.4em;background-color: white;}#sk-container-id-3 div.sk-label label {font-family: monospace;font-weight: bold;display: inline-block;line-height: 1.2em;}#sk-container-id-3 div.sk-label-container {text-align: center;}#sk-container-id-3 div.sk-container {/* jupyter's `normalize.less` sets `[hidden] { display: none; }` but bootstrap.min.css set `[hidden] { display: none !important; }` so we also need the `!important` here to be able to override the default hidden behavior on the sphinx rendered scikit-learn.org. See: https://github.com/scikit-learn/scikit-learn/issues/21755 */display: inline-block !important;position: relative;}#sk-container-id-3 div.sk-text-repr-fallback {display: none;}</style><div id=\"sk-container-id-3\" class=\"sk-top-container\"><div class=\"sk-text-repr-fallback\"><pre>QuadraticDiscriminantAnalysis()</pre><b>In a Jupyter environment, please rerun this cell to show the HTML representation or trust the notebook. <br />On GitHub, the HTML representation is unable to render, please try loading this page with nbviewer.org.</b></div><div class=\"sk-container\" hidden><div class=\"sk-item\"><div class=\"sk-estimator sk-toggleable\"><input class=\"sk-toggleable__control sk-hidden--visually\" id=\"sk-estimator-id-3\" type=\"checkbox\" checked><label for=\"sk-estimator-id-3\" class=\"sk-toggleable__label sk-toggleable__label-arrow\">QuadraticDiscriminantAnalysis</label><div class=\"sk-toggleable__content\"><pre>QuadraticDiscriminantAnalysis()</pre></div></div></div></div></div>"
            ]
          },
          "metadata": {},
          "execution_count": 65
        }
      ]
    },
    {
      "cell_type": "code",
      "source": [
        "# Get the hyperparameters\n",
        "hyperparameters = qda.get_params()\n",
        "\n",
        "# Print the hyperparameters\n",
        "print(\"Hyperparameters:\")\n",
        "for param, value in hyperparameters.items():\n",
        "    print(f\"{param}: {value}\")"
      ],
      "metadata": {
        "colab": {
          "base_uri": "https://localhost:8080/"
        },
        "id": "lUP7RQfCEYbP",
        "outputId": "d9906551-910c-4aa5-eab0-c3a8de420d1c"
      },
      "id": "lUP7RQfCEYbP",
      "execution_count": null,
      "outputs": [
        {
          "output_type": "stream",
          "name": "stdout",
          "text": [
            "Hyperparameters:\n",
            "priors: None\n",
            "reg_param: 0.0\n",
            "store_covariance: False\n",
            "tol: 0.0001\n"
          ]
        }
      ]
    },
    {
      "cell_type": "code",
      "source": [
        "y_pred_qda_m2 = qda.predict(X_test_scaled_m2)"
      ],
      "metadata": {
        "id": "Qojuazs64mA1"
      },
      "id": "Qojuazs64mA1",
      "execution_count": null,
      "outputs": []
    },
    {
      "cell_type": "code",
      "source": [
        "classification_rep = classification_report(y_test_m2, y_pred_qda_m2)\n",
        "print(classification_rep)"
      ],
      "metadata": {
        "colab": {
          "base_uri": "https://localhost:8080/"
        },
        "id": "tvH5ZxY-4mFq",
        "outputId": "48e0b523-7805-46e6-b9e3-e0285f7e30ad"
      },
      "id": "tvH5ZxY-4mFq",
      "execution_count": null,
      "outputs": [
        {
          "output_type": "stream",
          "name": "stdout",
          "text": [
            "              precision    recall  f1-score   support\n",
            "\n",
            "           0       0.39      0.27      0.32     11356\n",
            "           1       0.39      0.72      0.50     11405\n",
            "           2       1.00      0.93      0.96     94071\n",
            "           3       0.28      0.26      0.27       375\n",
            "\n",
            "    accuracy                           0.84    117207\n",
            "   macro avg       0.51      0.54      0.51    117207\n",
            "weighted avg       0.88      0.84      0.85    117207\n",
            "\n"
          ]
        }
      ]
    },
    {
      "cell_type": "code",
      "source": [
        "confusion_mat = confusion_matrix(y_test_m2, y_pred_qda_m2)\n",
        "print(confusion_mat)"
      ],
      "metadata": {
        "colab": {
          "base_uri": "https://localhost:8080/"
        },
        "id": "bYr0os3Z4mJu",
        "outputId": "f9ebbe3f-f100-446b-c9a5-e0e990f0509e"
      },
      "id": "bYr0os3Z4mJu",
      "execution_count": null,
      "outputs": [
        {
          "output_type": "stream",
          "name": "stdout",
          "text": [
            "[[ 3049  8194    40    73]\n",
            " [ 3137  8156    41    71]\n",
            " [ 1701  4597 87664   109]\n",
            " [    7    31   241    96]]\n"
          ]
        }
      ]
    },
    {
      "cell_type": "markdown",
      "source": [
        "## ENSEMBLING"
      ],
      "metadata": {
        "id": "h4suFePZ2qhh"
      },
      "id": "h4suFePZ2qhh"
    },
    {
      "cell_type": "code",
      "source": [
        "y_pred_knn_m2_proba = knn.predict_proba(X_test_scaled_m2)\n",
        "y_pred_gbc_m2_proba = gbc.predict_proba(X_test_scaled_m2)\n",
        "y_pred_mlp_m2_proba = mlp.predict_proba(X_test_scaled_m2)\n",
        "y_pred_qda_m2_proba = qda.predict_proba(X_test_scaled_m2)"
      ],
      "metadata": {
        "id": "ChPz7THC2po1"
      },
      "id": "ChPz7THC2po1",
      "execution_count": null,
      "outputs": []
    },
    {
      "cell_type": "code",
      "source": [
        "y_pred_ensemble_m2 = ((y_pred_knn_m2_proba + y_pred_gbc_m2_proba + y_pred_mlp_m2_proba+ y_pred_qda_m2_proba)/4).argmax(axis=1)"
      ],
      "metadata": {
        "id": "yiFlKyGN2yKa"
      },
      "id": "yiFlKyGN2yKa",
      "execution_count": null,
      "outputs": []
    },
    {
      "cell_type": "code",
      "source": [
        "classification_rep = classification_report(y_test_m2, y_pred_ensemble_m2)\n",
        "print(classification_rep)"
      ],
      "metadata": {
        "colab": {
          "base_uri": "https://localhost:8080/"
        },
        "id": "GOABYWdj2yQP",
        "outputId": "7687a378-8412-441a-96e2-e8d00c03369b"
      },
      "id": "GOABYWdj2yQP",
      "execution_count": null,
      "outputs": [
        {
          "output_type": "stream",
          "name": "stdout",
          "text": [
            "              precision    recall  f1-score   support\n",
            "\n",
            "           0       0.35      0.49      0.41     11356\n",
            "           1       0.33      0.36      0.34     11405\n",
            "           2       1.00      0.93      0.96     94071\n",
            "           3       0.73      0.78      0.75       375\n",
            "\n",
            "    accuracy                           0.83    117207\n",
            "   macro avg       0.60      0.64      0.62    117207\n",
            "weighted avg       0.87      0.83      0.85    117207\n",
            "\n"
          ]
        }
      ]
    },
    {
      "cell_type": "code",
      "source": [
        "confusion_mat = confusion_matrix(y_test_m2, y_pred_ensemble_m2)\n",
        "print(confusion_mat)"
      ],
      "metadata": {
        "colab": {
          "base_uri": "https://localhost:8080/"
        },
        "id": "3ZfZ1bRw2psH",
        "outputId": "7c27a567-c1c9-4cd0-98de-7870b7817c0a"
      },
      "id": "3ZfZ1bRw2psH",
      "execution_count": null,
      "outputs": [
        {
          "output_type": "stream",
          "name": "stdout",
          "text": [
            "[[ 5599  5632    85    40]\n",
            " [ 7152  4136    79    38]\n",
            " [ 3374  2885 87780    32]\n",
            " [   20    18    46   291]]\n"
          ]
        }
      ]
    },
    {
      "cell_type": "markdown",
      "source": [
        "### ENSEMBLE NEW (KNN + GBC)"
      ],
      "metadata": {
        "id": "F2ai-EdS64cx"
      },
      "id": "F2ai-EdS64cx"
    },
    {
      "cell_type": "code",
      "source": [
        "y_pred_knn_m2_proba = knn.predict_proba(X_test_scaled_m2)\n",
        "y_pred_gbc_m2_proba = gbc.predict_proba(X_test_scaled_m2)"
      ],
      "metadata": {
        "id": "xwcwJ-1d15p6"
      },
      "id": "xwcwJ-1d15p6",
      "execution_count": null,
      "outputs": []
    },
    {
      "cell_type": "code",
      "source": [
        "y_pred_ensemble_m2_new = ((y_pred_knn_m2_proba + y_pred_gbc_m2_proba)/2).argmax(axis=1)"
      ],
      "metadata": {
        "id": "J8CaJkcl15s5"
      },
      "id": "J8CaJkcl15s5",
      "execution_count": null,
      "outputs": []
    },
    {
      "cell_type": "code",
      "source": [
        "classification_rep = classification_report(y_test_m2, y_pred_ensemble_m2_new)\n",
        "print(classification_rep)"
      ],
      "metadata": {
        "colab": {
          "base_uri": "https://localhost:8080/"
        },
        "id": "5CVdCCU31-Vt",
        "outputId": "a29473c2-4e13-4f88-cbcd-5d49d6c871c2"
      },
      "id": "5CVdCCU31-Vt",
      "execution_count": null,
      "outputs": [
        {
          "output_type": "stream",
          "name": "stdout",
          "text": [
            "              precision    recall  f1-score   support\n",
            "\n",
            "           0       0.33      0.35      0.34     11356\n",
            "           1       0.33      0.32      0.32     11405\n",
            "           2       0.95      0.95      0.95     94071\n",
            "           3       1.00      0.82      0.90       375\n",
            "\n",
            "    accuracy                           0.83    117207\n",
            "   macro avg       0.65      0.61      0.63    117207\n",
            "weighted avg       0.83      0.83      0.83    117207\n",
            "\n"
          ]
        }
      ]
    },
    {
      "cell_type": "code",
      "source": [
        "confusion_mat = confusion_matrix(y_test_m2, y_pred_ensemble_m2_new)\n",
        "print(confusion_mat)"
      ],
      "metadata": {
        "colab": {
          "base_uri": "https://localhost:8080/"
        },
        "id": "lWTTxsl11-bU",
        "outputId": "dc5988f2-72d4-4b6e-b8cc-c16262a8be45"
      },
      "id": "lWTTxsl11-bU",
      "execution_count": null,
      "outputs": [
        {
          "output_type": "stream",
          "name": "stdout",
          "text": [
            "[[ 3988  5073  2295     0]\n",
            " [ 5543  3611  2251     0]\n",
            " [ 2705  2176 89190     0]\n",
            " [   11    14    44   306]]\n"
          ]
        }
      ]
    }
  ],
  "metadata": {
    "accelerator": "GPU",
    "colab": {
      "provenance": [],
      "gpuType": "T4"
    },
    "kernelspec": {
      "display_name": "Python 3",
      "name": "python3"
    },
    "language_info": {
      "codemirror_mode": {
        "name": "ipython",
        "version": 3
      },
      "file_extension": ".py",
      "mimetype": "text/x-python",
      "name": "python",
      "nbconvert_exporter": "python",
      "pygments_lexer": "ipython3",
      "version": "3.11.4"
    }
  },
  "nbformat": 4,
  "nbformat_minor": 5
}